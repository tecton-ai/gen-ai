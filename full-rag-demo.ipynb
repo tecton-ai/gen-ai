{
 "cells": [
  {
   "cell_type": "markdown",
   "metadata": {},
   "source": [
    "# Using Prompts, Features as Tools and Knowledge \n",
    "\n",
    "By combining the Tecton GenAI functions, you can provide much better context in for your LLM applications.\n",
    "- The *knowledge* function provides RAG functionality by taking unstructured text and calculating embedding vectors for them and storing them in a vector database that provides similarity search capabilities to better respond to user queries. \n",
    "- The *prompt* provides instructions for the LLM and is enriched with context from feature pipelines or directly from the real-time context.\n",
    "- *Features as tools* give the LLM the ability to retrieve additional data as needed to respond to the user question.\n",
    "\n",
    "\n",
    "<a target=\"_blank\" href=\"https://colab.research.google.com/github/tecton-ai/gen-ai/blob/main/full-rag-demo.ipynb\">\n",
    "  <img src=\"https://colab.research.google.com/assets/colab-badge.svg\" alt=\"Open In Colab\" width=\"150\"/>\n",
    "</a>\n",
    "\n",
    "In this notebook, you will combine all three tools to create an example restaurant recommendation chatbot."
   ]
  },
  {
   "cell_type": "markdown",
   "metadata": {},
   "source": [
    "## Install Packages"
   ]
  },
  {
   "cell_type": "code",
   "execution_count": 4,
   "metadata": {},
   "outputs": [],
   "source": [
    "_ = !pip install 'tecton-gen-ai[tecton,langchain,llama-index,dev]>=0.0.1' langchain-openai llama-index-llms-openai -q"
   ]
  },
  {
   "cell_type": "markdown",
   "metadata": {},
   "source": [
    "## Setup"
   ]
  },
  {
   "cell_type": "code",
   "execution_count": 6,
   "metadata": {},
   "outputs": [],
   "source": [
    "from tecton_gen_ai.testing import set_dev_mode\n",
    "\n",
    "set_dev_mode()"
   ]
  },
  {
   "cell_type": "markdown",
   "metadata": {},
   "source": [
    "In this example you will use an OpenAI gpt-4o LLM model to test. \n",
    "\n",
    "You will need to provide an Open AI API key for this purpose.\n",
    "\n",
    "Replace \"your-openai-key\" with your own key."
   ]
  },
  {
   "cell_type": "code",
   "execution_count": 21,
   "metadata": {},
   "outputs": [],
   "source": [
    "import os\n",
    "\n",
    "# replace with your key\n",
    "os.environ[\"OPENAI_API_KEY\"] = \"your-openai-key\"\n"
   ]
  },
  {
   "cell_type": "code",
   "execution_count": 7,
   "metadata": {},
   "outputs": [],
   "source": [
    "from tecton_gen_ai.fco import prompt\n",
    "from tecton_gen_ai.agent import AgentClient, AgentService\n",
    "\n",
    "# prompt without any user context\n",
    "@prompt()  \n",
    "def sys_prompt( ):\n",
    "    return f\"\"\"\n",
    "    You are a consierge service that recommends restaurants.\n",
    "    Always provide an address.\n",
    "    Always suggested menu items. \n",
    "    \"\"\"\n",
    "\n",
    "#define the Tecton Agent Service specifying the prompts, sources of knowledge and feature tools \n",
    "service = AgentService(\n",
    "    name=\"restaurant_recommender\",\n",
    "    prompts=[sys_prompt],\n",
    ")"
   ]
  },
  {
   "cell_type": "code",
   "execution_count": 9,
   "metadata": {},
   "outputs": [
    {
     "data": {
      "text/html": [
       "<pre style=\"white-space:pre;overflow-x:auto;line-height:normal;font-family:Menlo,'DejaVu Sans Mono',consolas,'Courier New',monospace\">Sure! I recommend trying \"The Rustic\" located at 3656 Howell St, Dallas, TX 75204.                                 \n",
       "\n",
       "Menu highlights include:                                                                                           \n",
       "\n",
       "<span style=\"color: #808000; text-decoration-color: #808000; font-weight: bold\"> • </span><span style=\"font-weight: bold\">Brisket Tacos</span>: Tender brisket with fresh toppings.                                                              \n",
       "<span style=\"color: #808000; text-decoration-color: #808000; font-weight: bold\"> • </span><span style=\"font-weight: bold\">Chicken &amp; Waffles</span>: A delightful combination of crispy fried chicken and fluffy waffles.                         \n",
       "<span style=\"color: #808000; text-decoration-color: #808000; font-weight: bold\"> • </span><span style=\"font-weight: bold\">Pork Chop</span>: Grilled to perfection, served with seasonal vegetables.                                              \n",
       "<span style=\"color: #808000; text-decoration-color: #808000; font-weight: bold\"> • </span><span style=\"font-weight: bold\">House-made S'mores</span>: A sweet ending with toasted marshmallows and chocolate.                                     \n",
       "\n",
       "Enjoy your meal!                                                                                                   \n",
       "</pre>\n"
      ],
      "text/plain": [
       "Sure! I recommend trying \"The Rustic\" located at 3656 Howell St, Dallas, TX 75204.                                 \n",
       "\n",
       "Menu highlights include:                                                                                           \n",
       "\n",
       "\u001b[1;33m • \u001b[0m\u001b[1mBrisket Tacos\u001b[0m: Tender brisket with fresh toppings.                                                              \n",
       "\u001b[1;33m • \u001b[0m\u001b[1mChicken & Waffles\u001b[0m: A delightful combination of crispy fried chicken and fluffy waffles.                         \n",
       "\u001b[1;33m • \u001b[0m\u001b[1mPork Chop\u001b[0m: Grilled to perfection, served with seasonal vegetables.                                              \n",
       "\u001b[1;33m • \u001b[0m\u001b[1mHouse-made S'mores\u001b[0m: A sweet ending with toasted marshmallows and chocolate.                                     \n",
       "\n",
       "Enjoy your meal!                                                                                                   \n"
      ]
     },
     "metadata": {},
     "output_type": "display_data"
    }
   ],
   "source": [
    "from langchain_openai import ChatOpenAI\n",
    "\n",
    "def support_chatbot(service, user_query, context=None):\n",
    "    from tecton_gen_ai.testing.utils import print_md\n",
    "\n",
    "    #create an agent client that provides context for LLM workflows\n",
    "    client = AgentClient.from_local(service)\n",
    "    # instantiate LLM model for  LangChain \n",
    "    langchain_llm = ChatOpenAI(model=\"gpt-4o-mini-2024-07-18\", temperature=0.5)\n",
    "    # create invocable agent for LangChain \n",
    "    langchain_agent = client.make_agent(langchain_llm, system_prompt=\"sys_prompt\")\n",
    "\n",
    "    with client.set_context(context):\n",
    "        print_md(langchain_agent.invoke({\"input\":user_query})[\"output\"])\n",
    "\n",
    "support_chatbot(service, \"recommend a restaurant for tonight\")"
   ]
  },
  {
   "cell_type": "markdown",
   "metadata": {},
   "source": [
    "# A Feature Enriched Prompt \n"
   ]
  },
  {
   "cell_type": "code",
   "execution_count": 11,
   "metadata": {},
   "outputs": [
    {
     "data": {
      "text/html": [
       "<pre style=\"white-space:pre;overflow-x:auto;line-height:normal;font-family:Menlo,'DejaVu Sans Mono',consolas,'Courier New',monospace\">Hi Jane! I recommend trying <span style=\"font-weight: bold\">The Capital Grille</span>. It's a fantastic steakhouse known for its dry-aged steaks and      \n",
       "extensive wine list.                                                                                               \n",
       "\n",
       "<span style=\"font-weight: bold\">Address:</span> 201 N Tryon St, Charlotte, NC 28202                                                                       \n",
       "\n",
       "<span style=\"font-weight: bold\">Suggested Menu Items:</span>                                                                                              \n",
       "\n",
       "<span style=\"color: #808000; text-decoration-color: #808000; font-weight: bold\"> • </span>Bone-in Ribeye                                                                                                  \n",
       "<span style=\"color: #808000; text-decoration-color: #808000; font-weight: bold\"> • </span>Filet Mignon                                                                                                    \n",
       "<span style=\"color: #808000; text-decoration-color: #808000; font-weight: bold\"> • </span>Lobster Mac 'n' Cheese                                                                                          \n",
       "<span style=\"color: #808000; text-decoration-color: #808000; font-weight: bold\"> • </span>24 oz. Porterhouse                                                                                              \n",
       "\n",
       "Enjoy your dinner!                                                                                                 \n",
       "</pre>\n"
      ],
      "text/plain": [
       "Hi Jane! I recommend trying \u001b[1mThe Capital Grille\u001b[0m. It's a fantastic steakhouse known for its dry-aged steaks and      \n",
       "extensive wine list.                                                                                               \n",
       "\n",
       "\u001b[1mAddress:\u001b[0m 201 N Tryon St, Charlotte, NC 28202                                                                       \n",
       "\n",
       "\u001b[1mSuggested Menu Items:\u001b[0m                                                                                              \n",
       "\n",
       "\u001b[1;33m • \u001b[0mBone-in Ribeye                                                                                                  \n",
       "\u001b[1;33m • \u001b[0mFilet Mignon                                                                                                    \n",
       "\u001b[1;33m • \u001b[0mLobster Mac 'n' Cheese                                                                                          \n",
       "\u001b[1;33m • \u001b[0m24 oz. Porterhouse                                                                                              \n",
       "\n",
       "Enjoy your dinner!                                                                                                 \n"
      ]
     },
     "metadata": {},
     "output_type": "display_data"
    }
   ],
   "source": [
    "from tecton_gen_ai.testing import make_local_batch_feature_view\n",
    "from tecton_gen_ai.utils.tecton_utils import make_request_source\n",
    "\n",
    "# what if we had more up to date information about the user, like their name, age and cuisines preference\n",
    "user_info = [\n",
    "    {\"user_id\": \"user1\", \"name\": \"Jim\",  \"age\": 30, \"food_preference\": \"American\"},\n",
    "    {\"user_id\": \"user2\", \"name\": \"John\", \"age\": 40, \"food_preference\": \"Italian\"},\n",
    "    {\"user_id\": \"user3\", \"name\": \"Jane\", \"age\": 50, \"food_preference\": \"Chinese\"},\n",
    "]\n",
    "\n",
    "user_info_fv = make_local_batch_feature_view(\n",
    "    \"user_info_fv\",\n",
    "    user_info,\n",
    "    [\"user_id\"],\n",
    "    description=\"User's basic information.\"\n",
    ")\n",
    "\n",
    "# and what if we knew their current location\n",
    "location_request = make_request_source(location = str)\n",
    "\n",
    "#we could create a prompt like this\n",
    "@prompt(sources=[ location_request, user_info_fv])  # specifies sources of data for the prompt\n",
    "def sys_prompt(location_request, user_info_fv ):\n",
    "    return f\"\"\"\n",
    "    Address the user by their name. Their name is {user_info_fv['name']}.\n",
    "    You are a consierge service that recommends restaurants.\n",
    "    Only suggest restaurants that are in or near {location_request['location']}. \n",
    "    Always provide an address.\n",
    "    Always suggested menu items. \n",
    "    \"\"\"\n",
    "\n",
    "#define the Tecton Agent Service specifying the prompts, sources of knowledge and feature tools \n",
    "service = AgentService(\n",
    "    name=\"restaurant_recommender\",\n",
    "    prompts=[sys_prompt],\n",
    ")\n",
    "mobile_app_context={\"user_id\":\"user3\", \"location\":\"Charlotte, NC\"}\n",
    "support_chatbot(service, \"recommend a restaurant for tonight\", mobile_app_context)"
   ]
  },
  {
   "cell_type": "code",
   "execution_count": 12,
   "metadata": {},
   "outputs": [
    {
     "data": {
      "text/html": [
       "<pre style=\"white-space:pre;overflow-x:auto;line-height:normal;font-family:Menlo,'DejaVu Sans Mono',consolas,'Courier New',monospace\">Sure thing, Jim! Could you please share your preferences? For example, do you have a specific cuisine in mind, or  \n",
       "are you looking for something casual or more upscale?                                                              \n",
       "</pre>\n"
      ],
      "text/plain": [
       "Sure thing, Jim! Could you please share your preferences? For example, do you have a specific cuisine in mind, or  \n",
       "are you looking for something casual or more upscale?                                                              \n"
      ]
     },
     "metadata": {},
     "output_type": "display_data"
    }
   ],
   "source": [
    "# but now what if the question requires more data\n",
    "mobile_app_context={\"user_id\":\"user1\", \"location\":\"Charlotte, NC\"}\n",
    "support_chatbot(service, \"recommend a restaurant for tonight based on my preference\", mobile_app_context)\n"
   ]
  },
  {
   "cell_type": "markdown",
   "metadata": {},
   "source": [
    "# Features as Tools"
   ]
  },
  {
   "cell_type": "code",
   "execution_count": 13,
   "metadata": {},
   "outputs": [
    {
     "data": {
      "text/html": [
       "<pre style=\"white-space:pre;overflow-x:auto;line-height:normal;font-family:Menlo,'DejaVu Sans Mono',consolas,'Courier New',monospace\">Here are a couple of American restaurants in Charlotte, NC that you might enjoy, Jim:                              \n",
       "\n",
       "<span style=\"color: #808000; text-decoration-color: #808000; font-weight: bold\"> 1 </span><span style=\"font-weight: bold\">The Capital Grille</span>                                                                                              \n",
       "<span style=\"color: #808000; text-decoration-color: #808000; font-weight: bold\">    • </span><span style=\"font-weight: bold\">Address:</span> 201 N Tryon St, Charlotte, NC 28202                                                                 \n",
       "<span style=\"color: #808000; text-decoration-color: #808000; font-weight: bold\">    • </span><span style=\"font-weight: bold\">Recommended Menu Items:</span> Dry Aged Porterhouse, Lobster Mac 'N' Cheese, and the Flourless Chocolate Cake.      \n",
       "<span style=\"color: #808000; text-decoration-color: #808000; font-weight: bold\"> 2 </span><span style=\"font-weight: bold\">Midwood Smokehouse</span>                                                                                              \n",
       "<span style=\"color: #808000; text-decoration-color: #808000; font-weight: bold\">    • </span><span style=\"font-weight: bold\">Address:</span> 1401 Central Ave, Charlotte, NC 28205                                                               \n",
       "<span style=\"color: #808000; text-decoration-color: #808000; font-weight: bold\">    • </span><span style=\"font-weight: bold\">Recommended Menu Items:</span> Brisket, Pulled Pork, and the Mac &amp; Cheese.                                          \n",
       "\n",
       "Enjoy your dinner!                                                                                                 \n",
       "</pre>\n"
      ],
      "text/plain": [
       "Here are a couple of American restaurants in Charlotte, NC that you might enjoy, Jim:                              \n",
       "\n",
       "\u001b[1;33m 1 \u001b[0m\u001b[1mThe Capital Grille\u001b[0m                                                                                              \n",
       "\u001b[1;33m   \u001b[0m\u001b[1;33m • \u001b[0m\u001b[1mAddress:\u001b[0m 201 N Tryon St, Charlotte, NC 28202                                                                 \n",
       "\u001b[1;33m   \u001b[0m\u001b[1;33m • \u001b[0m\u001b[1mRecommended Menu Items:\u001b[0m Dry Aged Porterhouse, Lobster Mac 'N' Cheese, and the Flourless Chocolate Cake.      \n",
       "\u001b[1;33m 2 \u001b[0m\u001b[1mMidwood Smokehouse\u001b[0m                                                                                              \n",
       "\u001b[1;33m   \u001b[0m\u001b[1;33m • \u001b[0m\u001b[1mAddress:\u001b[0m 1401 Central Ave, Charlotte, NC 28205                                                               \n",
       "\u001b[1;33m   \u001b[0m\u001b[1;33m • \u001b[0m\u001b[1mRecommended Menu Items:\u001b[0m Brisket, Pulled Pork, and the Mac & Cheese.                                          \n",
       "\n",
       "Enjoy your dinner!                                                                                                 \n"
      ]
     },
     "metadata": {},
     "output_type": "display_data"
    }
   ],
   "source": [
    "\n",
    "#define the Tecton Agent Service specifying the prompts, sources of knowledge and feature tools \n",
    "service = AgentService(\n",
    "    name=\"restaurant_recommender\",\n",
    "    prompts=[sys_prompt],\n",
    "    tools=[user_info_fv] # user_info_fv provides food preference and recent_eats_fv provides recent dining\n",
    ")\n",
    "\n",
    "# we should get a much better answer\n",
    "support_chatbot(service, \"recommend a restaurant for tonight based on my preference\", {\"user_id\":\"user1\", \"location\":\"Charlotte, NC\"})\n"
   ]
  },
  {
   "cell_type": "code",
   "execution_count": 14,
   "metadata": {},
   "outputs": [
    {
     "data": {
      "text/html": [
       "<pre style=\"white-space:pre;overflow-x:auto;line-height:normal;font-family:Menlo,'DejaVu Sans Mono',consolas,'Courier New',monospace\">Here are a couple of restaurant recommendations for you, Jane, that you might enjoy in Charlotte, NC:              \n",
       "\n",
       "<span style=\"color: #808000; text-decoration-color: #808000; font-weight: bold\"> 1 </span><span style=\"font-weight: bold\">Dumpling Lady</span>                                                                                                   \n",
       "<span style=\"color: #808000; text-decoration-color: #808000; font-weight: bold\">    • </span><span style=\"font-weight: bold\">Address:</span> 2020 E 7th St, Charlotte, NC 28204                                                                  \n",
       "<span style=\"color: #808000; text-decoration-color: #808000; font-weight: bold\">    • </span><span style=\"font-weight: bold\">Recommended Menu Items:</span>                                                                                      \n",
       "<span style=\"color: #808000; text-decoration-color: #808000; font-weight: bold\">       • </span>Pork Dumplings                                                                                            \n",
       "<span style=\"color: #808000; text-decoration-color: #808000; font-weight: bold\">       • </span>Scallion Pancakes                                                                                         \n",
       "<span style=\"color: #808000; text-decoration-color: #808000; font-weight: bold\">       • </span>Hot and Sour Soup                                                                                         \n",
       "<span style=\"color: #808000; text-decoration-color: #808000; font-weight: bold\"> 2 </span><span style=\"font-weight: bold\">Szechuan Palace</span>                                                                                                 \n",
       "<span style=\"color: #808000; text-decoration-color: #808000; font-weight: bold\">    • </span><span style=\"font-weight: bold\">Address:</span> 11601 Carolina Pl Pkwy, Pineville, NC 28134                                                         \n",
       "<span style=\"color: #808000; text-decoration-color: #808000; font-weight: bold\">    • </span><span style=\"font-weight: bold\">Recommended Menu Items:</span>                                                                                      \n",
       "<span style=\"color: #808000; text-decoration-color: #808000; font-weight: bold\">       • </span>Kung Pao Chicken                                                                                          \n",
       "<span style=\"color: #808000; text-decoration-color: #808000; font-weight: bold\">       • </span>Mapo Tofu                                                                                                 \n",
       "<span style=\"color: #808000; text-decoration-color: #808000; font-weight: bold\">       • </span>Spicy Szechuan Noodles                                                                                    \n",
       "\n",
       "Enjoy your dinner!                                                                                                 \n",
       "</pre>\n"
      ],
      "text/plain": [
       "Here are a couple of restaurant recommendations for you, Jane, that you might enjoy in Charlotte, NC:              \n",
       "\n",
       "\u001b[1;33m 1 \u001b[0m\u001b[1mDumpling Lady\u001b[0m                                                                                                   \n",
       "\u001b[1;33m   \u001b[0m\u001b[1;33m • \u001b[0m\u001b[1mAddress:\u001b[0m 2020 E 7th St, Charlotte, NC 28204                                                                  \n",
       "\u001b[1;33m   \u001b[0m\u001b[1;33m • \u001b[0m\u001b[1mRecommended Menu Items:\u001b[0m                                                                                      \n",
       "\u001b[1;33m   \u001b[0m\u001b[1;33m   \u001b[0m\u001b[1;33m • \u001b[0mPork Dumplings                                                                                            \n",
       "\u001b[1;33m   \u001b[0m\u001b[1;33m   \u001b[0m\u001b[1;33m • \u001b[0mScallion Pancakes                                                                                         \n",
       "\u001b[1;33m   \u001b[0m\u001b[1;33m   \u001b[0m\u001b[1;33m • \u001b[0mHot and Sour Soup                                                                                         \n",
       "\u001b[1;33m 2 \u001b[0m\u001b[1mSzechuan Palace\u001b[0m                                                                                                 \n",
       "\u001b[1;33m   \u001b[0m\u001b[1;33m • \u001b[0m\u001b[1mAddress:\u001b[0m 11601 Carolina Pl Pkwy, Pineville, NC 28134                                                         \n",
       "\u001b[1;33m   \u001b[0m\u001b[1;33m • \u001b[0m\u001b[1mRecommended Menu Items:\u001b[0m                                                                                      \n",
       "\u001b[1;33m   \u001b[0m\u001b[1;33m   \u001b[0m\u001b[1;33m • \u001b[0mKung Pao Chicken                                                                                          \n",
       "\u001b[1;33m   \u001b[0m\u001b[1;33m   \u001b[0m\u001b[1;33m • \u001b[0mMapo Tofu                                                                                                 \n",
       "\u001b[1;33m   \u001b[0m\u001b[1;33m   \u001b[0m\u001b[1;33m • \u001b[0mSpicy Szechuan Noodles                                                                                    \n",
       "\n",
       "Enjoy your dinner!                                                                                                 \n"
      ]
     },
     "metadata": {},
     "output_type": "display_data"
    }
   ],
   "source": [
    "# user's recent visits \n",
    "recent_eats = [\n",
    "    {\"user_id\": \"user1\", \"last_3_visits\":str([\"Mama Ricotta's\", \"The Capital Grille\", \"Firebirds Wood Fired Grill\"])},\n",
    "    {\"user_id\": \"user2\", \"last_3_visits\":str([\"Mama Ricotta's\", \"Villa Antonio\", \"Viva Chicken\"])},\n",
    "    {\"user_id\": \"user3\", \"last_3_visits\":str([\"Wan Fu\", \"Wan Fu Quality Chinese Cuisine\", \"Ru San's\"])},\n",
    "]\n",
    "recent_eats_fv = make_local_batch_feature_view( \"recent_eats_fv\", recent_eats, entity_keys=[\"user_id\"], description=\"User's recent restaurant visits.\")\n",
    "\n",
    "#define the Tecton Agent Service specifying the prompts, sources of knowledge and feature tools \n",
    "service = AgentService(\n",
    "    name=\"restaurant_recommender\",\n",
    "    prompts=[sys_prompt],\n",
    "    tools=[user_info_fv, recent_eats_fv] # recent_eats_fv provides recent dining\n",
    ")\n",
    "\n",
    "# if the user asks a more complex question...\n",
    "mobile_app_context = {\"user_id\":\"user3\", \"location\":\"Charlotte, NC\"}\n",
    "support_chatbot(service, \"I need a new restaurant for tonight\", mobile_app_context)\n"
   ]
  },
  {
   "cell_type": "markdown",
   "metadata": {},
   "source": [
    "# Knowledge\n",
    "\n",
    "Adding knowledge to an LLM provides domain specific information that extends beyond its base training. With it, the LLM is able to select relevant text that helps respond to user queries and avoid hallucination. Under the covers, Tecton calculates embedding vectors and stores the data in a vector search database which the LLM workflow agent can use to do semantic search. With Tecton knowledge, other fields can be used to filter the dataset prior to executing the semantic search which provides even more relevance to the results."
   ]
  },
  {
   "cell_type": "code",
   "execution_count": 15,
   "metadata": {},
   "outputs": [],
   "source": [
    "# Let's say we only want to use restaurants that have signed up for the service, \n",
    "# and not those that the general LLM training knows about\n",
    "\n",
    "#change the prompt instructions\n",
    "@prompt(sources=[ location_request, user_info_fv])  # specifies sources of data for the prompt\n",
    "def sys_prompt(location_request, user_info_fv ):\n",
    "    location = location_request[\"location\"]\n",
    "    name = user_info_fv[\"name\"]\n",
    "    return f\"\"\"\n",
    "    Address the user by their name. Their name is {name}.\n",
    "    You are a consierge service that recommends restaurants.\n",
    "    Only suggest restaurants that are in or near {location}. \n",
    "    Always provide an address.\n",
    "    Always suggested menu items. \n",
    "    Only select restaurants that have signed up on the service. \n",
    "    \"\"\" # notice that we've added an instruction\n",
    "\n",
    "#example knowledge about restaurants that have signed up\n",
    "restaurants_signed_up = [\n",
    "  {\n",
    "    \"restaurant_name\": \"Mama Ricotta's\",\n",
    "    \"zipcode\": \"28203\",\n",
    "    \"cuisine\": \"Italian\",\n",
    "    \"description\": \"A Charlotte staple since 1992, Mama Ricotta's offers authentic Italian cuisine in a warm, family-friendly atmosphere. Known for their hand-tossed pizzas, homemade pasta, and signature chicken parmesan.\"\n",
    "  },\n",
    "  {\n",
    "    \"restaurant_name\": \"The Capital Grille\",\n",
    "    \"zipcode\": \"28202\",\n",
    "    \"cuisine\": \"American Steakhouse\",\n",
    "    \"description\": \"An upscale steakhouse chain featuring dry-aged steaks, fresh seafood, and an extensive wine list. The Charlotte location offers a refined dining experience with impeccable service and a sophisticated ambiance.\"\n",
    "  },\n",
    "  {\n",
    "    \"restaurant_name\": \"Firebirds Wood Fired Grill\",\n",
    "    \"zipcode\": \"28277\",\n",
    "    \"cuisine\": \"American\",\n",
    "    \"description\": \"A polished casual restaurant known for its classic American cuisine cooked over an open wood fire. Specialties include hand-cut steaks, fresh seafood, and signature cocktails in a warm, contemporary setting.\"\n",
    "  },\n",
    "  {\n",
    "    \"restaurant_name\": \"Villa Antonio\",\n",
    "    \"zipcode\": \"28210\",\n",
    "    \"cuisine\": \"Italian\",\n",
    "    \"description\": \"An elegant Italian restaurant offering a romantic atmosphere and authentic cuisine. Known for its homemade pasta, extensive wine selection, and attentive service, perfect for special occasions.\"\n",
    "  },\n",
    "  {\n",
    "    \"restaurant_name\": \"Viva Chicken\",\n",
    "    \"zipcode\": \"28203\",\n",
    "    \"cuisine\": \"Peruvian\",\n",
    "    \"description\": \"A fast-casual eatery specializing in Peruvian-style rotisserie chicken. Offers fresh, flavorful dishes with a modern twist on traditional Peruvian cuisine, including quinoa stuffed avocados and yuca fries.\"\n",
    "  },\n",
    "  {\n",
    "    \"restaurant_name\": \"Wan Fu\",\n",
    "    \"zipcode\": \"28226\",\n",
    "    \"cuisine\": \"Chinese\",\n",
    "    \"description\": \"A local favorite for Chinese cuisine, Wan Fu offers a wide array of traditional and Americanized Chinese dishes. Known for its generous portions, friendly service, and comfortable dining atmosphere.\"\n",
    "  },\n",
    "  {\n",
    "    \"restaurant_name\": \"Wan Fu Quality Chinese Cuisine\",\n",
    "    \"zipcode\": \"28277\",\n",
    "    \"cuisine\": \"Chinese\",\n",
    "    \"description\": \"An upscale Chinese restaurant focusing on authentic flavors and high-quality ingredients. Offers a more refined dining experience with a menu featuring both classic and innovative Chinese dishes.\"\n",
    "  },\n",
    "  {\n",
    "    \"restaurant_name\": \"Ru San's\",\n",
    "    \"zipcode\": \"28203\",\n",
    "    \"cuisine\": \"Japanese\",\n",
    "    \"description\": \"A popular sushi restaurant known for its extensive menu and all-you-can-eat option. Offers a wide variety of sushi rolls, sashimi, and other Japanese dishes in a casual, vibrant atmosphere.\"\n",
    "  },\n",
    "  {\n",
    "    \"restaurant_name\": \"Le Bernardin\",\n",
    "    \"zipcode\": \"10019\",\n",
    "    \"cuisine\": \"French Seafood\",\n",
    "    \"description\": \"A world-renowned, Michelin three-star restaurant specializing in exquisite seafood. Chef Eric Ripert's menu features innovative preparations of the finest global seafood in an elegant setting.\"\n",
    "  },\n",
    "  {\n",
    "    \"restaurant_name\": \"Katz's Delicatessen\",\n",
    "    \"zipcode\": \"10002\",\n",
    "    \"cuisine\": \"Jewish Deli\",\n",
    "    \"description\": \"An iconic New York institution since 1888, famous for its hand-carved pastrami and corned beef sandwiches. The bustling, no-frills atmosphere is part of its enduring charm.\"\n",
    "  },\n",
    "  {\n",
    "    \"restaurant_name\": \"Eleven Madison Park\",\n",
    "    \"zipcode\": \"10010\",\n",
    "    \"cuisine\": \"Contemporary American\",\n",
    "    \"description\": \"A three-Michelin-starred restaurant offering an innovative tasting menu focusing on locally sourced, plant-based ingredients. Known for its impeccable service and artistic presentation.\"\n",
    "  },\n",
    "  {\n",
    "    \"restaurant_name\": \"Peter Luger Steak House\",\n",
    "    \"zipcode\": \"11211\",\n",
    "    \"cuisine\": \"Steakhouse\",\n",
    "    \"description\": \"A Brooklyn institution since 1887, Peter Luger is famous for its dry-aged steaks and old-school, cash-only policy. The no-frills atmosphere focuses attention on the exceptional quality of the meat.\"\n",
    "  },\n",
    "  {\n",
    "    \"restaurant_name\": \"Di Fara Pizza\",\n",
    "    \"zipcode\": \"11230\",\n",
    "    \"cuisine\": \"Pizza\",\n",
    "    \"description\": \"A legendary Brooklyn pizzeria, Di Fara is known for its handcrafted pies made by founder Dom DeMarco. Each pizza is a work of art, featuring high-quality ingredients and meticulous preparation.\"\n",
    "  },\n",
    "  {\n",
    "    \"restaurant_name\": \"Balthazar\",\n",
    "    \"zipcode\": \"10012\",\n",
    "    \"cuisine\": \"French Brasserie\",\n",
    "    \"description\": \"A SoHo classic, Balthazar offers authentic French brasserie fare in a vibrant, bustling atmosphere. Known for its fresh seafood, classic French dishes, and popular weekend brunch.\"\n",
    "  },\n",
    "  {\n",
    "    \"restaurant_name\": \"Momofuku Ko\",\n",
    "    \"zipcode\": \"10003\",\n",
    "    \"cuisine\": \"Contemporary Asian\",\n",
    "    \"description\": \"Chef David Chang's two-Michelin-starred restaurant offers an ever-changing tasting menu blending Asian and Western influences. The intimate counter seating provides a unique, interactive dining experience.\"\n",
    "  },\n",
    "  {\n",
    "    \"restaurant_name\": \"The Halal Guys\",\n",
    "    \"zipcode\": \"10019\",\n",
    "    \"cuisine\": \"Middle Eastern\",\n",
    "    \"description\": \"Starting as a food cart, The Halal Guys has become a New York institution. Famous for its chicken and gyro over rice, topped with their legendary white sauce. Now with brick-and-mortar locations.\"\n",
    "  },\n",
    "  {\n",
    "    \"restaurant_name\": \"Russ & Daughters\",\n",
    "    \"zipcode\": \"10002\",\n",
    "    \"cuisine\": \"Jewish Appetizing\",\n",
    "    \"description\": \"A New York classic since 1914, specializing in traditional Jewish appetizing foods. Famous for its hand-sliced smoked salmon, bagels, and other Jewish delicacies. Now includes a sit-down cafe.\"\n",
    "  },\n",
    "  {\n",
    "    \"restaurant_name\": \"Lombardi's\",\n",
    "    \"zipcode\": \"10012\",\n",
    "    \"cuisine\": \"Pizza\",\n",
    "    \"description\": \"America's first pizzeria, established in 1905. Lombardi's continues to serve classic New York-style pizza from its coal-fired oven. Known for its simple, high-quality ingredients and historic charm.\"\n",
    "  },\n",
    "  {\n",
    "    \"restaurant_name\": \"Joe's Shanghai\",\n",
    "    \"zipcode\": \"10013\",\n",
    "    \"cuisine\": \"Chinese\",\n",
    "    \"description\": \"Famous for introducing soup dumplings to New York, Joe's Shanghai offers authentic Shanghai-style cuisine. The bustling, no-frills atmosphere adds to the authentic experience.\"\n",
    "  }\n",
    "]"
   ]
  },
  {
   "cell_type": "code",
   "execution_count": 17,
   "metadata": {},
   "outputs": [],
   "source": [
    "from tecton_gen_ai.testing import make_local_source\n",
    "from tecton_gen_ai.testing.utils import make_local_vector_db_config\n",
    "from tecton_gen_ai.fco import source_as_knowledge\n",
    "\n",
    "#provide a vector db config\n",
    "conf = make_local_vector_db_config()\n",
    "\n",
    "#create embeddings of the restaurant descriptions in the vector DB\n",
    "src = make_local_source(\"restaurants_signed_up\", restaurants_signed_up, description=\"Restaurants that signed up for the service\")\n",
    "\n",
    "restaurant_knowledge = source_as_knowledge(\n",
    "    src,\n",
    "    vector_db_config=conf,\n",
    "    vectorize_column=\"description\",\n",
    "    filter = [(\"zipcode\", str, \"the zip code for the restaurant\"), (\"cuisine\", str, \"the cuisine that they serve\")]\n",
    ")\n",
    "\n",
    "#rebuild the service with restaurant knowledge included\n",
    "service = AgentService(\n",
    "    name=\"restaurant_recommender\",\n",
    "    prompts=[sys_prompt],\n",
    "    knowledge=[restaurant_knowledge],  # added a source of knowledge\n",
    "    tools=[user_info_fv, recent_eats_fv] \n",
    ")\n"
   ]
  },
  {
   "cell_type": "code",
   "execution_count": 18,
   "metadata": {},
   "outputs": [
    {
     "name": "stdout",
     "output_type": "stream",
     "text": [
      "metadata.zipcode = '28277'\n"
     ]
    },
    {
     "data": {
      "text/html": [
       "<pre style=\"white-space:pre;overflow-x:auto;line-height:normal;font-family:Menlo,'DejaVu Sans Mono',consolas,'Courier New',monospace\">I found a great restaurant for you, Jane, that serves dry-aged steaks and tiramisu, and you haven't visited it yet:\n",
       "\n",
       "                                            <span style=\"font-weight: bold\">Firebirds Wood Fired Grill</span>                                             \n",
       "\n",
       "<span style=\"color: #808000; text-decoration-color: #808000; font-weight: bold\"> • </span><span style=\"font-weight: bold\">Address:</span> 9824 Rea Rd, Charlotte, NC 28277                                                                       \n",
       "<span style=\"color: #808000; text-decoration-color: #808000; font-weight: bold\"> • </span><span style=\"font-weight: bold\">Cuisine:</span> American                                                                                               \n",
       "<span style=\"color: #808000; text-decoration-color: #808000; font-weight: bold\"> • </span><span style=\"font-weight: bold\">Description:</span> A polished casual restaurant known for its classic American cuisine cooked over an open wood fire. \n",
       "<span style=\"color: #808000; text-decoration-color: #808000; font-weight: bold\">   </span>Specialties include hand-cut steaks, fresh seafood, and signature cocktails in a warm, contemporary setting.    \n",
       "<span style=\"color: #808000; text-decoration-color: #808000; font-weight: bold\"> • </span><span style=\"font-weight: bold\">Suggested Menu Items:</span>                                                                                           \n",
       "<span style=\"color: #808000; text-decoration-color: #808000; font-weight: bold\">    • </span>Dry-Aged Ribeye Steak                                                                                        \n",
       "<span style=\"color: #808000; text-decoration-color: #808000; font-weight: bold\">    • </span>Tiramisu for dessert                                                                                         \n",
       "\n",
       "Enjoy your meal!                                                                                                   \n",
       "</pre>\n"
      ],
      "text/plain": [
       "I found a great restaurant for you, Jane, that serves dry-aged steaks and tiramisu, and you haven't visited it yet:\n",
       "\n",
       "                                            \u001b[1mFirebirds Wood Fired Grill\u001b[0m                                             \n",
       "\n",
       "\u001b[1;33m • \u001b[0m\u001b[1mAddress:\u001b[0m 9824 Rea Rd, Charlotte, NC 28277                                                                       \n",
       "\u001b[1;33m • \u001b[0m\u001b[1mCuisine:\u001b[0m American                                                                                               \n",
       "\u001b[1;33m • \u001b[0m\u001b[1mDescription:\u001b[0m A polished casual restaurant known for its classic American cuisine cooked over an open wood fire. \n",
       "\u001b[1;33m   \u001b[0mSpecialties include hand-cut steaks, fresh seafood, and signature cocktails in a warm, contemporary setting.    \n",
       "\u001b[1;33m • \u001b[0m\u001b[1mSuggested Menu Items:\u001b[0m                                                                                           \n",
       "\u001b[1;33m   \u001b[0m\u001b[1;33m • \u001b[0mDry-Aged Ribeye Steak                                                                                        \n",
       "\u001b[1;33m   \u001b[0m\u001b[1;33m • \u001b[0mTiramisu for dessert                                                                                         \n",
       "\n",
       "Enjoy your meal!                                                                                                   \n"
      ]
     },
     "metadata": {},
     "output_type": "display_data"
    }
   ],
   "source": [
    "# test the app\n",
    "mobile_app_context = {\"user_id\":\"user3\", \"location\":\"28277\"}\n",
    "support_chatbot(service, \"recommend a restaurant I have not visited with dry-aged steaks and tiramisu\", mobile_app_context)"
   ]
  },
  {
   "cell_type": "code",
   "execution_count": 19,
   "metadata": {},
   "outputs": [
    {
     "name": "stdout",
     "output_type": "stream",
     "text": [
      "metadata.zipcode = '10200'\n"
     ]
    },
    {
     "name": "stderr",
     "output_type": "stream",
     "text": [
      "/Users/han/.pyenv/versions/3.11.9/lib/python3.11/site-packages/langchain_community/vectorstores/lancedb.py:395: UserWarning: No results found for the query.\n",
      "  warnings.warn(\"No results found for the query.\")\n"
     ]
    },
    {
     "name": "stdout",
     "output_type": "stream",
     "text": [
      "metadata.zipcode = '10200'\n"
     ]
    },
    {
     "name": "stderr",
     "output_type": "stream",
     "text": [
      "/Users/han/.pyenv/versions/3.11.9/lib/python3.11/site-packages/langchain_community/vectorstores/lancedb.py:395: UserWarning: No results found for the query.\n",
      "  warnings.warn(\"No results found for the query.\")\n"
     ]
    },
    {
     "data": {
      "text/html": [
       "<pre style=\"white-space:pre;overflow-x:auto;line-height:normal;font-family:Menlo,'DejaVu Sans Mono',consolas,'Courier New',monospace\">I'm sorry, Jim, but it seems there are currently no restaurants in or near 10200 that offer dry-aged steaks or     \n",
       "Tiramisu. If you're open to other types of cuisine or specific dishes, please let me know, and I can help you find \n",
       "something else!                                                                                                    \n",
       "</pre>\n"
      ],
      "text/plain": [
       "I'm sorry, Jim, but it seems there are currently no restaurants in or near 10200 that offer dry-aged steaks or     \n",
       "Tiramisu. If you're open to other types of cuisine or specific dishes, please let me know, and I can help you find \n",
       "something else!                                                                                                    \n"
      ]
     },
     "metadata": {},
     "output_type": "display_data"
    }
   ],
   "source": [
    "# test for a zipcode that is not close to any in the apps knowledge\n",
    "mobile_app_context = {\"user_id\":\"user1\", \"location\":\"10200\"}\n",
    "support_chatbot(service, \"recommend a new restaurant with dry-aged steaks and Tiramisu\", mobile_app_context)\n"
   ]
  },
  {
   "cell_type": "code",
   "execution_count": 20,
   "metadata": {},
   "outputs": [
    {
     "name": "stdout",
     "output_type": "stream",
     "text": [
      "metadata.zipcode = '28277'\n",
      "metadata.zipcode = '28277'\n",
      "metadata.zipcode = '28277'\n",
      "metadata.zipcode = '28277'\n"
     ]
    },
    {
     "data": {
      "text/html": [
       "<pre style=\"white-space:pre;overflow-x:auto;line-height:normal;font-family:Menlo,'DejaVu Sans Mono',consolas,'Courier New',monospace\">Hi John! Unfortunately, it seems that none of your recent visits—Mama Ricotta's, Villa Antonio, or Viva            \n",
       "Chicken—offer Tiramisu. However, I found a couple of restaurants in the 28277 area that do have Tiramisu on their  \n",
       "menu:                                                                                                              \n",
       "\n",
       "<span style=\"color: #808000; text-decoration-color: #808000; font-weight: bold\"> 1 </span><span style=\"font-weight: bold\">Firebirds Wood Fired Grill</span>                                                                                      \n",
       "<span style=\"color: #808000; text-decoration-color: #808000; font-weight: bold\">    • </span><span style=\"font-weight: bold\">Address:</span> 11325 N Community House Rd, Charlotte, NC 28277                                                     \n",
       "<span style=\"color: #808000; text-decoration-color: #808000; font-weight: bold\">    • </span><span style=\"font-weight: bold\">Cuisine:</span> American                                                                                            \n",
       "<span style=\"color: #808000; text-decoration-color: #808000; font-weight: bold\">    • </span><span style=\"font-weight: bold\">Description:</span> A polished casual restaurant known for its classic American cuisine cooked over an open wood    \n",
       "<span style=\"color: #808000; text-decoration-color: #808000; font-weight: bold\">      </span>fire. Specialties include hand-cut steaks, fresh seafood, and signature cocktails in a warm, contemporary    \n",
       "<span style=\"color: #808000; text-decoration-color: #808000; font-weight: bold\">      </span>setting.                                                                                                     \n",
       "<span style=\"color: #808000; text-decoration-color: #808000; font-weight: bold\">    • </span><span style=\"font-weight: bold\">Suggested Menu Item:</span> Tiramisu for dessert.                                                                   \n",
       "<span style=\"color: #808000; text-decoration-color: #808000; font-weight: bold\"> 2 </span><span style=\"font-weight: bold\">Wan Fu Quality Chinese Cuisine</span>                                                                                  \n",
       "<span style=\"color: #808000; text-decoration-color: #808000; font-weight: bold\">    • </span><span style=\"font-weight: bold\">Address:</span> 10808 Providence Rd, Charlotte, NC 28277                                                            \n",
       "<span style=\"color: #808000; text-decoration-color: #808000; font-weight: bold\">    • </span><span style=\"font-weight: bold\">Cuisine:</span> Chinese                                                                                             \n",
       "<span style=\"color: #808000; text-decoration-color: #808000; font-weight: bold\">    • </span><span style=\"font-weight: bold\">Description:</span> An upscale Chinese restaurant focusing on authentic flavors and high-quality ingredients,       \n",
       "<span style=\"color: #808000; text-decoration-color: #808000; font-weight: bold\">      </span>offering a refined dining experience with both classic and innovative dishes.                                \n",
       "<span style=\"color: #808000; text-decoration-color: #808000; font-weight: bold\">    • </span><span style=\"font-weight: bold\">Suggested Menu Item:</span> Tiramisu (if available as a fusion dessert).                                            \n",
       "\n",
       "Enjoy your meal!                                                                                                   \n",
       "</pre>\n"
      ],
      "text/plain": [
       "Hi John! Unfortunately, it seems that none of your recent visits—Mama Ricotta's, Villa Antonio, or Viva            \n",
       "Chicken—offer Tiramisu. However, I found a couple of restaurants in the 28277 area that do have Tiramisu on their  \n",
       "menu:                                                                                                              \n",
       "\n",
       "\u001b[1;33m 1 \u001b[0m\u001b[1mFirebirds Wood Fired Grill\u001b[0m                                                                                      \n",
       "\u001b[1;33m   \u001b[0m\u001b[1;33m • \u001b[0m\u001b[1mAddress:\u001b[0m 11325 N Community House Rd, Charlotte, NC 28277                                                     \n",
       "\u001b[1;33m   \u001b[0m\u001b[1;33m • \u001b[0m\u001b[1mCuisine:\u001b[0m American                                                                                            \n",
       "\u001b[1;33m   \u001b[0m\u001b[1;33m • \u001b[0m\u001b[1mDescription:\u001b[0m A polished casual restaurant known for its classic American cuisine cooked over an open wood    \n",
       "\u001b[1;33m   \u001b[0m\u001b[1;33m   \u001b[0mfire. Specialties include hand-cut steaks, fresh seafood, and signature cocktails in a warm, contemporary    \n",
       "\u001b[1;33m   \u001b[0m\u001b[1;33m   \u001b[0msetting.                                                                                                     \n",
       "\u001b[1;33m   \u001b[0m\u001b[1;33m • \u001b[0m\u001b[1mSuggested Menu Item:\u001b[0m Tiramisu for dessert.                                                                   \n",
       "\u001b[1;33m 2 \u001b[0m\u001b[1mWan Fu Quality Chinese Cuisine\u001b[0m                                                                                  \n",
       "\u001b[1;33m   \u001b[0m\u001b[1;33m • \u001b[0m\u001b[1mAddress:\u001b[0m 10808 Providence Rd, Charlotte, NC 28277                                                            \n",
       "\u001b[1;33m   \u001b[0m\u001b[1;33m • \u001b[0m\u001b[1mCuisine:\u001b[0m Chinese                                                                                             \n",
       "\u001b[1;33m   \u001b[0m\u001b[1;33m • \u001b[0m\u001b[1mDescription:\u001b[0m An upscale Chinese restaurant focusing on authentic flavors and high-quality ingredients,       \n",
       "\u001b[1;33m   \u001b[0m\u001b[1;33m   \u001b[0moffering a refined dining experience with both classic and innovative dishes.                                \n",
       "\u001b[1;33m   \u001b[0m\u001b[1;33m • \u001b[0m\u001b[1mSuggested Menu Item:\u001b[0m Tiramisu (if available as a fusion dessert).                                            \n",
       "\n",
       "Enjoy your meal!                                                                                                   \n"
      ]
     },
     "metadata": {},
     "output_type": "display_data"
    }
   ],
   "source": [
    "# test for recent visits with item they do not serve\n",
    "mobile_app_context = {\"user_id\":\"user2\", \"location\":\"28277\"}\n",
    "support_chatbot(service, \"recommend a one of my recent visits that has Tiramisu\", mobile_app_context)"
   ]
  },
  {
   "cell_type": "code",
   "execution_count": null,
   "metadata": {},
   "outputs": [],
   "source": []
  }
 ],
 "metadata": {
  "kernelspec": {
   "display_name": "tecton",
   "language": "python",
   "name": "python3"
  },
  "language_info": {
   "codemirror_mode": {
    "name": "ipython",
    "version": 3
   },
   "file_extension": ".py",
   "mimetype": "text/x-python",
   "name": "python",
   "nbconvert_exporter": "python",
   "pygments_lexer": "ipython3",
   "version": "3.11.9"
  }
 },
 "nbformat": 4,
 "nbformat_minor": 2
}
