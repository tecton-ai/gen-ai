{
 "cells": [
  {
   "cell_type": "markdown",
   "metadata": {},
   "source": [
    "# Using Prompts, Features as Tools and Knowledge \n",
    "\n",
    "By combining the Tecton GenAI functions, you can provide much better context in for your LLM applications.\n",
    "- The *knowledge* function provides RAG functionality by taking unstructured text and calculating embedding vectors for them and storing them in a vector database that provides similarity search capabilities to better respond to user queries. \n",
    "- The *prompt* provides instructions for the LLM and is enriched with context from feature pipelines or directly from the real-time context.\n",
    "- *Features as tools* give the LLM the ability to retrieve additional data as needed to respond to the user question.\n",
    "\n",
    "\n",
    "<a target=\"_blank\" href=\"https://colab.research.google.com/github/tecton-ai/gen-ai/blob/main/full-rag-demo.ipynb\">\n",
    "  <img src=\"https://colab.research.google.com/assets/colab-badge.svg\" alt=\"Open In Colab\" width=\"150\"/>\n",
    "</a>\n",
    "\n",
    "In this notebook, you will combine all three tools to create an example restaurant recommendation chatbot."
   ]
  },
  {
   "cell_type": "markdown",
   "metadata": {},
   "source": [
    "## Install Packages"
   ]
  },
  {
   "cell_type": "code",
   "execution_count": 20,
   "metadata": {},
   "outputs": [],
   "source": [
    "!pip install 'tecton-gen-ai[tecton,langchain,llama-index,dev]' langchain-openai llama-index-llms-openai -q"
   ]
  },
  {
   "cell_type": "markdown",
   "metadata": {},
   "source": [
    "## Log in to Tecton\n",
    "Make sure to hit enter after pasting in your authentication token."
   ]
  },
  {
   "cell_type": "code",
   "execution_count": null,
   "metadata": {},
   "outputs": [],
   "source": [
    "import tecton\n",
    "\n",
    "tecton.login(\"explore.tecton.ai\")"
   ]
  },
  {
   "cell_type": "markdown",
   "metadata": {},
   "source": [
    "In this example you will use an OpenAI gpt-4o LLM model to test. \n",
    "\n",
    "You will need to provide an Open AI API key for this purpose.\n",
    "\n",
    "Replace \"your-openai-key\" with your own key."
   ]
  },
  {
   "cell_type": "code",
   "execution_count": 2,
   "metadata": {},
   "outputs": [],
   "source": [
    "import os\n",
    "\n",
    "# replace with your key\n",
    "os.environ[\"OPENAI_API_KEY\"] = \"your-openai-key\""
   ]
  },
  {
   "cell_type": "code",
   "execution_count": 3,
   "metadata": {},
   "outputs": [],
   "source": [
    "from tecton_gen_ai.fco import prompt\n",
    "from tecton_gen_ai.agent import AgentClient, AgentService\n",
    "\n",
    "# prompt without any user context\n",
    "@prompt()  \n",
    "def sys_prompt( ):\n",
    "    return f\"\"\"\n",
    "    You are a consierge service that recommends restaurants.\n",
    "    Always provide an address.\n",
    "    Always suggested menu items. \n",
    "    \"\"\"\n",
    "\n",
    "#define the Tecton Agent Service specifying the prompts, sources of knowledge and feature tools \n",
    "service = AgentService(\n",
    "    name=\"restaurant_recommender\",\n",
    "    prompts=[sys_prompt],\n",
    ")"
   ]
  },
  {
   "cell_type": "code",
   "execution_count": 5,
   "metadata": {},
   "outputs": [
    {
     "data": {
      "text/html": [
       "<pre style=\"white-space:pre;overflow-x:auto;line-height:normal;font-family:Menlo,'DejaVu Sans Mono',consolas,'Courier New',monospace\">Sure! Could you please let me know your preferred cuisine or any dietary restrictions? Additionally, what area are \n",
       "you in?                                                                                                            \n",
       "</pre>\n"
      ],
      "text/plain": [
       "Sure! Could you please let me know your preferred cuisine or any dietary restrictions? Additionally, what area are \n",
       "you in?                                                                                                            \n"
      ]
     },
     "metadata": {},
     "output_type": "display_data"
    }
   ],
   "source": [
    "from langchain_openai import ChatOpenAI\n",
    "\n",
    "def support_chatbot(service, user_query, context=None):\n",
    "    from tecton_gen_ai.testing.utils import print_md\n",
    "\n",
    "    #create an agent client that provides context for LLM workflows\n",
    "    client = AgentClient.from_local(service)\n",
    "    # instantiate LLM model for  LangChain \n",
    "    langchain_llm = ChatOpenAI(model=\"gpt-4o-mini\")\n",
    "    # create invokable agent for LangChain \n",
    "    langchain_agent = client.make_agent(langchain_llm, system_prompt=\"sys_prompt\")\n",
    "\n",
    "    with client.set_context(context):\n",
    "        print_md(langchain_agent.invoke({\"input\":user_query})[\"output\"])\n",
    "\n",
    "support_chatbot(service, \"recommend a restaurant for tonight\")"
   ]
  },
  {
   "cell_type": "markdown",
   "metadata": {},
   "source": [
    "# A Feature Enriched Prompt \n"
   ]
  },
  {
   "cell_type": "code",
   "execution_count": 8,
   "metadata": {},
   "outputs": [
    {
     "data": {
      "text/html": [
       "<pre style=\"white-space:pre;overflow-x:auto;line-height:normal;font-family:Menlo,'DejaVu Sans Mono',consolas,'Courier New',monospace\">Hi Jane! I recommend trying <span style=\"font-weight: bold\">The Capital Grille</span> for tonight. It's a great spot for a special evening out.           \n",
       "\n",
       "<span style=\"font-weight: bold\">Address:</span> 201 N Tryon St, Charlotte, NC 28202                                                                       \n",
       "\n",
       "<span style=\"font-weight: bold\">Suggested Menu Items:</span>                                                                                              \n",
       "\n",
       "<span style=\"color: #808000; text-decoration-color: #808000; font-weight: bold\"> • </span><span style=\"font-weight: bold\">Dry Aged Porterhouse</span> - A classic steak option, perfect for meat lovers.                                         \n",
       "<span style=\"color: #808000; text-decoration-color: #808000; font-weight: bold\"> • </span><span style=\"font-weight: bold\">Pan-Seared Wahoo</span> - A delicious seafood choice with a tropical flair.                                            \n",
       "<span style=\"color: #808000; text-decoration-color: #808000; font-weight: bold\"> • </span><span style=\"font-weight: bold\">Lobster Mac 'N' Cheese</span> - An indulgent side that pairs wonderfully with any main dish.                           \n",
       "\n",
       "Enjoy your dinner!                                                                                                 \n",
       "</pre>\n"
      ],
      "text/plain": [
       "Hi Jane! I recommend trying \u001b[1mThe Capital Grille\u001b[0m for tonight. It's a great spot for a special evening out.           \n",
       "\n",
       "\u001b[1mAddress:\u001b[0m 201 N Tryon St, Charlotte, NC 28202                                                                       \n",
       "\n",
       "\u001b[1mSuggested Menu Items:\u001b[0m                                                                                              \n",
       "\n",
       "\u001b[1;33m • \u001b[0m\u001b[1mDry Aged Porterhouse\u001b[0m - A classic steak option, perfect for meat lovers.                                         \n",
       "\u001b[1;33m • \u001b[0m\u001b[1mPan-Seared Wahoo\u001b[0m - A delicious seafood choice with a tropical flair.                                            \n",
       "\u001b[1;33m • \u001b[0m\u001b[1mLobster Mac 'N' Cheese\u001b[0m - An indulgent side that pairs wonderfully with any main dish.                           \n",
       "\n",
       "Enjoy your dinner!                                                                                                 \n"
      ]
     },
     "metadata": {},
     "output_type": "display_data"
    }
   ],
   "source": [
    "import pandas as pd\n",
    "from tecton_gen_ai.testing import make_local_batch_feature_view\n",
    "from tecton_gen_ai.utils.tecton import make_request_source\n",
    "\n",
    "# what if we had more up to date information about the user, like their name, age and cuisines preference\n",
    "user_info = pd.DataFrame(\n",
    "        [\n",
    "            {\"user_id\": \"user1\", \"name\": \"Jim\",  \"age\": 30, \"food_preference\": \"American\"},\n",
    "            {\"user_id\": \"user2\", \"name\": \"John\", \"age\": 40, \"food_preference\": \"Italian\"},\n",
    "            {\"user_id\": \"user3\", \"name\": \"Jane\", \"age\": 50, \"food_preference\": \"Chinese\"},\n",
    "        ]\n",
    "    )\n",
    "user_info_fv = make_local_batch_feature_view( \"user_info_fv\", user_info, entity_keys=[\"user_id\"], description=\"User's basic information.\")\n",
    "\n",
    "# and what if we knew their current location\n",
    "location_request = make_request_source(location = str)\n",
    "\n",
    "#we could create a prompt like this\n",
    "@prompt(sources=[ location_request, user_info_fv])  # specifies sources of data for the prompt\n",
    "def sys_prompt(location_request, user_info_fv ):\n",
    "    location = location_request[\"location\"]\n",
    "    name = user_info_fv[\"name\"]\n",
    "    return f\"\"\"\n",
    "    Address the user by their name. Their name is {name}.\n",
    "    You are a consierge service that recommends restaurants.\n",
    "    Only suggest restaurants that are in or near {location}. \n",
    "    Always provide an address.\n",
    "    Always suggested menu items. \n",
    "    \"\"\"\n",
    "\n",
    "#define the Tecton Agent Service specifying the prompts, sources of knowledge and feature tools \n",
    "service = AgentService(\n",
    "    name=\"restaurant_recommender\",\n",
    "    prompts=[sys_prompt],\n",
    ")\n",
    "mobile_app_context={\"user_id\":\"user3\", \"location\":\"Charlotte, NC\"}\n",
    "support_chatbot(service, \"recommend a restaurant for tonight\", mobile_app_context)"
   ]
  },
  {
   "cell_type": "code",
   "execution_count": 9,
   "metadata": {},
   "outputs": [
    {
     "data": {
      "text/html": [
       "<pre style=\"white-space:pre;overflow-x:auto;line-height:normal;font-family:Menlo,'DejaVu Sans Mono',consolas,'Courier New',monospace\">Sure, Jim! Could you please share your preferences, such as cuisine type or any specific dishes you enjoy? This    \n",
       "will help me provide a tailored recommendation for you tonight.                                                    \n",
       "</pre>\n"
      ],
      "text/plain": [
       "Sure, Jim! Could you please share your preferences, such as cuisine type or any specific dishes you enjoy? This    \n",
       "will help me provide a tailored recommendation for you tonight.                                                    \n"
      ]
     },
     "metadata": {},
     "output_type": "display_data"
    }
   ],
   "source": [
    "# but now what if the question requires more data\n",
    "mobile_app_context={\"user_id\":\"user1\", \"location\":\"Charlotte, NC\"}\n",
    "support_chatbot(service, \"recommend a restaurant for tonight based on my preference\", mobile_app_context)\n"
   ]
  },
  {
   "cell_type": "markdown",
   "metadata": {},
   "source": [
    "# Features as Tools"
   ]
  },
  {
   "cell_type": "code",
   "execution_count": 10,
   "metadata": {},
   "outputs": [
    {
     "data": {
      "text/html": [
       "<pre style=\"white-space:pre;overflow-x:auto;line-height:normal;font-family:Menlo,'DejaVu Sans Mono',consolas,'Courier New',monospace\">Here are some great American restaurants in or near Charlotte, NC that you might enjoy, Jim:                       \n",
       "\n",
       "<span style=\"color: #808000; text-decoration-color: #808000; font-weight: bold\"> 1 </span><span style=\"font-weight: bold\">The Capital Grille</span>                                                                                              \n",
       "<span style=\"color: #808000; text-decoration-color: #808000; font-weight: bold\">    • </span><span style=\"font-weight: bold\">Address:</span> 201 N Tryon St, Charlotte, NC 28202                                                                 \n",
       "<span style=\"color: #808000; text-decoration-color: #808000; font-weight: bold\">    • </span><span style=\"font-weight: bold\">Suggested Menu Items:</span> Dry Aged Porterhouse, Lobster Mac 'n' Cheese, and the Chocolate Cake.                  \n",
       "<span style=\"color: #808000; text-decoration-color: #808000; font-weight: bold\"> 2 </span><span style=\"font-weight: bold\">Midwood Smokehouse</span>                                                                                              \n",
       "<span style=\"color: #808000; text-decoration-color: #808000; font-weight: bold\">    • </span><span style=\"font-weight: bold\">Address:</span> 1401 Central Ave, Charlotte, NC 28205                                                               \n",
       "<span style=\"color: #808000; text-decoration-color: #808000; font-weight: bold\">    • </span><span style=\"font-weight: bold\">Suggested Menu Items:</span> Brisket, Smoked Chicken, and their famous BBQ Nachos.                                  \n",
       "<span style=\"color: #808000; text-decoration-color: #808000; font-weight: bold\"> 3 </span><span style=\"font-weight: bold\">The Cowfish Sushi Burger Bar</span>                                                                                    \n",
       "<span style=\"color: #808000; text-decoration-color: #808000; font-weight: bold\">    • </span><span style=\"font-weight: bold\">Address:</span> 4310 Sharon Rd, Charlotte, NC 28211                                                                 \n",
       "<span style=\"color: #808000; text-decoration-color: #808000; font-weight: bold\">    • </span><span style=\"font-weight: bold\">Suggested Menu Items:</span> The Cowfish Burger, Sushi Burgers, and the Buns Over Burgers.                          \n",
       "<span style=\"color: #808000; text-decoration-color: #808000; font-weight: bold\"> 4 </span><span style=\"font-weight: bold\">Mellow Mushroom</span>                                                                                                 \n",
       "<span style=\"color: #808000; text-decoration-color: #808000; font-weight: bold\">    • </span><span style=\"font-weight: bold\">Address:</span> 3201 N Davidson St, Charlotte, NC 28205                                                             \n",
       "<span style=\"color: #808000; text-decoration-color: #808000; font-weight: bold\">    • </span><span style=\"font-weight: bold\">Suggested Menu Items:</span> Holy Shiitake Pie, Mega-Veggie Pizza, and their Calzones.                              \n",
       "\n",
       "Feel free to choose one that sounds appealing for your dinner tonight!                                             \n",
       "</pre>\n"
      ],
      "text/plain": [
       "Here are some great American restaurants in or near Charlotte, NC that you might enjoy, Jim:                       \n",
       "\n",
       "\u001b[1;33m 1 \u001b[0m\u001b[1mThe Capital Grille\u001b[0m                                                                                              \n",
       "\u001b[1;33m   \u001b[0m\u001b[1;33m • \u001b[0m\u001b[1mAddress:\u001b[0m 201 N Tryon St, Charlotte, NC 28202                                                                 \n",
       "\u001b[1;33m   \u001b[0m\u001b[1;33m • \u001b[0m\u001b[1mSuggested Menu Items:\u001b[0m Dry Aged Porterhouse, Lobster Mac 'n' Cheese, and the Chocolate Cake.                  \n",
       "\u001b[1;33m 2 \u001b[0m\u001b[1mMidwood Smokehouse\u001b[0m                                                                                              \n",
       "\u001b[1;33m   \u001b[0m\u001b[1;33m • \u001b[0m\u001b[1mAddress:\u001b[0m 1401 Central Ave, Charlotte, NC 28205                                                               \n",
       "\u001b[1;33m   \u001b[0m\u001b[1;33m • \u001b[0m\u001b[1mSuggested Menu Items:\u001b[0m Brisket, Smoked Chicken, and their famous BBQ Nachos.                                  \n",
       "\u001b[1;33m 3 \u001b[0m\u001b[1mThe Cowfish Sushi Burger Bar\u001b[0m                                                                                    \n",
       "\u001b[1;33m   \u001b[0m\u001b[1;33m • \u001b[0m\u001b[1mAddress:\u001b[0m 4310 Sharon Rd, Charlotte, NC 28211                                                                 \n",
       "\u001b[1;33m   \u001b[0m\u001b[1;33m • \u001b[0m\u001b[1mSuggested Menu Items:\u001b[0m The Cowfish Burger, Sushi Burgers, and the Buns Over Burgers.                          \n",
       "\u001b[1;33m 4 \u001b[0m\u001b[1mMellow Mushroom\u001b[0m                                                                                                 \n",
       "\u001b[1;33m   \u001b[0m\u001b[1;33m • \u001b[0m\u001b[1mAddress:\u001b[0m 3201 N Davidson St, Charlotte, NC 28205                                                             \n",
       "\u001b[1;33m   \u001b[0m\u001b[1;33m • \u001b[0m\u001b[1mSuggested Menu Items:\u001b[0m Holy Shiitake Pie, Mega-Veggie Pizza, and their Calzones.                              \n",
       "\n",
       "Feel free to choose one that sounds appealing for your dinner tonight!                                             \n"
      ]
     },
     "metadata": {},
     "output_type": "display_data"
    }
   ],
   "source": [
    "\n",
    "#define the Tecton Agent Service specifying the prompts, sources of knowledge and feature tools \n",
    "service = AgentService(\n",
    "    name=\"restaurant_recommender\",\n",
    "    prompts=[sys_prompt],\n",
    "    tools=[user_info_fv] # user_info_fv provides food preference and recent_eats_fv provides recent dining\n",
    ")\n",
    "\n",
    "# we should get a much better answer\n",
    "support_chatbot(service, \"recommend a restaurant for tonight based on my preference\", {\"user_id\":\"user1\", \"location\":\"Charlotte, NC\"})\n"
   ]
  },
  {
   "cell_type": "code",
   "execution_count": 13,
   "metadata": {},
   "outputs": [
    {
     "data": {
      "text/html": [
       "<pre style=\"white-space:pre;overflow-x:auto;line-height:normal;font-family:Menlo,'DejaVu Sans Mono',consolas,'Courier New',monospace\">Here are some restaurant recommendations for you, Jane, that are in or near Charlotte, NC, especially catering to  \n",
       "your preference for Chinese cuisine:                                                                               \n",
       "\n",
       "<span style=\"color: #808000; text-decoration-color: #808000; font-weight: bold\"> 1 </span><span style=\"font-weight: bold\">Huang's Asian Cuisine</span>                                                                                           \n",
       "<span style=\"color: #808000; text-decoration-color: #808000; font-weight: bold\">   </span><span style=\"font-weight: bold\">Address:</span> 10400 Park Rd Suite E, Charlotte, NC 28210                                                             \n",
       "<span style=\"color: #808000; text-decoration-color: #808000; font-weight: bold\">   </span><span style=\"font-weight: bold\">Suggested Menu Items:</span>                                                                                           \n",
       "<span style=\"color: #808000; text-decoration-color: #808000; font-weight: bold\">    • </span>General Tso's Chicken                                                                                        \n",
       "<span style=\"color: #808000; text-decoration-color: #808000; font-weight: bold\">    • </span>Beef and Broccoli                                                                                            \n",
       "<span style=\"color: #808000; text-decoration-color: #808000; font-weight: bold\">    • </span>Hot and Sour Soup                                                                                            \n",
       "<span style=\"color: #808000; text-decoration-color: #808000; font-weight: bold\"> 2 </span><span style=\"font-weight: bold\">Panda Cuisine</span>                                                                                                   \n",
       "<span style=\"color: #808000; text-decoration-color: #808000; font-weight: bold\">   </span><span style=\"font-weight: bold\">Address:</span> 4820 South Blvd, Charlotte, NC 28217                                                                   \n",
       "<span style=\"color: #808000; text-decoration-color: #808000; font-weight: bold\">   </span><span style=\"font-weight: bold\">Suggested Menu Items:</span>                                                                                           \n",
       "<span style=\"color: #808000; text-decoration-color: #808000; font-weight: bold\">    • </span>Orange Chicken                                                                                               \n",
       "<span style=\"color: #808000; text-decoration-color: #808000; font-weight: bold\">    • </span>Shrimp Fried Rice                                                                                            \n",
       "<span style=\"color: #808000; text-decoration-color: #808000; font-weight: bold\">    • </span>Kung Pao Chicken                                                                                             \n",
       "<span style=\"color: #808000; text-decoration-color: #808000; font-weight: bold\"> 3 </span><span style=\"font-weight: bold\">Szechuan Pavilion</span>                                                                                               \n",
       "<span style=\"color: #808000; text-decoration-color: #808000; font-weight: bold\">   </span><span style=\"font-weight: bold\">Address:</span> 7006 Weddington Rd, Wesley Chapel, NC 28104                                                            \n",
       "<span style=\"color: #808000; text-decoration-color: #808000; font-weight: bold\">   </span><span style=\"font-weight: bold\">Suggested Menu Items:</span>                                                                                           \n",
       "<span style=\"color: #808000; text-decoration-color: #808000; font-weight: bold\">    • </span>Szechuan Spicy Noodles                                                                                       \n",
       "<span style=\"color: #808000; text-decoration-color: #808000; font-weight: bold\">    • </span>Mapo Tofu                                                                                                    \n",
       "<span style=\"color: #808000; text-decoration-color: #808000; font-weight: bold\">    • </span>Sweet and Sour Pork                                                                                          \n",
       "\n",
       "Enjoy your dinner! Let me know if you need more options or details.                                                \n",
       "</pre>\n"
      ],
      "text/plain": [
       "Here are some restaurant recommendations for you, Jane, that are in or near Charlotte, NC, especially catering to  \n",
       "your preference for Chinese cuisine:                                                                               \n",
       "\n",
       "\u001b[1;33m 1 \u001b[0m\u001b[1mHuang's Asian Cuisine\u001b[0m                                                                                           \n",
       "\u001b[1;33m   \u001b[0m\u001b[1mAddress:\u001b[0m 10400 Park Rd Suite E, Charlotte, NC 28210                                                             \n",
       "\u001b[1;33m   \u001b[0m\u001b[1mSuggested Menu Items:\u001b[0m                                                                                           \n",
       "\u001b[1;33m   \u001b[0m\u001b[1;33m • \u001b[0mGeneral Tso's Chicken                                                                                        \n",
       "\u001b[1;33m   \u001b[0m\u001b[1;33m • \u001b[0mBeef and Broccoli                                                                                            \n",
       "\u001b[1;33m   \u001b[0m\u001b[1;33m • \u001b[0mHot and Sour Soup                                                                                            \n",
       "\u001b[1;33m 2 \u001b[0m\u001b[1mPanda Cuisine\u001b[0m                                                                                                   \n",
       "\u001b[1;33m   \u001b[0m\u001b[1mAddress:\u001b[0m 4820 South Blvd, Charlotte, NC 28217                                                                   \n",
       "\u001b[1;33m   \u001b[0m\u001b[1mSuggested Menu Items:\u001b[0m                                                                                           \n",
       "\u001b[1;33m   \u001b[0m\u001b[1;33m • \u001b[0mOrange Chicken                                                                                               \n",
       "\u001b[1;33m   \u001b[0m\u001b[1;33m • \u001b[0mShrimp Fried Rice                                                                                            \n",
       "\u001b[1;33m   \u001b[0m\u001b[1;33m • \u001b[0mKung Pao Chicken                                                                                             \n",
       "\u001b[1;33m 3 \u001b[0m\u001b[1mSzechuan Pavilion\u001b[0m                                                                                               \n",
       "\u001b[1;33m   \u001b[0m\u001b[1mAddress:\u001b[0m 7006 Weddington Rd, Wesley Chapel, NC 28104                                                            \n",
       "\u001b[1;33m   \u001b[0m\u001b[1mSuggested Menu Items:\u001b[0m                                                                                           \n",
       "\u001b[1;33m   \u001b[0m\u001b[1;33m • \u001b[0mSzechuan Spicy Noodles                                                                                       \n",
       "\u001b[1;33m   \u001b[0m\u001b[1;33m • \u001b[0mMapo Tofu                                                                                                    \n",
       "\u001b[1;33m   \u001b[0m\u001b[1;33m • \u001b[0mSweet and Sour Pork                                                                                          \n",
       "\n",
       "Enjoy your dinner! Let me know if you need more options or details.                                                \n"
      ]
     },
     "metadata": {},
     "output_type": "display_data"
    }
   ],
   "source": [
    "# user's recent visits \n",
    "recent_eats = pd.DataFrame(\n",
    "        [\n",
    "            {\"user_id\": \"user1\", \"last_3_visits\":str([\"Mama Ricotta's\", \"The Capital Grille\", \"Firebirds Wood Fired Grill\"])},\n",
    "            {\"user_id\": \"user2\", \"last_3_visits\":str([\"Mama Ricotta's\", \"Villa Antonio\", \"Viva Chicken\"])},\n",
    "            {\"user_id\": \"user3\", \"last_3_visits\":str([\"Wan Fu\", \"Wan Fu Quality Chinese Cuisine\", \"Ru San's\"])},\n",
    "        ]\n",
    "    )\n",
    "recent_eats_fv = make_local_batch_feature_view( \"recent_eats_fv\", recent_eats, entity_keys=[\"user_id\"], description=\"User's recent restaurant visits.\")\n",
    "\n",
    "#define the Tecton Agent Service specifying the prompts, sources of knowledge and feature tools \n",
    "service = AgentService(\n",
    "    name=\"restaurant_recommender\",\n",
    "    prompts=[sys_prompt],\n",
    "    tools=[user_info_fv, recent_eats_fv] # recent_eats_fv provides recent dining\n",
    ")\n",
    "\n",
    "# if the user asks a more complex question...\n",
    "mobile_app_context = {\"user_id\":\"user3\", \"location\":\"Charlotte, NC\"}\n",
    "support_chatbot(service, \"I need a new restaurant for tonight\", mobile_app_context)\n"
   ]
  },
  {
   "cell_type": "markdown",
   "metadata": {},
   "source": [
    "# Knowledge\n",
    "\n",
    "Adding knowledge to an LLM provides domain specific information that extends beyond its base training. With it, the LLM is able to select relevant text that helps respond to user queries and avoid hallucination. Under the covers, Tecton calculates embedding vectors and stores the data in a vector search database which the LLM workflow agent can use to do semantic search. With Tecton knowledge, other fields can be used to filter the dataset prior to executing the semantic search which provides even more relevance to the results."
   ]
  },
  {
   "cell_type": "code",
   "execution_count": 14,
   "metadata": {},
   "outputs": [],
   "source": [
    "# Let's say we only want to use restaurants that have signed up for the service, \n",
    "# and not those that the general LLM training knows about\n",
    "\n",
    "#change the prompt instructions\n",
    "@prompt(sources=[ location_request, user_info_fv])  # specifies sources of data for the prompt\n",
    "def sys_prompt(location_request, user_info_fv ):\n",
    "    location = location_request[\"location\"]\n",
    "    name = user_info_fv[\"name\"]\n",
    "    return f\"\"\"\n",
    "    Address the user by their name. Their name is {name}.\n",
    "    You are a consierge service that recommends restaurants.\n",
    "    Only suggest restaurants that are in or near {location}. \n",
    "    Always provide an address.\n",
    "    Always suggested menu items. \n",
    "    Only select restaurants that have signed up on the service. \n",
    "    \"\"\" # notice that we've added an instruction\n",
    "\n",
    "#example knowledge about restaurants that have signed up\n",
    "restaurants_signed_up = pd.DataFrame([\n",
    "  {\n",
    "    \"restaurant_name\": \"Mama Ricotta's\",\n",
    "    \"zipcode\": \"28203\",\n",
    "    \"cuisine\": \"Italian\",\n",
    "    \"description\": \"A Charlotte staple since 1992, Mama Ricotta's offers authentic Italian cuisine in a warm, family-friendly atmosphere. Known for their hand-tossed pizzas, homemade pasta, and signature chicken parmesan.\"\n",
    "  },\n",
    "  {\n",
    "    \"restaurant_name\": \"The Capital Grille\",\n",
    "    \"zipcode\": \"28202\",\n",
    "    \"cuisine\": \"American Steakhouse\",\n",
    "    \"description\": \"An upscale steakhouse chain featuring dry-aged steaks, fresh seafood, and an extensive wine list. The Charlotte location offers a refined dining experience with impeccable service and a sophisticated ambiance.\"\n",
    "  },\n",
    "  {\n",
    "    \"restaurant_name\": \"Firebirds Wood Fired Grill\",\n",
    "    \"zipcode\": \"28277\",\n",
    "    \"cuisine\": \"American\",\n",
    "    \"description\": \"A polished casual restaurant known for its classic American cuisine cooked over an open wood fire. Specialties include hand-cut steaks, fresh seafood, and signature cocktails in a warm, contemporary setting.\"\n",
    "  },\n",
    "  {\n",
    "    \"restaurant_name\": \"Villa Antonio\",\n",
    "    \"zipcode\": \"28210\",\n",
    "    \"cuisine\": \"Italian\",\n",
    "    \"description\": \"An elegant Italian restaurant offering a romantic atmosphere and authentic cuisine. Known for its homemade pasta, extensive wine selection, and attentive service, perfect for special occasions.\"\n",
    "  },\n",
    "  {\n",
    "    \"restaurant_name\": \"Viva Chicken\",\n",
    "    \"zipcode\": \"28203\",\n",
    "    \"cuisine\": \"Peruvian\",\n",
    "    \"description\": \"A fast-casual eatery specializing in Peruvian-style rotisserie chicken. Offers fresh, flavorful dishes with a modern twist on traditional Peruvian cuisine, including quinoa stuffed avocados and yuca fries.\"\n",
    "  },\n",
    "  {\n",
    "    \"restaurant_name\": \"Wan Fu\",\n",
    "    \"zipcode\": \"28226\",\n",
    "    \"cuisine\": \"Chinese\",\n",
    "    \"description\": \"A local favorite for Chinese cuisine, Wan Fu offers a wide array of traditional and Americanized Chinese dishes. Known for its generous portions, friendly service, and comfortable dining atmosphere.\"\n",
    "  },\n",
    "  {\n",
    "    \"restaurant_name\": \"Wan Fu Quality Chinese Cuisine\",\n",
    "    \"zipcode\": \"28277\",\n",
    "    \"cuisine\": \"Chinese\",\n",
    "    \"description\": \"An upscale Chinese restaurant focusing on authentic flavors and high-quality ingredients. Offers a more refined dining experience with a menu featuring both classic and innovative Chinese dishes.\"\n",
    "  },\n",
    "  {\n",
    "    \"restaurant_name\": \"Ru San's\",\n",
    "    \"zipcode\": \"28203\",\n",
    "    \"cuisine\": \"Japanese\",\n",
    "    \"description\": \"A popular sushi restaurant known for its extensive menu and all-you-can-eat option. Offers a wide variety of sushi rolls, sashimi, and other Japanese dishes in a casual, vibrant atmosphere.\"\n",
    "  },\n",
    "  {\n",
    "    \"restaurant_name\": \"Le Bernardin\",\n",
    "    \"zipcode\": \"10019\",\n",
    "    \"cuisine\": \"French Seafood\",\n",
    "    \"description\": \"A world-renowned, Michelin three-star restaurant specializing in exquisite seafood. Chef Eric Ripert's menu features innovative preparations of the finest global seafood in an elegant setting.\"\n",
    "  },\n",
    "  {\n",
    "    \"restaurant_name\": \"Katz's Delicatessen\",\n",
    "    \"zipcode\": \"10002\",\n",
    "    \"cuisine\": \"Jewish Deli\",\n",
    "    \"description\": \"An iconic New York institution since 1888, famous for its hand-carved pastrami and corned beef sandwiches. The bustling, no-frills atmosphere is part of its enduring charm.\"\n",
    "  },\n",
    "  {\n",
    "    \"restaurant_name\": \"Eleven Madison Park\",\n",
    "    \"zipcode\": \"10010\",\n",
    "    \"cuisine\": \"Contemporary American\",\n",
    "    \"description\": \"A three-Michelin-starred restaurant offering an innovative tasting menu focusing on locally sourced, plant-based ingredients. Known for its impeccable service and artistic presentation.\"\n",
    "  },\n",
    "  {\n",
    "    \"restaurant_name\": \"Peter Luger Steak House\",\n",
    "    \"zipcode\": \"11211\",\n",
    "    \"cuisine\": \"Steakhouse\",\n",
    "    \"description\": \"A Brooklyn institution since 1887, Peter Luger is famous for its dry-aged steaks and old-school, cash-only policy. The no-frills atmosphere focuses attention on the exceptional quality of the meat.\"\n",
    "  },\n",
    "  {\n",
    "    \"restaurant_name\": \"Di Fara Pizza\",\n",
    "    \"zipcode\": \"11230\",\n",
    "    \"cuisine\": \"Pizza\",\n",
    "    \"description\": \"A legendary Brooklyn pizzeria, Di Fara is known for its handcrafted pies made by founder Dom DeMarco. Each pizza is a work of art, featuring high-quality ingredients and meticulous preparation.\"\n",
    "  },\n",
    "  {\n",
    "    \"restaurant_name\": \"Balthazar\",\n",
    "    \"zipcode\": \"10012\",\n",
    "    \"cuisine\": \"French Brasserie\",\n",
    "    \"description\": \"A SoHo classic, Balthazar offers authentic French brasserie fare in a vibrant, bustling atmosphere. Known for its fresh seafood, classic French dishes, and popular weekend brunch.\"\n",
    "  },\n",
    "  {\n",
    "    \"restaurant_name\": \"Momofuku Ko\",\n",
    "    \"zipcode\": \"10003\",\n",
    "    \"cuisine\": \"Contemporary Asian\",\n",
    "    \"description\": \"Chef David Chang's two-Michelin-starred restaurant offers an ever-changing tasting menu blending Asian and Western influences. The intimate counter seating provides a unique, interactive dining experience.\"\n",
    "  },\n",
    "  {\n",
    "    \"restaurant_name\": \"The Halal Guys\",\n",
    "    \"zipcode\": \"10019\",\n",
    "    \"cuisine\": \"Middle Eastern\",\n",
    "    \"description\": \"Starting as a food cart, The Halal Guys has become a New York institution. Famous for its chicken and gyro over rice, topped with their legendary white sauce. Now with brick-and-mortar locations.\"\n",
    "  },\n",
    "  {\n",
    "    \"restaurant_name\": \"Russ & Daughters\",\n",
    "    \"zipcode\": \"10002\",\n",
    "    \"cuisine\": \"Jewish Appetizing\",\n",
    "    \"description\": \"A New York classic since 1914, specializing in traditional Jewish appetizing foods. Famous for its hand-sliced smoked salmon, bagels, and other Jewish delicacies. Now includes a sit-down cafe.\"\n",
    "  },\n",
    "  {\n",
    "    \"restaurant_name\": \"Lombardi's\",\n",
    "    \"zipcode\": \"10012\",\n",
    "    \"cuisine\": \"Pizza\",\n",
    "    \"description\": \"America's first pizzeria, established in 1905. Lombardi's continues to serve classic New York-style pizza from its coal-fired oven. Known for its simple, high-quality ingredients and historic charm.\"\n",
    "  },\n",
    "  {\n",
    "    \"restaurant_name\": \"Joe's Shanghai\",\n",
    "    \"zipcode\": \"10013\",\n",
    "    \"cuisine\": \"Chinese\",\n",
    "    \"description\": \"Famous for introducing soup dumplings to New York, Joe's Shanghai offers authentic Shanghai-style cuisine. The bustling, no-frills atmosphere adds to the authentic experience.\"\n",
    "  }\n",
    "]\n",
    ")\n",
    "\n"
   ]
  },
  {
   "cell_type": "code",
   "execution_count": 15,
   "metadata": {},
   "outputs": [],
   "source": [
    "from tecton_gen_ai.testing import make_local_source\n",
    "from tecton_gen_ai.testing.utils import create_testing_vector_db_config\n",
    "from tecton_gen_ai.fco import source_as_knowledge\n",
    "\n",
    "#provide a vector db config\n",
    "conf = create_testing_vector_db_config(\"/tmp/test.db\", remove_if_exists=True)\n",
    "\n",
    "#create embeddings of the restaurant descriptions in the vector DB\n",
    "src = make_local_source(\"restaurants_signed_up\", restaurants_signed_up, auto_timestamp=True, description=\"Restaurants that signed up for the service\")\n",
    "\n",
    "restaurant_knowledge = source_as_knowledge(\n",
    "    src,\n",
    "    vector_db_config=conf,\n",
    "    vectorize_column=\"description\",\n",
    "    filter = [(\"zipcode\", str, \"the zip code for the restaurant\"), (\"cuisine\", str, \"the cuisine that they serve\")]\n",
    ")\n",
    "\n",
    "#rebuild the service with restaurant knowledge included\n",
    "service = AgentService(\n",
    "    name=\"restaurant_recommender\",\n",
    "    prompts=[sys_prompt],\n",
    "    knowledge=[restaurant_knowledge],  # added a source of knowledge\n",
    "    tools=[user_info_fv, recent_eats_fv] \n",
    ")\n"
   ]
  },
  {
   "cell_type": "code",
   "execution_count": 16,
   "metadata": {},
   "outputs": [
    {
     "name": "stderr",
     "output_type": "stream",
     "text": [
      "/Users/brian/code/source/tecton-misc/gen-ai/.venv/lib/python3.11/site-packages/tqdm/auto.py:21: TqdmWarning: IProgress not found. Please update jupyter and ipywidgets. See https://ipywidgets.readthedocs.io/en/stable/user_install.html\n",
      "  from .autonotebook import tqdm as notebook_tqdm\n"
     ]
    },
    {
     "data": {
      "text/html": [
       "<pre style=\"white-space:pre;overflow-x:auto;line-height:normal;font-family:Menlo,'DejaVu Sans Mono',consolas,'Courier New',monospace\">I found a great restaurant for you, Jane!                                                                          \n",
       "\n",
       "<span style=\"font-weight: bold\">Firebirds Wood Fired Grill</span>                                                                                         \n",
       "\n",
       "<span style=\"color: #808000; text-decoration-color: #808000; font-weight: bold\"> • </span><span style=\"font-weight: bold\">Address:</span> 1450 S. Tryon St., Charlotte, NC 28277                                                                 \n",
       "<span style=\"color: #808000; text-decoration-color: #808000; font-weight: bold\"> • </span><span style=\"font-weight: bold\">Cuisine:</span> American                                                                                               \n",
       "<span style=\"color: #808000; text-decoration-color: #808000; font-weight: bold\"> • </span><span style=\"font-weight: bold\">Description:</span> A polished casual restaurant known for its classic American cuisine cooked over an open wood fire. \n",
       "<span style=\"color: #808000; text-decoration-color: #808000; font-weight: bold\">   </span>Specialties include hand-cut steaks, fresh seafood, and signature cocktails in a warm, contemporary setting.    \n",
       "<span style=\"color: #808000; text-decoration-color: #808000; font-weight: bold\"> • </span><span style=\"font-weight: bold\">Recommended Menu Items:</span> Dry-aged steak and their delectable dessert options, including tiramisu (if available). \n",
       "\n",
       "It looks like you have visited \"Wan Fu\" and \"Wan Fu Quality Chinese Cuisine,\" but Firebirds Wood Fired Grill should\n",
       "be a fresh option for you! Enjoy your meal!                                                                        \n",
       "</pre>\n"
      ],
      "text/plain": [
       "I found a great restaurant for you, Jane!                                                                          \n",
       "\n",
       "\u001b[1mFirebirds Wood Fired Grill\u001b[0m                                                                                         \n",
       "\n",
       "\u001b[1;33m • \u001b[0m\u001b[1mAddress:\u001b[0m 1450 S. Tryon St., Charlotte, NC 28277                                                                 \n",
       "\u001b[1;33m • \u001b[0m\u001b[1mCuisine:\u001b[0m American                                                                                               \n",
       "\u001b[1;33m • \u001b[0m\u001b[1mDescription:\u001b[0m A polished casual restaurant known for its classic American cuisine cooked over an open wood fire. \n",
       "\u001b[1;33m   \u001b[0mSpecialties include hand-cut steaks, fresh seafood, and signature cocktails in a warm, contemporary setting.    \n",
       "\u001b[1;33m • \u001b[0m\u001b[1mRecommended Menu Items:\u001b[0m Dry-aged steak and their delectable dessert options, including tiramisu (if available). \n",
       "\n",
       "It looks like you have visited \"Wan Fu\" and \"Wan Fu Quality Chinese Cuisine,\" but Firebirds Wood Fired Grill should\n",
       "be a fresh option for you! Enjoy your meal!                                                                        \n"
      ]
     },
     "metadata": {},
     "output_type": "display_data"
    }
   ],
   "source": [
    "# test the app\n",
    "mobile_app_context = {\"user_id\":\"user3\", \"location\":\"28277\"}\n",
    "support_chatbot(service, \"recommend a restaurant I have not visited with dry-aged steaks and tiramisu\", mobile_app_context)"
   ]
  },
  {
   "cell_type": "code",
   "execution_count": 17,
   "metadata": {},
   "outputs": [
    {
     "name": "stderr",
     "output_type": "stream",
     "text": [
      "/Users/brian/code/source/tecton-misc/gen-ai/.venv/lib/python3.11/site-packages/langchain_community/vectorstores/lancedb.py:393: UserWarning: No results found for the query.\n",
      "  warnings.warn(\"No results found for the query.\")\n",
      "/Users/brian/code/source/tecton-misc/gen-ai/.venv/lib/python3.11/site-packages/langchain_community/vectorstores/lancedb.py:393: UserWarning: No results found for the query.\n",
      "  warnings.warn(\"No results found for the query.\")\n"
     ]
    },
    {
     "data": {
      "text/html": [
       "<pre style=\"white-space:pre;overflow-x:auto;line-height:normal;font-family:Menlo,'DejaVu Sans Mono',consolas,'Courier New',monospace\">It looks like there are currently no restaurants in or near 10200 that offer dry-aged steaks or Tiramisu. Would you\n",
       "like to try a different type of cuisine or dish?                                                                   \n",
       "</pre>\n"
      ],
      "text/plain": [
       "It looks like there are currently no restaurants in or near 10200 that offer dry-aged steaks or Tiramisu. Would you\n",
       "like to try a different type of cuisine or dish?                                                                   \n"
      ]
     },
     "metadata": {},
     "output_type": "display_data"
    }
   ],
   "source": [
    "# test for a zipcode that is not close to any in the apps knowledge\n",
    "mobile_app_context = {\"user_id\":\"user1\", \"location\":\"10200\"}\n",
    "support_chatbot(service, \"recommend a new restaurant with dry-aged steaks and Tiramisu\", mobile_app_context)\n"
   ]
  },
  {
   "cell_type": "code",
   "execution_count": 18,
   "metadata": {},
   "outputs": [
    {
     "data": {
      "text/html": [
       "<pre style=\"white-space:pre;overflow-x:auto;line-height:normal;font-family:Menlo,'DejaVu Sans Mono',consolas,'Courier New',monospace\">John, among your recent visits, <span style=\"font-weight: bold\">Villa Antonio</span> offers Tiramisu! Here are the details:                               \n",
       "\n",
       "<span style=\"color: #808000; text-decoration-color: #808000; font-weight: bold\"> • </span><span style=\"font-weight: bold\">Cuisine</span>: Italian                                                                                                \n",
       "<span style=\"color: #808000; text-decoration-color: #808000; font-weight: bold\"> • </span><span style=\"font-weight: bold\">Description</span>: An elegant Italian restaurant providing a romantic atmosphere and authentic cuisine. Known for its \n",
       "<span style=\"color: #808000; text-decoration-color: #808000; font-weight: bold\">   </span>homemade pasta, extensive wine selection, and attentive service, perfect for special occasions.                 \n",
       "<span style=\"color: #808000; text-decoration-color: #808000; font-weight: bold\"> • </span><span style=\"font-weight: bold\">Address</span>: 28210                                                                                                  \n",
       "\n",
       "<span style=\"font-weight: bold\">Recommended Menu Items</span>:                                                                                            \n",
       "\n",
       "<span style=\"color: #808000; text-decoration-color: #808000; font-weight: bold\"> • </span>Tiramisu                                                                                                        \n",
       "<span style=\"color: #808000; text-decoration-color: #808000; font-weight: bold\"> • </span>Homemade Pasta                                                                                                  \n",
       "<span style=\"color: #808000; text-decoration-color: #808000; font-weight: bold\"> • </span>Extensive Wine Selection                                                                                        \n",
       "\n",
       "Enjoy your meal!                                                                                                   \n",
       "</pre>\n"
      ],
      "text/plain": [
       "John, among your recent visits, \u001b[1mVilla Antonio\u001b[0m offers Tiramisu! Here are the details:                               \n",
       "\n",
       "\u001b[1;33m • \u001b[0m\u001b[1mCuisine\u001b[0m: Italian                                                                                                \n",
       "\u001b[1;33m • \u001b[0m\u001b[1mDescription\u001b[0m: An elegant Italian restaurant providing a romantic atmosphere and authentic cuisine. Known for its \n",
       "\u001b[1;33m   \u001b[0mhomemade pasta, extensive wine selection, and attentive service, perfect for special occasions.                 \n",
       "\u001b[1;33m • \u001b[0m\u001b[1mAddress\u001b[0m: 28210                                                                                                  \n",
       "\n",
       "\u001b[1mRecommended Menu Items\u001b[0m:                                                                                            \n",
       "\n",
       "\u001b[1;33m • \u001b[0mTiramisu                                                                                                        \n",
       "\u001b[1;33m • \u001b[0mHomemade Pasta                                                                                                  \n",
       "\u001b[1;33m • \u001b[0mExtensive Wine Selection                                                                                        \n",
       "\n",
       "Enjoy your meal!                                                                                                   \n"
      ]
     },
     "metadata": {},
     "output_type": "display_data"
    }
   ],
   "source": [
    "# test for recent visits with item they do not serve\n",
    "mobile_app_context = {\"user_id\":\"user2\", \"location\":\"28277\"}\n",
    "support_chatbot(service, \"recommend a one of my recent visits that has Tiramisu\", mobile_app_context)"
   ]
  },
  {
   "cell_type": "code",
   "execution_count": null,
   "metadata": {},
   "outputs": [],
   "source": []
  }
 ],
 "metadata": {
  "kernelspec": {
   "display_name": "tecton",
   "language": "python",
   "name": "python3"
  },
  "language_info": {
   "codemirror_mode": {
    "name": "ipython",
    "version": 3
   },
   "file_extension": ".py",
   "mimetype": "text/x-python",
   "name": "python",
   "nbconvert_exporter": "python",
   "pygments_lexer": "ipython3",
   "version": "3.11.9"
  }
 },
 "nbformat": 4,
 "nbformat_minor": 2
}
