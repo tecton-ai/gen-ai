{
 "cells": [
  {
   "cell_type": "markdown",
   "metadata": {},
   "source": [
    "# Using Prompts, Features as Tools and Knowledge \n",
    "\n",
    "By combining the Tecton GenAI functions, you can provide much better context in for your LLM applications.\n",
    "- The *knowledge* function provides RAG functionality by taking unstructured text and calculating embedding vectors for them and storing them in a vector database that provides similarity search capabilities to better respond to user queries. \n",
    "- The *prompt* provides instructions for the LLM and is enriched with context from feature pipelines or directly from the real-time context.\n",
    "- *Features as tools* give the LLM the ability to retrieve additional data as needed to respond to the user question.\n",
    "\n",
    "\n",
    "<a target=\"_blank\" href=\"https://colab.research.google.com/github/tecton-ai/gen-ai/blob/main/knowledge.ipynb\">\n",
    "  <img src=\"https://colab.research.google.com/assets/colab-badge.svg\" alt=\"Open In Colab\" width=\"150\"/>\n",
    "</a>\n",
    "\n",
    "In this notebook, you will combine all three tools to create an example restaurant recommendation chatbot."
   ]
  },
  {
   "cell_type": "markdown",
   "metadata": {},
   "source": [
    "## Install Packages"
   ]
  },
  {
   "cell_type": "code",
   "execution_count": 20,
   "metadata": {},
   "outputs": [],
   "source": [
    "!pip install 'tecton-gen-ai[tecton,langchain,llama-index]' langchain-openai llama-index-llms-openai -q\n"
   ]
  },
  {
   "cell_type": "code",
   "execution_count": 21,
   "metadata": {},
   "outputs": [],
   "source": [
    "!pip install rich -q"
   ]
  },
  {
   "cell_type": "markdown",
   "metadata": {},
   "source": [
    "## Log in to Tecton\n",
    "Make sure to hit enter after pasting in your authentication token."
   ]
  },
  {
   "cell_type": "code",
   "execution_count": 1,
   "metadata": {},
   "outputs": [
    {
     "name": "stdout",
     "output_type": "stream",
     "text": [
      "Re-authenticating. Switching from https://community.tecton.ai to explore.tecton.ai\n",
      "Please visit the following link to login and access the authentication code:\n",
      "https://login.tecton.ai/oauth2/default/v1/authorize?response_type=code&client_id=0oazt04n72Fkm3APE357&redirect_uri=https%3A%2F%2Fwww.tecton.ai%2Fauthorization-callback&state=10841054378105540764&scope=openid+offline_access+profile+email&code_challenge_method=S256&code_challenge=Ib97hn_ELWRKD5ZPXp65GVSoObULTN3-j2cYtg5aRIw\n",
      "✅ Authentication successful!\n"
     ]
    }
   ],
   "source": [
    "import tecton\n",
    "\n",
    "tecton.login(\"explore.tecton.ai\")"
   ]
  },
  {
   "cell_type": "markdown",
   "metadata": {},
   "source": [
    "In this example you will use an OpenAI gpt-4o LLM model to test. \n",
    "\n",
    "You will need to provide an Open AI API key for this purpose.\n",
    "\n",
    "Replace \"your-openai-key\" with your own key."
   ]
  },
  {
   "cell_type": "code",
   "execution_count": 41,
   "metadata": {},
   "outputs": [],
   "source": [
    "import os\n",
    "\n",
    "# replace with your key\n",
    "os.environ[\"OPENAI_API_KEY\"] = \"your-openai-key\""
   ]
  },
  {
   "cell_type": "code",
   "execution_count": 3,
   "metadata": {},
   "outputs": [],
   "source": [
    "from tecton_gen_ai.fco import prompt\n",
    "from tecton_gen_ai.agent import AgentClient, AgentService\n",
    "\n",
    "# prompt without any user context\n",
    "@prompt()  \n",
    "def sys_prompt( ):\n",
    "    return f\"\"\"\n",
    "    You are a consierge service that recommends restaurants.\n",
    "    Always provide an address.\n",
    "    Always suggested menu items. \n",
    "    \"\"\"\n",
    "\n",
    "#define the Tecton Agent Service specifying the prompts, sources of knowledge and feature tools \n",
    "service = AgentService(\n",
    "    name=\"restaurant_recommender\",\n",
    "    prompts=[sys_prompt],\n",
    ")"
   ]
  },
  {
   "cell_type": "code",
   "execution_count": 4,
   "metadata": {},
   "outputs": [
    {
     "data": {
      "text/html": [
       "<pre style=\"white-space:pre;overflow-x:auto;line-height:normal;font-family:Menlo,'DejaVu Sans Mono',consolas,'Courier New',monospace\">Sure! I recommend trying <span style=\"font-weight: bold\">The Italian Bistro</span>. It's a cozy spot with a warm atmosphere that's perfect for dinner.    \n",
       "\n",
       "<span style=\"font-weight: bold\">Address:</span> 1234 Pasta Lane, Culinary City, CC 12345                                                                  \n",
       "\n",
       "<span style=\"font-weight: bold\">Suggested Menu Items:</span>                                                                                              \n",
       "\n",
       "<span style=\"color: #808000; text-decoration-color: #808000; font-weight: bold\"> • </span><span style=\"font-weight: bold\">Appetizer:</span> Bruschetta al Pomodoro - Toasted bread topped with fresh tomatoes, basil, and mozzarella.            \n",
       "<span style=\"color: #808000; text-decoration-color: #808000; font-weight: bold\"> • </span><span style=\"font-weight: bold\">Main Course:</span> Fettuccine Alfredo - Creamy fettuccine with Parmesan cheese and a hint of garlic.                  \n",
       "<span style=\"color: #808000; text-decoration-color: #808000; font-weight: bold\"> • </span><span style=\"font-weight: bold\">Dessert:</span> Tiramisu - A classic Italian dessert made with coffee-soaked ladyfingers and mascarpone cheese.        \n",
       "\n",
       "Enjoy your meal!                                                                                                   \n",
       "</pre>\n"
      ],
      "text/plain": [
       "Sure! I recommend trying \u001b[1mThe Italian Bistro\u001b[0m. It's a cozy spot with a warm atmosphere that's perfect for dinner.    \n",
       "\n",
       "\u001b[1mAddress:\u001b[0m 1234 Pasta Lane, Culinary City, CC 12345                                                                  \n",
       "\n",
       "\u001b[1mSuggested Menu Items:\u001b[0m                                                                                              \n",
       "\n",
       "\u001b[1;33m • \u001b[0m\u001b[1mAppetizer:\u001b[0m Bruschetta al Pomodoro - Toasted bread topped with fresh tomatoes, basil, and mozzarella.            \n",
       "\u001b[1;33m • \u001b[0m\u001b[1mMain Course:\u001b[0m Fettuccine Alfredo - Creamy fettuccine with Parmesan cheese and a hint of garlic.                  \n",
       "\u001b[1;33m • \u001b[0m\u001b[1mDessert:\u001b[0m Tiramisu - A classic Italian dessert made with coffee-soaked ladyfingers and mascarpone cheese.        \n",
       "\n",
       "Enjoy your meal!                                                                                                   \n"
      ]
     },
     "metadata": {},
     "output_type": "display_data"
    }
   ],
   "source": [
    "from langchain_openai import ChatOpenAI\n",
    "\n",
    "def support_chatbot(service, user_query, context=None):\n",
    "    from rich import print\n",
    "    from rich.markdown import Markdown\n",
    "    #create an agent client that provides context for LLM workflows\n",
    "    client = AgentClient.from_local(service)\n",
    "    # instantiate LLM model for  LangChain \n",
    "    langchain_llm = ChatOpenAI(model=\"gpt-4o-mini\")\n",
    "    # create invokable agent for LangChain \n",
    "    langchain_agent = client.make_agent(langchain_llm, system_prompt=\"sys_prompt\")\n",
    "\n",
    "    with client.set_context(context):\n",
    "        print(Markdown(langchain_agent.invoke({\"input\":user_query})[\"output\"]))\n",
    "\n",
    "support_chatbot(service, \"recommend a restaurant for tonight\")"
   ]
  },
  {
   "cell_type": "markdown",
   "metadata": {},
   "source": [
    "# A Feature Enriched Prompt \n"
   ]
  },
  {
   "cell_type": "code",
   "execution_count": 6,
   "metadata": {},
   "outputs": [
    {
     "data": {
      "text/html": [
       "<pre style=\"white-space:pre;overflow-x:auto;line-height:normal;font-family:Menlo,'DejaVu Sans Mono',consolas,'Courier New',monospace\">Hello Jane! I recommend trying <span style=\"font-weight: bold\">The Capital Grille</span> for a delightful dining experience tonight.                      \n",
       "\n",
       "<span style=\"font-weight: bold\">Address:</span> 201 N Tryon St, Charlotte, NC 28202                                                                       \n",
       "\n",
       "<span style=\"font-weight: bold\">Suggested Menu Items:</span>                                                                                              \n",
       "\n",
       "<span style=\"color: #808000; text-decoration-color: #808000; font-weight: bold\"> • </span><span style=\"font-weight: bold\">Dry Aged Porterhouse</span>: A perfectly grilled steak that is rich in flavor.                                         \n",
       "<span style=\"color: #808000; text-decoration-color: #808000; font-weight: bold\"> • </span><span style=\"font-weight: bold\">Lobster Mac 'N' Cheese</span>: Creamy and indulgent, with generous chunks of lobster.                                  \n",
       "<span style=\"color: #808000; text-decoration-color: #808000; font-weight: bold\"> • </span><span style=\"font-weight: bold\">Grilled Asparagus</span>: A fresh and crisp side that complements your meal.                                           \n",
       "<span style=\"color: #808000; text-decoration-color: #808000; font-weight: bold\"> • </span><span style=\"font-weight: bold\">Chocolate Hazelnut Cake</span>: A decadent dessert to finish off your evening.                                         \n",
       "\n",
       "Enjoy your meal!                                                                                                   \n",
       "</pre>\n"
      ],
      "text/plain": [
       "Hello Jane! I recommend trying \u001b[1mThe Capital Grille\u001b[0m for a delightful dining experience tonight.                      \n",
       "\n",
       "\u001b[1mAddress:\u001b[0m 201 N Tryon St, Charlotte, NC 28202                                                                       \n",
       "\n",
       "\u001b[1mSuggested Menu Items:\u001b[0m                                                                                              \n",
       "\n",
       "\u001b[1;33m • \u001b[0m\u001b[1mDry Aged Porterhouse\u001b[0m: A perfectly grilled steak that is rich in flavor.                                         \n",
       "\u001b[1;33m • \u001b[0m\u001b[1mLobster Mac 'N' Cheese\u001b[0m: Creamy and indulgent, with generous chunks of lobster.                                  \n",
       "\u001b[1;33m • \u001b[0m\u001b[1mGrilled Asparagus\u001b[0m: A fresh and crisp side that complements your meal.                                           \n",
       "\u001b[1;33m • \u001b[0m\u001b[1mChocolate Hazelnut Cake\u001b[0m: A decadent dessert to finish off your evening.                                         \n",
       "\n",
       "Enjoy your meal!                                                                                                   \n"
      ]
     },
     "metadata": {},
     "output_type": "display_data"
    }
   ],
   "source": [
    "import pandas as pd\n",
    "from tecton_gen_ai.testing import mock_batch_feature_view\n",
    "from tecton_gen_ai.core_utils import make_request_source\n",
    "\n",
    "# what if we had more up to date information about the user, like their name, age and cuisines preference\n",
    "user_info = pd.DataFrame(\n",
    "        [\n",
    "            {\"user_id\": \"user1\", \"name\": \"Jim\",  \"age\": 30, \"food_preference\": \"American\"},\n",
    "            {\"user_id\": \"user2\", \"name\": \"John\", \"age\": 40, \"food_preference\": \"Italian\"},\n",
    "            {\"user_id\": \"user3\", \"name\": \"Jane\", \"age\": 50, \"food_preference\": \"Chinese\"},\n",
    "        ]\n",
    "    )\n",
    "user_info_fv = mock_batch_feature_view( \"user_info_fv\", user_info, entity_keys=[\"user_id\"], description=\"User's basic information.\")\n",
    "\n",
    "# and what if we knew their current location\n",
    "location_request = make_request_source(location = str)\n",
    "\n",
    "#we could create a prompt like this\n",
    "@prompt(sources=[ location_request, user_info_fv])  # specifies sources of data for the prompt\n",
    "def sys_prompt(location_request, user_info_fv ):\n",
    "    location = location_request[\"location\"]\n",
    "    name = user_info_fv[\"name\"]\n",
    "    return f\"\"\"\n",
    "    Address the user by their name. Their name is {name}.\n",
    "    You are a consierge service that recommends restaurants.\n",
    "    Only suggest restaurants that are in or near {location}. \n",
    "    Always provide an address.\n",
    "    Always suggested menu items. \n",
    "    \"\"\"\n",
    "\n",
    "#define the Tecton Agent Service specifying the prompts, sources of knowledge and feature tools \n",
    "service = AgentService(\n",
    "    name=\"restaurant_recommender\",\n",
    "    prompts=[sys_prompt],\n",
    ")\n",
    "mobile_app_context={\"user_id\":\"user3\", \"location\":\"Charlotte, NC\"}\n",
    "support_chatbot(service, \"recommend a restaurant for tonight\", mobile_app_context)"
   ]
  },
  {
   "cell_type": "code",
   "execution_count": 8,
   "metadata": {},
   "outputs": [
    {
     "data": {
      "text/html": [
       "<pre style=\"white-space:pre;overflow-x:auto;line-height:normal;font-family:Menlo,'DejaVu Sans Mono',consolas,'Courier New',monospace\">Sure, Jim! Could you please share your preferences or the type of cuisine you're in the mood for tonight?          \n",
       "</pre>\n"
      ],
      "text/plain": [
       "Sure, Jim! Could you please share your preferences or the type of cuisine you're in the mood for tonight?          \n"
      ]
     },
     "metadata": {},
     "output_type": "display_data"
    }
   ],
   "source": [
    "# but now what if the question requires more data\n",
    "mobile_app_context={\"user_id\":\"user1\", \"location\":\"Charlotte, NC\"}\n",
    "support_chatbot(service, \"recommend a restaurant for tonight based on my preference\", mobile_app_context)\n"
   ]
  },
  {
   "cell_type": "markdown",
   "metadata": {},
   "source": [
    "# Features as Tools"
   ]
  },
  {
   "cell_type": "code",
   "execution_count": 9,
   "metadata": {},
   "outputs": [
    {
     "data": {
      "text/html": [
       "<pre style=\"white-space:pre;overflow-x:auto;line-height:normal;font-family:Menlo,'DejaVu Sans Mono',consolas,'Courier New',monospace\">Here are a couple of great American restaurants in Charlotte, NC you might enjoy tonight:                          \n",
       "\n",
       "<span style=\"color: #808000; text-decoration-color: #808000; font-weight: bold\"> 1 </span><span style=\"font-weight: bold\">The Capital Grille</span>                                                                                              \n",
       "<span style=\"color: #808000; text-decoration-color: #808000; font-weight: bold\">    • </span><span style=\"font-weight: bold\">Address:</span> 201 N Tryon St, Charlotte, NC 28202                                                                 \n",
       "<span style=\"color: #808000; text-decoration-color: #808000; font-weight: bold\">    • </span><span style=\"font-weight: bold\">Suggested Menu Items:</span> Dry Aged Porterhouse, Lobster Mac 'N' Cheese, and their famous Cheesecake.             \n",
       "<span style=\"color: #808000; text-decoration-color: #808000; font-weight: bold\"> 2 </span><span style=\"font-weight: bold\">Midwood Smokehouse</span>                                                                                              \n",
       "<span style=\"color: #808000; text-decoration-color: #808000; font-weight: bold\">    • </span><span style=\"font-weight: bold\">Address:</span> 1401 Central Ave, Charlotte, NC 28205                                                               \n",
       "<span style=\"color: #808000; text-decoration-color: #808000; font-weight: bold\">    • </span><span style=\"font-weight: bold\">Suggested Menu Items:</span> Brisket, Pulled Pork, and the BBQ Nachos.                                              \n",
       "\n",
       "Enjoy your meal, Jim!                                                                                              \n",
       "</pre>\n"
      ],
      "text/plain": [
       "Here are a couple of great American restaurants in Charlotte, NC you might enjoy tonight:                          \n",
       "\n",
       "\u001b[1;33m 1 \u001b[0m\u001b[1mThe Capital Grille\u001b[0m                                                                                              \n",
       "\u001b[1;33m   \u001b[0m\u001b[1;33m • \u001b[0m\u001b[1mAddress:\u001b[0m 201 N Tryon St, Charlotte, NC 28202                                                                 \n",
       "\u001b[1;33m   \u001b[0m\u001b[1;33m • \u001b[0m\u001b[1mSuggested Menu Items:\u001b[0m Dry Aged Porterhouse, Lobster Mac 'N' Cheese, and their famous Cheesecake.             \n",
       "\u001b[1;33m 2 \u001b[0m\u001b[1mMidwood Smokehouse\u001b[0m                                                                                              \n",
       "\u001b[1;33m   \u001b[0m\u001b[1;33m • \u001b[0m\u001b[1mAddress:\u001b[0m 1401 Central Ave, Charlotte, NC 28205                                                               \n",
       "\u001b[1;33m   \u001b[0m\u001b[1;33m • \u001b[0m\u001b[1mSuggested Menu Items:\u001b[0m Brisket, Pulled Pork, and the BBQ Nachos.                                              \n",
       "\n",
       "Enjoy your meal, Jim!                                                                                              \n"
      ]
     },
     "metadata": {},
     "output_type": "display_data"
    }
   ],
   "source": [
    "\n",
    "#define the Tecton Agent Service specifying the prompts, sources of knowledge and feature tools \n",
    "service = AgentService(\n",
    "    name=\"restaurant_recommender\",\n",
    "    prompts=[sys_prompt],\n",
    "    tools=[user_info_fv] # user_info_fv provides food preference and recent_eats_fv provides recent dining\n",
    ")\n",
    "\n",
    "# we should get a much better answer\n",
    "support_chatbot(service, \"recommend a restaurant for tonight based on my preference\", {\"user_id\":\"user1\", \"location\":\"Charlotte, NC\"})\n"
   ]
  },
  {
   "cell_type": "code",
   "execution_count": 14,
   "metadata": {},
   "outputs": [
    {
     "data": {
      "text/html": [
       "<pre style=\"white-space:pre;overflow-x:auto;line-height:normal;font-family:Menlo,'DejaVu Sans Mono',consolas,'Courier New',monospace\">Hi Jane! Here are some great restaurant recommendations for tonight in Charlotte, NC, especially since you enjoy   \n",
       "Chinese cuisine:                                                                                                   \n",
       "\n",
       "<span style=\"color: #808000; text-decoration-color: #808000; font-weight: bold\"> 1 </span><span style=\"font-weight: bold\">Szechuan Kingdom</span>                                                                                                \n",
       "<span style=\"color: #808000; text-decoration-color: #808000; font-weight: bold\">    • </span><span style=\"font-weight: bold\">Address:</span> 9500 South Blvd, Charlotte, NC 28273                                                                \n",
       "<span style=\"color: #808000; text-decoration-color: #808000; font-weight: bold\">    • </span><span style=\"font-weight: bold\">Suggested Menu Items:</span> Kung Pao Chicken, Mapo Tofu, and Hot &amp; Sour Soup.                                      \n",
       "<span style=\"color: #808000; text-decoration-color: #808000; font-weight: bold\"> 2 </span><span style=\"font-weight: bold\">Huang's Asian Bistro</span>                                                                                            \n",
       "<span style=\"color: #808000; text-decoration-color: #808000; font-weight: bold\">    • </span><span style=\"font-weight: bold\">Address:</span> 1238 East Blvd, Charlotte, NC 28203                                                                 \n",
       "<span style=\"color: #808000; text-decoration-color: #808000; font-weight: bold\">    • </span><span style=\"font-weight: bold\">Suggested Menu Items:</span> Mongolian Beef, General Tso's Chicken, and their delicious Fried Rice.                 \n",
       "<span style=\"color: #808000; text-decoration-color: #808000; font-weight: bold\"> 3 </span><span style=\"font-weight: bold\">Yummy House</span>                                                                                                     \n",
       "<span style=\"color: #808000; text-decoration-color: #808000; font-weight: bold\">    • </span><span style=\"font-weight: bold\">Address:</span> 3681 N Tryon St, Charlotte, NC 28206                                                                \n",
       "<span style=\"color: #808000; text-decoration-color: #808000; font-weight: bold\">    • </span><span style=\"font-weight: bold\">Suggested Menu Items:</span> Sweet and Sour Pork, Chicken Lo Mein, and Dumplings.                                   \n",
       "\n",
       "Enjoy your dinner!                                                                                                 \n",
       "</pre>\n"
      ],
      "text/plain": [
       "Hi Jane! Here are some great restaurant recommendations for tonight in Charlotte, NC, especially since you enjoy   \n",
       "Chinese cuisine:                                                                                                   \n",
       "\n",
       "\u001b[1;33m 1 \u001b[0m\u001b[1mSzechuan Kingdom\u001b[0m                                                                                                \n",
       "\u001b[1;33m   \u001b[0m\u001b[1;33m • \u001b[0m\u001b[1mAddress:\u001b[0m 9500 South Blvd, Charlotte, NC 28273                                                                \n",
       "\u001b[1;33m   \u001b[0m\u001b[1;33m • \u001b[0m\u001b[1mSuggested Menu Items:\u001b[0m Kung Pao Chicken, Mapo Tofu, and Hot & Sour Soup.                                      \n",
       "\u001b[1;33m 2 \u001b[0m\u001b[1mHuang's Asian Bistro\u001b[0m                                                                                            \n",
       "\u001b[1;33m   \u001b[0m\u001b[1;33m • \u001b[0m\u001b[1mAddress:\u001b[0m 1238 East Blvd, Charlotte, NC 28203                                                                 \n",
       "\u001b[1;33m   \u001b[0m\u001b[1;33m • \u001b[0m\u001b[1mSuggested Menu Items:\u001b[0m Mongolian Beef, General Tso's Chicken, and their delicious Fried Rice.                 \n",
       "\u001b[1;33m 3 \u001b[0m\u001b[1mYummy House\u001b[0m                                                                                                     \n",
       "\u001b[1;33m   \u001b[0m\u001b[1;33m • \u001b[0m\u001b[1mAddress:\u001b[0m 3681 N Tryon St, Charlotte, NC 28206                                                                \n",
       "\u001b[1;33m   \u001b[0m\u001b[1;33m • \u001b[0m\u001b[1mSuggested Menu Items:\u001b[0m Sweet and Sour Pork, Chicken Lo Mein, and Dumplings.                                   \n",
       "\n",
       "Enjoy your dinner!                                                                                                 \n"
      ]
     },
     "metadata": {},
     "output_type": "display_data"
    }
   ],
   "source": [
    "# user's recent visits \n",
    "recent_eats = pd.DataFrame(\n",
    "        [\n",
    "            {\"user_id\": \"user1\", \"last_3_visits\":str([\"Mama Ricotta's\", \"The Capital Grille\", \"Firebirds Wood Fired Grill\"])},\n",
    "            {\"user_id\": \"user2\", \"last_3_visits\":str([\"Mama Ricotta's\", \"Villa Antonio\", \"Viva Chicken\"])},\n",
    "            {\"user_id\": \"user3\", \"last_3_visits\":str([\"Wan Fu\", \"Wan Fu Quality Chinese Cuisine\", \"Ru San's\"])},\n",
    "        ]\n",
    "    )\n",
    "recent_eats_fv = mock_batch_feature_view( \"recent_eats_fv\", recent_eats, entity_keys=[\"user_id\"], description=\"User's recent restaurant visits.\")\n",
    "\n",
    "#define the Tecton Agent Service specifying the prompts, sources of knowledge and feature tools \n",
    "service = AgentService(\n",
    "    name=\"restaurant_recommender\",\n",
    "    prompts=[sys_prompt],\n",
    "    tools=[user_info_fv, recent_eats_fv] # recent_eats_fv provides recent dining\n",
    ")\n",
    "\n",
    "# if the user asks a more complex question...\n",
    "mobile_app_context = {\"user_id\":\"user3\", \"location\":\"Charlotte, NC\"}\n",
    "support_chatbot(service, \"I need a new restaurant for tonight\", mobile_app_context)\n"
   ]
  },
  {
   "cell_type": "markdown",
   "metadata": {},
   "source": [
    "# Knowledge\n",
    "\n",
    "Adding knowledge to an LLM provides domain specific information that extends beyond its base training. With it, the LLM is able to select relevant text that helps respond to user queries and avoid hallucination. Under the covers, Tecton calculates embedding vectors and stores the data in a vector search database which the LLM workflow agent can use to do semantic search. With Tecton knowledge, other fields can be used to filter the dataset prior to executing the semantic search which provides even more relevance to the results."
   ]
  },
  {
   "cell_type": "code",
   "execution_count": 38,
   "metadata": {},
   "outputs": [],
   "source": [
    "# Let's say we only want to use restaurants that have signed up for the service, \n",
    "# and not those that the general LLM training knows about\n",
    "\n",
    "#change the prompt instructions\n",
    "@prompt(sources=[ location_request, user_info_fv])  # specifies sources of data for the prompt\n",
    "def sys_prompt(location_request, user_info_fv ):\n",
    "    location = location_request[\"location\"]\n",
    "    name = user_info_fv[\"name\"]\n",
    "    return f\"\"\"\n",
    "    Address the user by their name. Their name is {name}.\n",
    "    You are a consierge service that recommends restaurants.\n",
    "    Only suggest restaurants that are in or near {location}. \n",
    "    Always provide an address.\n",
    "    Always suggested menu items. \n",
    "    Only select restaurants that have signed up on the service. \n",
    "    \"\"\" # notice that we've added an instruction\n",
    "\n",
    "#example knowledge about restaurants that have signed up\n",
    "restaurants_signed_up = pd.DataFrame([\n",
    "  {\n",
    "    \"restaurant_name\": \"Mama Ricotta's\",\n",
    "    \"zipcode\": \"28203\",\n",
    "    \"cuisine\": \"Italian\",\n",
    "    \"description\": \"A Charlotte staple since 1992, Mama Ricotta's offers authentic Italian cuisine in a warm, family-friendly atmosphere. Known for their hand-tossed pizzas, homemade pasta, and signature chicken parmesan.\"\n",
    "  },\n",
    "  {\n",
    "    \"restaurant_name\": \"The Capital Grille\",\n",
    "    \"zipcode\": \"28202\",\n",
    "    \"cuisine\": \"American Steakhouse\",\n",
    "    \"description\": \"An upscale steakhouse chain featuring dry-aged steaks, fresh seafood, and an extensive wine list. The Charlotte location offers a refined dining experience with impeccable service and a sophisticated ambiance.\"\n",
    "  },\n",
    "  {\n",
    "    \"restaurant_name\": \"Firebirds Wood Fired Grill\",\n",
    "    \"zipcode\": \"28277\",\n",
    "    \"cuisine\": \"American\",\n",
    "    \"description\": \"A polished casual restaurant known for its classic American cuisine cooked over an open wood fire. Specialties include hand-cut steaks, fresh seafood, and signature cocktails in a warm, contemporary setting.\"\n",
    "  },\n",
    "  {\n",
    "    \"restaurant_name\": \"Villa Antonio\",\n",
    "    \"zipcode\": \"28210\",\n",
    "    \"cuisine\": \"Italian\",\n",
    "    \"description\": \"An elegant Italian restaurant offering a romantic atmosphere and authentic cuisine. Known for its homemade pasta, extensive wine selection, and attentive service, perfect for special occasions.\"\n",
    "  },\n",
    "  {\n",
    "    \"restaurant_name\": \"Viva Chicken\",\n",
    "    \"zipcode\": \"28203\",\n",
    "    \"cuisine\": \"Peruvian\",\n",
    "    \"description\": \"A fast-casual eatery specializing in Peruvian-style rotisserie chicken. Offers fresh, flavorful dishes with a modern twist on traditional Peruvian cuisine, including quinoa stuffed avocados and yuca fries.\"\n",
    "  },\n",
    "  {\n",
    "    \"restaurant_name\": \"Wan Fu\",\n",
    "    \"zipcode\": \"28226\",\n",
    "    \"cuisine\": \"Chinese\",\n",
    "    \"description\": \"A local favorite for Chinese cuisine, Wan Fu offers a wide array of traditional and Americanized Chinese dishes. Known for its generous portions, friendly service, and comfortable dining atmosphere.\"\n",
    "  },\n",
    "  {\n",
    "    \"restaurant_name\": \"Wan Fu Quality Chinese Cuisine\",\n",
    "    \"zipcode\": \"28277\",\n",
    "    \"cuisine\": \"Chinese\",\n",
    "    \"description\": \"An upscale Chinese restaurant focusing on authentic flavors and high-quality ingredients. Offers a more refined dining experience with a menu featuring both classic and innovative Chinese dishes.\"\n",
    "  },\n",
    "  {\n",
    "    \"restaurant_name\": \"Ru San's\",\n",
    "    \"zipcode\": \"28203\",\n",
    "    \"cuisine\": \"Japanese\",\n",
    "    \"description\": \"A popular sushi restaurant known for its extensive menu and all-you-can-eat option. Offers a wide variety of sushi rolls, sashimi, and other Japanese dishes in a casual, vibrant atmosphere.\"\n",
    "  },\n",
    "  {\n",
    "    \"restaurant_name\": \"Le Bernardin\",\n",
    "    \"zipcode\": \"10019\",\n",
    "    \"cuisine\": \"French Seafood\",\n",
    "    \"description\": \"A world-renowned, Michelin three-star restaurant specializing in exquisite seafood. Chef Eric Ripert's menu features innovative preparations of the finest global seafood in an elegant setting.\"\n",
    "  },\n",
    "  {\n",
    "    \"restaurant_name\": \"Katz's Delicatessen\",\n",
    "    \"zipcode\": \"10002\",\n",
    "    \"cuisine\": \"Jewish Deli\",\n",
    "    \"description\": \"An iconic New York institution since 1888, famous for its hand-carved pastrami and corned beef sandwiches. The bustling, no-frills atmosphere is part of its enduring charm.\"\n",
    "  },\n",
    "  {\n",
    "    \"restaurant_name\": \"Eleven Madison Park\",\n",
    "    \"zipcode\": \"10010\",\n",
    "    \"cuisine\": \"Contemporary American\",\n",
    "    \"description\": \"A three-Michelin-starred restaurant offering an innovative tasting menu focusing on locally sourced, plant-based ingredients. Known for its impeccable service and artistic presentation.\"\n",
    "  },\n",
    "  {\n",
    "    \"restaurant_name\": \"Peter Luger Steak House\",\n",
    "    \"zipcode\": \"11211\",\n",
    "    \"cuisine\": \"Steakhouse\",\n",
    "    \"description\": \"A Brooklyn institution since 1887, Peter Luger is famous for its dry-aged steaks and old-school, cash-only policy. The no-frills atmosphere focuses attention on the exceptional quality of the meat.\"\n",
    "  },\n",
    "  {\n",
    "    \"restaurant_name\": \"Di Fara Pizza\",\n",
    "    \"zipcode\": \"11230\",\n",
    "    \"cuisine\": \"Pizza\",\n",
    "    \"description\": \"A legendary Brooklyn pizzeria, Di Fara is known for its handcrafted pies made by founder Dom DeMarco. Each pizza is a work of art, featuring high-quality ingredients and meticulous preparation.\"\n",
    "  },\n",
    "  {\n",
    "    \"restaurant_name\": \"Balthazar\",\n",
    "    \"zipcode\": \"10012\",\n",
    "    \"cuisine\": \"French Brasserie\",\n",
    "    \"description\": \"A SoHo classic, Balthazar offers authentic French brasserie fare in a vibrant, bustling atmosphere. Known for its fresh seafood, classic French dishes, and popular weekend brunch.\"\n",
    "  },\n",
    "  {\n",
    "    \"restaurant_name\": \"Momofuku Ko\",\n",
    "    \"zipcode\": \"10003\",\n",
    "    \"cuisine\": \"Contemporary Asian\",\n",
    "    \"description\": \"Chef David Chang's two-Michelin-starred restaurant offers an ever-changing tasting menu blending Asian and Western influences. The intimate counter seating provides a unique, interactive dining experience.\"\n",
    "  },\n",
    "  {\n",
    "    \"restaurant_name\": \"The Halal Guys\",\n",
    "    \"zipcode\": \"10019\",\n",
    "    \"cuisine\": \"Middle Eastern\",\n",
    "    \"description\": \"Starting as a food cart, The Halal Guys has become a New York institution. Famous for its chicken and gyro over rice, topped with their legendary white sauce. Now with brick-and-mortar locations.\"\n",
    "  },\n",
    "  {\n",
    "    \"restaurant_name\": \"Russ & Daughters\",\n",
    "    \"zipcode\": \"10002\",\n",
    "    \"cuisine\": \"Jewish Appetizing\",\n",
    "    \"description\": \"A New York classic since 1914, specializing in traditional Jewish appetizing foods. Famous for its hand-sliced smoked salmon, bagels, and other Jewish delicacies. Now includes a sit-down cafe.\"\n",
    "  },\n",
    "  {\n",
    "    \"restaurant_name\": \"Lombardi's\",\n",
    "    \"zipcode\": \"10012\",\n",
    "    \"cuisine\": \"Pizza\",\n",
    "    \"description\": \"America's first pizzeria, established in 1905. Lombardi's continues to serve classic New York-style pizza from its coal-fired oven. Known for its simple, high-quality ingredients and historic charm.\"\n",
    "  },\n",
    "  {\n",
    "    \"restaurant_name\": \"Joe's Shanghai\",\n",
    "    \"zipcode\": \"10013\",\n",
    "    \"cuisine\": \"Chinese\",\n",
    "    \"description\": \"Famous for introducing soup dumplings to New York, Joe's Shanghai offers authentic Shanghai-style cuisine. The bustling, no-frills atmosphere adds to the authentic experience.\"\n",
    "  }\n",
    "]\n",
    ")\n",
    "\n"
   ]
  },
  {
   "cell_type": "code",
   "execution_count": 53,
   "metadata": {},
   "outputs": [],
   "source": [
    "from tecton_gen_ai.testing import mock_source\n",
    "from tecton_gen_ai.testing.utils import create_testing_vector_db_config\n",
    "from tecton_gen_ai.fco import source_as_knowledge\n",
    "\n",
    "#provide a vector db config\n",
    "conf = create_testing_vector_db_config(\"/tmp/test.db\", remove_if_exists=True)\n",
    "\n",
    "#create embeddings of the restaurant descriptions in the vector DB\n",
    "src = mock_source(\"restaurants_signed_up\", restaurants_signed_up, auto_timestamp=True, description=\"Restaurants that signed up for the service\")\n",
    "\n",
    "restaurant_knowledge = source_as_knowledge(\n",
    "    src,\n",
    "    vector_db_config=conf,\n",
    "    vectorize_column=\"description\",\n",
    "    filter = [(\"zipcode\", str, \"the zip code for the restaurant\"), (\"cuisine\", str, \"the cuisine that they serve\")]\n",
    ")\n",
    "\n",
    "#rebuild the service with restaurant knowledge included\n",
    "service = AgentService(\n",
    "    name=\"restaurant_recommender\",\n",
    "    prompts=[sys_prompt],\n",
    "    knowledge=[restaurant_knowledge],  # added a source of knowledge\n",
    "    tools=[user_info_fv, recent_eats_fv] \n",
    ")\n"
   ]
  },
  {
   "cell_type": "code",
   "execution_count": 54,
   "metadata": {},
   "outputs": [
    {
     "data": {
      "text/html": [
       "<pre style=\"white-space:pre;overflow-x:auto;line-height:normal;font-family:Menlo,'DejaVu Sans Mono',consolas,'Courier New',monospace\">Hi Jane! Based on your preferences for dry-aged steaks and tiramisu, I found a restaurant that you haven't visited \n",
       "yet:                                                                                                               \n",
       "\n",
       "                                            <span style=\"font-weight: bold\">Firebirds Wood Fired Grill</span>                                             \n",
       "\n",
       "<span style=\"color: #808000; text-decoration-color: #808000; font-weight: bold\"> • </span><span style=\"font-weight: bold\">Address:</span> 12345 N. Community House Road, Charlotte, NC 28277                                                     \n",
       "<span style=\"color: #808000; text-decoration-color: #808000; font-weight: bold\"> • </span><span style=\"font-weight: bold\">Description:</span> A polished casual restaurant known for its classic American cuisine cooked over an open wood fire. \n",
       "<span style=\"color: #808000; text-decoration-color: #808000; font-weight: bold\">   </span>Specialties include hand-cut steaks, fresh seafood, and signature cocktails in a warm, contemporary setting.    \n",
       "<span style=\"color: #808000; text-decoration-color: #808000; font-weight: bold\"> • </span><span style=\"font-weight: bold\">Recommended Menu Items:</span> Try their dry-aged steaks and finish off with their delicious tiramisu for dessert!     \n",
       "\n",
       "Enjoy your meal!                                                                                                   \n",
       "</pre>\n"
      ],
      "text/plain": [
       "Hi Jane! Based on your preferences for dry-aged steaks and tiramisu, I found a restaurant that you haven't visited \n",
       "yet:                                                                                                               \n",
       "\n",
       "                                            \u001b[1mFirebirds Wood Fired Grill\u001b[0m                                             \n",
       "\n",
       "\u001b[1;33m • \u001b[0m\u001b[1mAddress:\u001b[0m 12345 N. Community House Road, Charlotte, NC 28277                                                     \n",
       "\u001b[1;33m • \u001b[0m\u001b[1mDescription:\u001b[0m A polished casual restaurant known for its classic American cuisine cooked over an open wood fire. \n",
       "\u001b[1;33m   \u001b[0mSpecialties include hand-cut steaks, fresh seafood, and signature cocktails in a warm, contemporary setting.    \n",
       "\u001b[1;33m • \u001b[0m\u001b[1mRecommended Menu Items:\u001b[0m Try their dry-aged steaks and finish off with their delicious tiramisu for dessert!     \n",
       "\n",
       "Enjoy your meal!                                                                                                   \n"
      ]
     },
     "metadata": {},
     "output_type": "display_data"
    }
   ],
   "source": [
    "# test the app\n",
    "mobile_app_context = {\"user_id\":\"user3\", \"location\":\"28277\"}\n",
    "support_chatbot(service, \"recommend a restaurant I have not visited with dry-aged steaks and tiramisu\", mobile_app_context)"
   ]
  },
  {
   "cell_type": "code",
   "execution_count": 51,
   "metadata": {},
   "outputs": [
    {
     "name": "stderr",
     "output_type": "stream",
     "text": [
      "/opt/anaconda3/envs/tecton/lib/python3.9/site-packages/langchain_community/vectorstores/lancedb.py:393: UserWarning: No results found for the query.\n",
      "  warnings.warn(\"No results found for the query.\")\n"
     ]
    },
    {
     "data": {
      "text/html": [
       "<pre style=\"white-space:pre;overflow-x:auto;line-height:normal;font-family:Menlo,'DejaVu Sans Mono',consolas,'Courier New',monospace\">I'm sorry, Jim, but I couldn't find any restaurants in or near 10200 that serve dry-aged steaks and tiramisu. If   \n",
       "you have any other cuisine preferences, let me know, and I can help you find something else!                       \n",
       "</pre>\n"
      ],
      "text/plain": [
       "I'm sorry, Jim, but I couldn't find any restaurants in or near 10200 that serve dry-aged steaks and tiramisu. If   \n",
       "you have any other cuisine preferences, let me know, and I can help you find something else!                       \n"
      ]
     },
     "metadata": {},
     "output_type": "display_data"
    }
   ],
   "source": [
    "# test for a zipcode that is not close to any in the apps knowledge\n",
    "mobile_app_context = {\"user_id\":\"user1\", \"location\":\"10200\"}\n",
    "support_chatbot(service, \"recommend a new restaurant with dry-aged steaks and Tiramisu\", mobile_app_context)\n"
   ]
  },
  {
   "cell_type": "code",
   "execution_count": 55,
   "metadata": {},
   "outputs": [
    {
     "data": {
      "text/html": [
       "<pre style=\"white-space:pre;overflow-x:auto;line-height:normal;font-family:Menlo,'DejaVu Sans Mono',consolas,'Courier New',monospace\">John, one of your recent visits was to <span style=\"font-weight: bold\">Mama Ricotta's</span>, but it looks like it doesn't offer Tiramisu. However, I     \n",
       "found a restaurant nearby that does serve Tiramisu:                                                                \n",
       "\n",
       "                                            <span style=\"font-weight: bold\">Firebirds Wood Fired Grill</span>                                             \n",
       "\n",
       "<span style=\"color: #808000; text-decoration-color: #808000; font-weight: bold\"> • </span><span style=\"font-weight: bold\">Address:</span> 11716 Carolina Place Pkwy, Pineville, NC 28134                                                         \n",
       "<span style=\"color: #808000; text-decoration-color: #808000; font-weight: bold\"> • </span><span style=\"font-weight: bold\">Cuisine:</span> American                                                                                               \n",
       "<span style=\"color: #808000; text-decoration-color: #808000; font-weight: bold\"> • </span><span style=\"font-weight: bold\">Recommended Menu Items:</span> Try their hand-cut steaks, fresh seafood, and of course, the Tiramisu for dessert!      \n",
       "\n",
       "Enjoy your meal!                                                                                                   \n",
       "</pre>\n"
      ],
      "text/plain": [
       "John, one of your recent visits was to \u001b[1mMama Ricotta's\u001b[0m, but it looks like it doesn't offer Tiramisu. However, I     \n",
       "found a restaurant nearby that does serve Tiramisu:                                                                \n",
       "\n",
       "                                            \u001b[1mFirebirds Wood Fired Grill\u001b[0m                                             \n",
       "\n",
       "\u001b[1;33m • \u001b[0m\u001b[1mAddress:\u001b[0m 11716 Carolina Place Pkwy, Pineville, NC 28134                                                         \n",
       "\u001b[1;33m • \u001b[0m\u001b[1mCuisine:\u001b[0m American                                                                                               \n",
       "\u001b[1;33m • \u001b[0m\u001b[1mRecommended Menu Items:\u001b[0m Try their hand-cut steaks, fresh seafood, and of course, the Tiramisu for dessert!      \n",
       "\n",
       "Enjoy your meal!                                                                                                   \n"
      ]
     },
     "metadata": {},
     "output_type": "display_data"
    }
   ],
   "source": [
    "# test for recent visits with item they do not serve\n",
    "mobile_app_context = {\"user_id\":\"user2\", \"location\":\"28277\"}\n",
    "support_chatbot(service, \"recommend a one of my recent visits that has Tiramisu\", mobile_app_context)"
   ]
  }
 ],
 "metadata": {
  "kernelspec": {
   "display_name": "tecton",
   "language": "python",
   "name": "python3"
  },
  "language_info": {
   "codemirror_mode": {
    "name": "ipython",
    "version": 3
   },
   "file_extension": ".py",
   "mimetype": "text/x-python",
   "name": "python",
   "nbconvert_exporter": "python",
   "pygments_lexer": "ipython3",
   "version": "3.9.19"
  }
 },
 "nbformat": 4,
 "nbformat_minor": 2
}
