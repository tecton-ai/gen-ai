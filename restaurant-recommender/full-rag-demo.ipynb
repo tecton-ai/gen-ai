{
 "cells": [
  {
   "cell_type": "markdown",
   "metadata": {},
   "source": [
    "# Using Tecton's GenAI AgentService to create a better Chatbot Experience\n",
    "\n",
    "By combining the Tecton GenAI functions, you can provide much better context in for your LLM applications.\n",
    "- The *prompt* provides instructions for the LLM and is enriched with context from feature pipelines or directly from the real-time context.\n",
    "- *Features as tools* give the LLM the ability to retrieve additional data only as needed to respond to the user question.\n",
    "- *Knowledge* function provides RAG functionality. It gives the LLM access to domain specific information that it can select from to provide responses that are relevant to the business problem that you aim to solve with generative AI. By taking unstructured text and calculating embedding vectors for them and storing them in a vector database that provides similarity search capabilities to better respond to user queries. \n",
    "\n",
    "\n",
    "If you want to run it yourself, click on the Colab button below to open the notebook in an interactive environment.\n",
    "\n",
    "<a target=\"_blank\" href=\"https://colab.research.google.com/github/tecton-ai/gen-ai/blob/main/restaurant-recommender/full-rag-demo.ipynb\">\n",
    "  <img src=\"https://colab.research.google.com/assets/colab-badge.svg\" alt=\"Open In Colab\" width=\"150\"/>\n",
    "</a>\n",
    "\n",
    "In this notebook, you will combine all three tools to create an example restaurant recommendation chatbot. \n",
    "\n",
    "You will iteratively improve an AI-driven chatbot for a Yelp-like mobile app that provides personalized recommendations based on the user's preferences and dining activity."
   ]
  },
  {
   "cell_type": "markdown",
   "metadata": {},
   "source": [
    "## Install Packages"
   ]
  },
  {
   "cell_type": "code",
   "execution_count": 4,
   "metadata": {},
   "outputs": [],
   "source": [
    "_ = !pip install 'tecton-gen-ai[tecton,langchain,llama-index,dev]' langchain-openai llama-index-llms-openai lancedb -q"
   ]
  },
  {
   "cell_type": "markdown",
   "metadata": {},
   "source": [
    "## Setup"
   ]
  },
  {
   "cell_type": "code",
   "execution_count": 6,
   "metadata": {},
   "outputs": [],
   "source": [
    "from tecton_gen_ai.testing import set_dev_mode\n",
    "\n",
    "set_dev_mode()"
   ]
  },
  {
   "cell_type": "markdown",
   "metadata": {},
   "source": [
    "You will use an OpenAI gpt-4o LLM model to run this notebook. \n",
    "\n",
    "Obtain an [OpenAI API key](https://platform.openai.com/api-keys) and replace \"your-openai-key\" with it in the following cell."
   ]
  },
  {
   "cell_type": "code",
   "execution_count": 2,
   "metadata": {},
   "outputs": [],
   "source": [
    "import os\n",
    "\n",
    "# replace with your key\n",
    "os.environ[\"OPENAI_API_KEY\"] = \"your-openai-key\""
   ]
  },
  {
   "cell_type": "markdown",
   "metadata": {},
   "source": [
    "# Example Support Chatbot\n",
    "\n",
    "The following cell creates the `support_chatbot` function which you will use to test drive Tecton's GenAI functionality.\n",
    "\n",
    "- The first parameter `service` is a Tecton AgentService that serves context as prompts, features as tools and knowledge.\n",
    "- The second parameter is the `user_query`, a string with any arbitrary question for the LLM.\n",
    "- The third parameter provides the `context` as a dictionary of session parameters provided by a mobile app.\n",
    "- It creates a LangChain agent from the `service` integrating Tecton's context into the LLM interactions.\n",
    "\n",
    "The `service` definition shapes the personalization capabilities of the LLM-driven chatbot by providing:\n",
    "- feature enriched *prompts* with specific instructions on how the LLM should respond. \n",
    "- *features as tools* that the LLM can use to retrieve data it needs to respond to the user.\n",
    "- *knowledge* it has access to when responding to the user.\n",
    "\n",
    "The `context` provides the personalization values needed by the `service` to provide data services to the LLM. These are any entity key columns needed to access the features views for enriching prompts and for features as tools. If request sources are used to provide real-time values these are also listed in the context, like location or any fields that are used for real-time transformations. "
   ]
  },
  {
   "cell_type": "code",
   "execution_count": 3,
   "metadata": {},
   "outputs": [],
   "source": [
    "from langchain_openai import ChatOpenAI\n",
    "\n",
    "def support_chatbot(service, user_query, context=None):\n",
    "    from rich import print\n",
    "    from rich.markdown import Markdown\n",
    "    from tecton_gen_ai.testing.utils import make_debug_logger\n",
    "\n",
    "    logger = make_debug_logger(lambda record: record.getMessage().lower().startswith(\"invoking tool\"))\n",
    "\n",
    "    #create an agent client that provides context for LLM workflows\n",
    "    client = AgentClient.from_local(service)\n",
    "    # instantiate LLM model for  LangChain \n",
    "    langchain_llm = ChatOpenAI(model=\"gpt-4o-mini\")\n",
    "    # create invocable agent for LangChain \n",
    "    langchain_agent = client.make_agent(langchain_llm, system_prompt=\"sys_prompt\")\n",
    "\n",
    "    with client.set_logger(logger):\n",
    "        with client.set_context(context):\n",
    "            print(Markdown(langchain_agent.invoke({\"input\":user_query})[\"output\"]))\n"
   ]
  },
  {
   "cell_type": "markdown",
   "metadata": {},
   "source": [
    "# Simple Prompt\n",
    "\n",
    "This first example creates a simple *prompt* without any enrichment. \n",
    "\n",
    "An *AgentService* is how Tecton integrates with the LLM workflow. This example creates an AgentService called `service` to deliver the prompt to the `support_chatbot` in the following cell.\n",
    "\n",
    "Throughout this notebook, you will iterate by adding more context to the `service` and therefore show how each GenAI context enhancement improves the behavior of the LLM application."
   ]
  },
  {
   "cell_type": "code",
   "execution_count": 4,
   "metadata": {},
   "outputs": [],
   "source": [
    "from tecton_gen_ai.fco import prompt\n",
    "from tecton_gen_ai.agent import AgentClient, AgentService\n",
    "\n",
    "# prompt without any user context\n",
    "@prompt()  \n",
    "def sys_prompt( ):\n",
    "    return f\"\"\"\n",
    "    You are a consierge service that recommends restaurants.\n",
    "    Always provide an address.\n",
    "    Always suggested menu items. \n",
    "    \"\"\"\n",
    "\n",
    "#define the Tecton Agent Service specifying the prompts, sources of knowledge and feature tools \n",
    "service = AgentService(\n",
    "    name=\"restaurant_recommender\",\n",
    "    prompts=[sys_prompt],\n",
    ")"
   ]
  },
  {
   "cell_type": "markdown",
   "metadata": {},
   "source": [
    "### Chatbot with a Simple Prompt\n",
    "\n",
    "Try running the following cell multiple times to see how the LLM output changes."
   ]
  },
  {
   "cell_type": "code",
   "execution_count": 8,
   "metadata": {},
   "outputs": [
    {
     "data": {
      "text/html": [
       "<pre style=\"white-space:pre;overflow-x:auto;line-height:normal;font-family:Menlo,'DejaVu Sans Mono',consolas,'Courier New',monospace\">I’d love to help! Can you tell me your location or what type of cuisine you’re in the mood for?                    \n",
       "</pre>\n"
      ],
      "text/plain": [
       "I’d love to help! Can you tell me your location or what type of cuisine you’re in the mood for?                    \n"
      ]
     },
     "metadata": {},
     "output_type": "display_data"
    }
   ],
   "source": [
    "support_chatbot(service, \"recommend a restaurant for tonight\")"
   ]
  },
  {
   "cell_type": "markdown",
   "metadata": {},
   "source": [
    "At the time of writing this notebook, multiple runs of the cell above had varied responses.\n",
    "It responded with hallucinations by making up restaurants and addresses, or it provided famous restaurants in New York, which are not close to me (the user). In some cases it provided slightly better outputs where the LLM asks for more information like this one:\n",
    "```\n",
    "Sure! Can you please provide me with your location or the type of cuisine you're interested in?    \n",
    "```\n",
    "\n",
    "The results are quite underwhelming but they can provide tips on what is missing like location and cuisine. It is clear that in order to create a personalized experience for the user, better context is needed."
   ]
  },
  {
   "cell_type": "markdown",
   "metadata": {},
   "source": [
    "# A Feature Enriched Prompt \n",
    "\n",
    "The following example incorporates user specific data into the *prompt*. In order to provide better personalization, the next example uses:\n",
    "\n",
    "- a sample dataset with basic user information like name, age, and food_preference\n",
    "- a *request source* to capture the user's current location from the mobile app\n",
    "- a prompt that incorporates the user's `location` and `name` into the *prompt* instructions"
   ]
  },
  {
   "cell_type": "code",
   "execution_count": 9,
   "metadata": {},
   "outputs": [],
   "source": [
    "from tecton_gen_ai.testing import make_local_batch_feature_view\n",
    "from tecton_gen_ai.utils.tecton_utils import make_request_source\n",
    "\n",
    "# what if we had more up to date information about the user, like their name, age and cuisines preference\n",
    "user_info = [\n",
    "    {\"user_id\": \"user1\", \"name\": \"Jim\",  \"age\": 30, \"food_preference\": \"American\"},\n",
    "    {\"user_id\": \"user2\", \"name\": \"John\", \"age\": 40, \"food_preference\": \"Italian\"},\n",
    "    {\"user_id\": \"user3\", \"name\": \"Jane\", \"age\": 50, \"food_preference\": \"Chinese\"},\n",
    "]\n",
    "\n",
    "user_info_fv = make_local_batch_feature_view(\n",
    "    \"user_info_fv\",\n",
    "    user_info,\n",
    "    [\"user_id\"],\n",
    "    description=\"User's basic information.\"\n",
    ")\n",
    "\n",
    "# and what if we knew their current location in order to recommend restaurants that are close to them\n",
    "location_request = make_request_source(location = str)\n",
    "\n",
    "# we could create a prompt like this that refers to the user by name and knows the user's location\n",
    "@prompt(sources=[ location_request, user_info_fv])  # specifies sources of data for the prompt\n",
    "def sys_prompt(location_request, user_info_fv ):\n",
    "    return f\"\"\"\n",
    "    Address the user by their name. Their name is {user_info_fv['name']}.\n",
    "    You are a consierge service that recommends restaurants.\n",
    "    Only suggest restaurants that are in or near {location_request['location']}. \n",
    "    Always provide an address.\n",
    "    Always suggested menu items. \n",
    "    \"\"\"\n",
    "\n",
    "#define the Tecton Agent Service specifying the prompts, sources of knowledge and feature tools \n",
    "service = AgentService(\n",
    "    name=\"restaurant_recommender\",\n",
    "    prompts=[sys_prompt],\n",
    ")"
   ]
  },
  {
   "cell_type": "markdown",
   "metadata": {},
   "source": [
    "### Chatbot with some user context\n",
    "\n",
    "Try running the following cell a few times by changing the user between \"user1\",\"user2\",\"user3\" and by changing the location."
   ]
  },
  {
   "cell_type": "code",
   "execution_count": 10,
   "metadata": {},
   "outputs": [
    {
     "data": {
      "text/html": [
       "<pre style=\"white-space:pre;overflow-x:auto;line-height:normal;font-family:Menlo,'DejaVu Sans Mono',consolas,'Courier New',monospace\">Hi Jim! I recommend trying <span style=\"font-weight: bold\">The Capital Grille</span> for a fantastic dining experience.                                   \n",
       "\n",
       "<span style=\"font-weight: bold\">Address:</span> 201 N Tryon St, Charlotte, NC 28202                                                                       \n",
       "\n",
       "<span style=\"font-weight: bold\">Suggested Menu Items:</span>                                                                                              \n",
       "\n",
       "<span style=\"color: #808000; text-decoration-color: #808000; font-weight: bold\"> • </span><span style=\"font-weight: bold\">Dry Aged Porterhouse</span> - A 40 oz. steak, perfect for steak lovers.                                                \n",
       "<span style=\"color: #808000; text-decoration-color: #808000; font-weight: bold\"> • </span><span style=\"font-weight: bold\">Lobster Mac 'N' Cheese</span> - A deliciously creamy side that pairs well with any main dish.                          \n",
       "<span style=\"color: #808000; text-decoration-color: #808000; font-weight: bold\"> • </span><span style=\"font-weight: bold\">Chocolate Cake</span> - Indulge in this rich dessert to finish your meal on a sweet note.                              \n",
       "\n",
       "Enjoy your dinner!                                                                                                 \n",
       "</pre>\n"
      ],
      "text/plain": [
       "Hi Jim! I recommend trying \u001b[1mThe Capital Grille\u001b[0m for a fantastic dining experience.                                   \n",
       "\n",
       "\u001b[1mAddress:\u001b[0m 201 N Tryon St, Charlotte, NC 28202                                                                       \n",
       "\n",
       "\u001b[1mSuggested Menu Items:\u001b[0m                                                                                              \n",
       "\n",
       "\u001b[1;33m • \u001b[0m\u001b[1mDry Aged Porterhouse\u001b[0m - A 40 oz. steak, perfect for steak lovers.                                                \n",
       "\u001b[1;33m • \u001b[0m\u001b[1mLobster Mac 'N' Cheese\u001b[0m - A deliciously creamy side that pairs well with any main dish.                          \n",
       "\u001b[1;33m • \u001b[0m\u001b[1mChocolate Cake\u001b[0m - Indulge in this rich dessert to finish your meal on a sweet note.                              \n",
       "\n",
       "Enjoy your dinner!                                                                                                 \n"
      ]
     },
     "metadata": {},
     "output_type": "display_data"
    }
   ],
   "source": [
    "mobile_app_context={\"user_id\":\"user1\", \"location\":\"Charlotte, NC\"}\n",
    "support_chatbot(service, \"recommend a restaurant for tonight\", mobile_app_context)"
   ]
  },
  {
   "cell_type": "markdown",
   "metadata": {},
   "source": [
    "The results have gotten better, the LLM is referring to the user by name and it provides some decent restaurant options that are actually in or near the location that the mobile app provides in the `mobile_app_context` variable. \n",
    "\n",
    "But what happens when trying a more personalized question? The next cell asks the chatbot take into account the user's preference."
   ]
  },
  {
   "cell_type": "code",
   "execution_count": 11,
   "metadata": {},
   "outputs": [
    {
     "data": {
      "text/html": [
       "<pre style=\"white-space:pre;overflow-x:auto;line-height:normal;font-family:Menlo,'DejaVu Sans Mono',consolas,'Courier New',monospace\">Sure, Jim! Could you please share your preferences? Are you looking for a specific type of cuisine or any dietary  \n",
       "restrictions?                                                                                                      \n",
       "</pre>\n"
      ],
      "text/plain": [
       "Sure, Jim! Could you please share your preferences? Are you looking for a specific type of cuisine or any dietary  \n",
       "restrictions?                                                                                                      \n"
      ]
     },
     "metadata": {},
     "output_type": "display_data"
    }
   ],
   "source": [
    "# but now what if the question requires more data\n",
    "mobile_app_context={\"user_id\":\"user1\", \"location\":\"Charlotte, NC\"}\n",
    "support_chatbot(service, \"recommend a restaurant for tonight based on my preference\", mobile_app_context)\n"
   ]
  },
  {
   "cell_type": "markdown",
   "metadata": {},
   "source": [
    "Again, the response varies if you run it multiple times. Most of the time it responds with something like:\n",
    "```\n",
    "Sure, Jim! Could you please share your preferences, such as the type of cuisine you enjoy or any specific dietary  \n",
    "restrictions? That way, I can recommend a restaurant that you'll love.\n",
    "```\n",
    "This makes a lot of sense because it the user's food preference is not part of the *prompt*.\n",
    "\n",
    "Adding food preference to the prompt would be a good option and you can test that out on your own. But there is an alternative that we explore in the next section, Features as Tools."
   ]
  },
  {
   "cell_type": "markdown",
   "metadata": {},
   "source": [
    "# Features as Tools\n",
    "\n",
    "With Features as Tools, the LLM has the option of querying features on-demand.\n",
    "The `user_info_fv` used in the previous example contains the `food_preference` field but it isn't available to the LLM.\n",
    "When adding the feature view `user_info_fv` in the list of *tools* in the *AgentService*, the LLM can query all the features in the feature view and make use of that information to drive a better response.\n",
    "\n",
    "Try it out running multiple times with different users and locations:"
   ]
  },
  {
   "cell_type": "code",
   "execution_count": 15,
   "metadata": {},
   "outputs": [
    {
     "data": {
      "text/html": [
       "<pre style=\"white-space:pre;overflow-x:auto;line-height:normal;font-family:Menlo,'DejaVu Sans Mono',consolas,'Courier New',monospace\"><span style=\"color: #008000; text-decoration-color: #008000\">DEBUG   </span> Invoking tool user_info_fv with <span style=\"font-weight: bold\">{}</span>                                                           <a href=\"file:///opt/anaconda3/envs/tecton/lib/python3.9/site-packages/tecton_gen_ai/agent/client.py\" target=\"_blank\"><span style=\"color: #7f7f7f; text-decoration-color: #7f7f7f\">client.py</span></a><span style=\"color: #7f7f7f; text-decoration-color: #7f7f7f\">:</span><a href=\"file:///opt/anaconda3/envs/tecton/lib/python3.9/site-packages/tecton_gen_ai/agent/client.py#360\" target=\"_blank\"><span style=\"color: #7f7f7f; text-decoration-color: #7f7f7f\">360</span></a>\n",
       "</pre>\n"
      ],
      "text/plain": [
       "\u001b[32mDEBUG   \u001b[0m Invoking tool user_info_fv with \u001b[1m{\u001b[0m\u001b[1m}\u001b[0m                                                           \u001b]8;id=682039;file:///opt/anaconda3/envs/tecton/lib/python3.9/site-packages/tecton_gen_ai/agent/client.py\u001b\\\u001b[2mclient.py\u001b[0m\u001b]8;;\u001b\\\u001b[2m:\u001b[0m\u001b]8;id=38787;file:///opt/anaconda3/envs/tecton/lib/python3.9/site-packages/tecton_gen_ai/agent/client.py#360\u001b\\\u001b[2m360\u001b[0m\u001b]8;;\u001b\\\n"
      ]
     },
     "metadata": {},
     "output_type": "display_data"
    },
    {
     "data": {
      "text/html": [
       "<pre style=\"white-space:pre;overflow-x:auto;line-height:normal;font-family:Menlo,'DejaVu Sans Mono',consolas,'Courier New',monospace\">Here’s a restaurant recommendation for you, Jim:                                                                   \n",
       "\n",
       "<span style=\"font-weight: bold\">The Capital Grille</span>                                                                                                 \n",
       "<span style=\"font-weight: bold\">Address:</span> 201 N Tryon St, Charlotte, NC 28202                                                                       \n",
       "<span style=\"font-weight: bold\">Recommended Menu Items:</span>                                                                                            \n",
       "\n",
       "<span style=\"color: #808000; text-decoration-color: #808000; font-weight: bold\"> • </span>Dry Aged Porterhouse                                                                                            \n",
       "<span style=\"color: #808000; text-decoration-color: #808000; font-weight: bold\"> • </span>Pan-Seared Tenderloin                                                                                           \n",
       "<span style=\"color: #808000; text-decoration-color: #808000; font-weight: bold\"> • </span>Lobster Mac 'N' Cheese                                                                                          \n",
       "<span style=\"color: #808000; text-decoration-color: #808000; font-weight: bold\"> • </span>Grilled Asparagus                                                                                               \n",
       "\n",
       "Enjoy your meal!                                                                                                   \n",
       "</pre>\n"
      ],
      "text/plain": [
       "Here’s a restaurant recommendation for you, Jim:                                                                   \n",
       "\n",
       "\u001b[1mThe Capital Grille\u001b[0m                                                                                                 \n",
       "\u001b[1mAddress:\u001b[0m 201 N Tryon St, Charlotte, NC 28202                                                                       \n",
       "\u001b[1mRecommended Menu Items:\u001b[0m                                                                                            \n",
       "\n",
       "\u001b[1;33m • \u001b[0mDry Aged Porterhouse                                                                                            \n",
       "\u001b[1;33m • \u001b[0mPan-Seared Tenderloin                                                                                           \n",
       "\u001b[1;33m • \u001b[0mLobster Mac 'N' Cheese                                                                                          \n",
       "\u001b[1;33m • \u001b[0mGrilled Asparagus                                                                                               \n",
       "\n",
       "Enjoy your meal!                                                                                                   \n"
      ]
     },
     "metadata": {},
     "output_type": "display_data"
    }
   ],
   "source": [
    "\n",
    "#define the Tecton Agent Service specifying the prompts, sources of knowledge and feature tools \n",
    "service = AgentService(\n",
    "    name=\"restaurant_recommender\",\n",
    "    prompts=[sys_prompt],\n",
    "    tools=[user_info_fv] # user_info_fv provides food preference and recent_eats_fv provides recent dining\n",
    ")\n",
    "\n",
    "# we should get a much better answer\n",
    "mobile_app_context={\"user_id\":\"user1\", \"location\":\"Charlotte, NC\"}\n",
    "support_chatbot(service, \"recommend a restaurant for tonight based on my preference\", mobile_app_context)\n"
   ]
  },
  {
   "cell_type": "markdown",
   "metadata": {},
   "source": [
    "The results get a lot better, user1 gets American food recommendations, user2 gets Italian and user3 gets Chinese.\n",
    "The DEBUG message output shows that the LLM retrieved data from `user_info_fv` before answering the question.\n",
    "\n",
    "### More features to answer more complex questions\n",
    "In the following example we add yet another feature as tools component th the mix.\n",
    "\n",
    "By adding a list of the restaurants that the user has been to recently, the LLM can now add variety to its recommendations."
   ]
  },
  {
   "cell_type": "code",
   "execution_count": 16,
   "metadata": {},
   "outputs": [],
   "source": [
    "# user's recent visits \n",
    "recent_eats = [\n",
    "    {\"user_id\": \"user1\", \"last_3_visits\":str([\"Mama Ricotta's\", \"The Capital Grille\", \"Firebirds Wood Fired Grill\"])},\n",
    "    {\"user_id\": \"user2\", \"last_3_visits\":str([\"Mama Ricotta's\", \"Villa Antonio\", \"Viva Chicken\"])},\n",
    "    {\"user_id\": \"user3\", \"last_3_visits\":str([\"Wan Fu\", \"Wan Fu Quality Chinese Cuisine\", \"Ru San's\"])},\n",
    "]\n",
    "recent_eats_fv = make_local_batch_feature_view( \"recent_eats_fv\", recent_eats, entity_keys=[\"user_id\"], description=\"User's recent restaurant visits.\")\n",
    "\n",
    "#define the Tecton Agent Service specifying the prompt, and two feature tools\n",
    "service = AgentService(\n",
    "    name=\"restaurant_recommender\",\n",
    "    prompts=[sys_prompt],\n",
    "    tools=[user_info_fv, recent_eats_fv] # recent_eats_fv provides recent dining info\n",
    ")"
   ]
  },
  {
   "cell_type": "markdown",
   "metadata": {},
   "source": [
    "### Chatbot with more tools \n",
    "Again, try running the following cell multiple times while varying the user id."
   ]
  },
  {
   "cell_type": "code",
   "execution_count": 17,
   "metadata": {},
   "outputs": [
    {
     "data": {
      "text/html": [
       "<pre style=\"white-space:pre;overflow-x:auto;line-height:normal;font-family:Menlo,'DejaVu Sans Mono',consolas,'Courier New',monospace\"><span style=\"color: #008000; text-decoration-color: #008000\">DEBUG   </span> Invoking tool recent_eats_fv with <span style=\"font-weight: bold\">{}</span>                                                         <a href=\"file:///opt/anaconda3/envs/tecton/lib/python3.9/site-packages/tecton_gen_ai/agent/client.py\" target=\"_blank\"><span style=\"color: #7f7f7f; text-decoration-color: #7f7f7f\">client.py</span></a><span style=\"color: #7f7f7f; text-decoration-color: #7f7f7f\">:</span><a href=\"file:///opt/anaconda3/envs/tecton/lib/python3.9/site-packages/tecton_gen_ai/agent/client.py#360\" target=\"_blank\"><span style=\"color: #7f7f7f; text-decoration-color: #7f7f7f\">360</span></a>\n",
       "</pre>\n"
      ],
      "text/plain": [
       "\u001b[32mDEBUG   \u001b[0m Invoking tool recent_eats_fv with \u001b[1m{\u001b[0m\u001b[1m}\u001b[0m                                                         \u001b]8;id=40077;file:///opt/anaconda3/envs/tecton/lib/python3.9/site-packages/tecton_gen_ai/agent/client.py\u001b\\\u001b[2mclient.py\u001b[0m\u001b]8;;\u001b\\\u001b[2m:\u001b[0m\u001b]8;id=184232;file:///opt/anaconda3/envs/tecton/lib/python3.9/site-packages/tecton_gen_ai/agent/client.py#360\u001b\\\u001b[2m360\u001b[0m\u001b]8;;\u001b\\\n"
      ]
     },
     "metadata": {},
     "output_type": "display_data"
    },
    {
     "data": {
      "text/html": [
       "<pre style=\"white-space:pre;overflow-x:auto;line-height:normal;font-family:Menlo,'DejaVu Sans Mono',consolas,'Courier New',monospace\">Here are a few restaurant recommendations for you, Jim:                                                            \n",
       "\n",
       "<span style=\"color: #808000; text-decoration-color: #808000; font-weight: bold\"> 1 </span><span style=\"font-weight: bold\">The Fig Tree Restaurant</span>                                                                                         \n",
       "<span style=\"color: #808000; text-decoration-color: #808000; font-weight: bold\">    • </span><span style=\"font-weight: bold\">Address:</span> 9601 Johnston Rd, Charlotte, NC 28210                                                               \n",
       "<span style=\"color: #808000; text-decoration-color: #808000; font-weight: bold\">    • </span><span style=\"font-weight: bold\">Suggested Menu Items:</span> Try the Filet Mignon or the Lobster Ravioli.                                           \n",
       "<span style=\"color: #808000; text-decoration-color: #808000; font-weight: bold\"> 2 </span><span style=\"font-weight: bold\">Sullivan's Steakhouse</span>                                                                                           \n",
       "<span style=\"color: #808000; text-decoration-color: #808000; font-weight: bold\">    • </span><span style=\"font-weight: bold\">Address:</span> 1928 South Blvd, Charlotte, NC 28203                                                                \n",
       "<span style=\"color: #808000; text-decoration-color: #808000; font-weight: bold\">    • </span><span style=\"font-weight: bold\">Suggested Menu Items:</span> The Bone-In Ribeye and the Lobster Mac &amp; Cheese are highly recommended.                \n",
       "<span style=\"color: #808000; text-decoration-color: #808000; font-weight: bold\"> 3 </span><span style=\"font-weight: bold\">Café Monte</span>                                                                                                      \n",
       "<span style=\"color: #808000; text-decoration-color: #808000; font-weight: bold\">    • </span><span style=\"font-weight: bold\">Address:</span> 1616 E 5th St, Charlotte, NC 28204                                                                  \n",
       "<span style=\"color: #808000; text-decoration-color: #808000; font-weight: bold\">    • </span><span style=\"font-weight: bold\">Suggested Menu Items:</span> Don't miss their Croque Madame or the Quiche Lorraine.                                 \n",
       "\n",
       "Enjoy your meal tonight!                                                                                           \n",
       "</pre>\n"
      ],
      "text/plain": [
       "Here are a few restaurant recommendations for you, Jim:                                                            \n",
       "\n",
       "\u001b[1;33m 1 \u001b[0m\u001b[1mThe Fig Tree Restaurant\u001b[0m                                                                                         \n",
       "\u001b[1;33m   \u001b[0m\u001b[1;33m • \u001b[0m\u001b[1mAddress:\u001b[0m 9601 Johnston Rd, Charlotte, NC 28210                                                               \n",
       "\u001b[1;33m   \u001b[0m\u001b[1;33m • \u001b[0m\u001b[1mSuggested Menu Items:\u001b[0m Try the Filet Mignon or the Lobster Ravioli.                                           \n",
       "\u001b[1;33m 2 \u001b[0m\u001b[1mSullivan's Steakhouse\u001b[0m                                                                                           \n",
       "\u001b[1;33m   \u001b[0m\u001b[1;33m • \u001b[0m\u001b[1mAddress:\u001b[0m 1928 South Blvd, Charlotte, NC 28203                                                                \n",
       "\u001b[1;33m   \u001b[0m\u001b[1;33m • \u001b[0m\u001b[1mSuggested Menu Items:\u001b[0m The Bone-In Ribeye and the Lobster Mac & Cheese are highly recommended.                \n",
       "\u001b[1;33m 3 \u001b[0m\u001b[1mCafé Monte\u001b[0m                                                                                                      \n",
       "\u001b[1;33m   \u001b[0m\u001b[1;33m • \u001b[0m\u001b[1mAddress:\u001b[0m 1616 E 5th St, Charlotte, NC 28204                                                                  \n",
       "\u001b[1;33m   \u001b[0m\u001b[1;33m • \u001b[0m\u001b[1mSuggested Menu Items:\u001b[0m Don't miss their Croque Madame or the Quiche Lorraine.                                 \n",
       "\n",
       "Enjoy your meal tonight!                                                                                           \n"
      ]
     },
     "metadata": {},
     "output_type": "display_data"
    }
   ],
   "source": [
    "# now the app also knows where the user has already been\n",
    "mobile_app_context = {\"user_id\":\"user1\", \"location\":\"Charlotte, NC\"}\n",
    "support_chatbot(service, \"I need a new restaurant for tonight\", mobile_app_context)\n"
   ]
  },
  {
   "cell_type": "markdown",
   "metadata": {},
   "source": [
    "The results are getting even better, the user is not only getting recommendations for places that fit their cuisine preference, but also places that they have not been to before.\n",
    "\n",
    "### But why these restaurants and not others\n",
    "Savvy readers may have noticed at this point that the recommendations come from the general training of the LLM. \n",
    "\n",
    "If you are the developer of this app, you probably want to promote the restaurants that have signed up for your service and not those that haven't. This is where more prompt instructions and *knowledge* comes in which are explored in the next section... "
   ]
  },
  {
   "cell_type": "markdown",
   "metadata": {},
   "source": [
    "# Knowledge\n",
    "\n",
    "Adding knowledge to an LLM provides domain specific information that extends beyond its base training. With it, the LLM is able to select relevant text that helps respond to user queries and avoid hallucination. \n",
    "\n",
    "When creating a set of *knowledge* in Tecton, the platform takes care of calculating embedding vectors and storing the data in a vector search database which the LLM workflow agent can then use to do semantic search. \n",
    "\n",
    "With Tecton knowledge, other fields can be specified as filters for the dataset narrowing the results prior to semantic search and therefore providing information that is even more relevant given the user's question and their current context.\n",
    "\n",
    "\n",
    "In the following cell, the *prompt* is adjusted instructing the LLM to only use the *knowledge* provided when selecting restaurants, this narrows the results to just restaurants that we want the app to recommend. \n",
    "With the restaurant descriptions as its *knowledge*, the LLM can also select a restaurant based on more qualitative characteristics like atmosphere or whatever else the descriptions provide."
   ]
  },
  {
   "cell_type": "code",
   "execution_count": 18,
   "metadata": {},
   "outputs": [],
   "source": [
    "#change the prompt instructions adding \"Only select restaurants that have signed up on the service. \"\n",
    "@prompt(sources=[ location_request, user_info_fv])  # specifies sources of data for the prompt\n",
    "def sys_prompt(location_request, user_info_fv ):\n",
    "    location = location_request[\"location\"]\n",
    "    name = user_info_fv[\"name\"]\n",
    "    return f\"\"\"\n",
    "    Address the user by their name. Their name is {name}.\n",
    "    You are a consierge service that recommends restaurants.\n",
    "    Only suggest restaurants that are in or near {location}. \n",
    "    Always provide an address.\n",
    "    Always suggested menu items. \n",
    "    Only select restaurants that have signed up on the service. \n",
    "    \"\"\" # notice that we've added an instruction\n",
    "\n",
    "#example knowledge about restaurants that have signed up\n",
    "restaurants_signed_up = [\n",
    "  {\n",
    "    \"restaurant_name\": \"Mama Ricotta's\",\n",
    "    \"zipcode\": \"28203\",\n",
    "    \"cuisine\": \"Italian\",\n",
    "    \"description\": \"A Charlotte staple since 1992, Mama Ricotta's offers authentic Italian cuisine in a warm, family-friendly atmosphere. Known for their hand-tossed pizzas, homemade pasta, and signature chicken parmesan.\"\n",
    "  },\n",
    "  {\n",
    "    \"restaurant_name\": \"The Capital Grille\",\n",
    "    \"zipcode\": \"28202\",\n",
    "    \"cuisine\": \"American Steakhouse\",\n",
    "    \"description\": \"An upscale steakhouse chain featuring dry-aged steaks, fresh seafood, and an extensive wine list. The Charlotte location offers a refined dining experience with impeccable service and a sophisticated ambiance.\"\n",
    "  },\n",
    "  {\n",
    "    \"restaurant_name\": \"Firebirds Wood Fired Grill\",\n",
    "    \"zipcode\": \"28277\",\n",
    "    \"cuisine\": \"American\",\n",
    "    \"description\": \"A polished casual restaurant known for its classic American cuisine cooked over an open wood fire. Specialties include hand-cut steaks, fresh seafood, and signature cocktails in a warm, contemporary setting.\"\n",
    "  },\n",
    "  {\n",
    "    \"restaurant_name\": \"Villa Antonio\",\n",
    "    \"zipcode\": \"28210\",\n",
    "    \"cuisine\": \"Italian\",\n",
    "    \"description\": \"An elegant Italian restaurant offering a romantic atmosphere and authentic cuisine. Known for its homemade pasta, extensive wine selection, and attentive service, perfect for special occasions.\"\n",
    "  },\n",
    "  {\n",
    "    \"restaurant_name\": \"Viva Chicken\",\n",
    "    \"zipcode\": \"28203\",\n",
    "    \"cuisine\": \"Peruvian\",\n",
    "    \"description\": \"A fast-casual eatery specializing in Peruvian-style rotisserie chicken. Offers fresh, flavorful dishes with a modern twist on traditional Peruvian cuisine, including quinoa stuffed avocados and yuca fries.\"\n",
    "  },\n",
    "  {\n",
    "    \"restaurant_name\": \"Wan Fu\",\n",
    "    \"zipcode\": \"28226\",\n",
    "    \"cuisine\": \"Chinese\",\n",
    "    \"description\": \"A local favorite for Chinese cuisine, Wan Fu offers a wide array of traditional and Americanized Chinese dishes. Known for its generous portions, friendly service, and comfortable dining atmosphere.\"\n",
    "  },\n",
    "  {\n",
    "    \"restaurant_name\": \"Wan Fu Quality Chinese Cuisine\",\n",
    "    \"zipcode\": \"28277\",\n",
    "    \"cuisine\": \"Chinese\",\n",
    "    \"description\": \"An upscale Chinese restaurant focusing on authentic flavors and high-quality ingredients. Offers a more refined dining experience with a menu featuring both classic and innovative Chinese dishes.\"\n",
    "  },\n",
    "  {\n",
    "    \"restaurant_name\": \"Ru San's\",\n",
    "    \"zipcode\": \"28203\",\n",
    "    \"cuisine\": \"Japanese\",\n",
    "    \"description\": \"A popular sushi restaurant known for its extensive menu and all-you-can-eat option. Offers a wide variety of sushi rolls, sashimi, and other Japanese dishes in a casual, vibrant atmosphere.\"\n",
    "  },\n",
    "  {\n",
    "    \"restaurant_name\": \"Le Bernardin\",\n",
    "    \"zipcode\": \"10019\",\n",
    "    \"cuisine\": \"French Seafood\",\n",
    "    \"description\": \"A world-renowned, Michelin three-star restaurant specializing in exquisite seafood. Chef Eric Ripert's menu features innovative preparations of the finest global seafood in an elegant setting.\"\n",
    "  },\n",
    "  {\n",
    "    \"restaurant_name\": \"Katz's Delicatessen\",\n",
    "    \"zipcode\": \"10002\",\n",
    "    \"cuisine\": \"Jewish Deli\",\n",
    "    \"description\": \"An iconic New York institution since 1888, famous for its hand-carved pastrami and corned beef sandwiches. The bustling, no-frills atmosphere is part of its enduring charm.\"\n",
    "  },\n",
    "  {\n",
    "    \"restaurant_name\": \"Eleven Madison Park\",\n",
    "    \"zipcode\": \"10010\",\n",
    "    \"cuisine\": \"Contemporary American\",\n",
    "    \"description\": \"A three-Michelin-starred restaurant offering an innovative tasting menu focusing on locally sourced, plant-based ingredients. Known for its impeccable service and artistic presentation.\"\n",
    "  },\n",
    "  {\n",
    "    \"restaurant_name\": \"Peter Luger Steak House\",\n",
    "    \"zipcode\": \"11211\",\n",
    "    \"cuisine\": \"Steakhouse\",\n",
    "    \"description\": \"A Brooklyn institution since 1887, Peter Luger is famous for its dry-aged steaks and old-school, cash-only policy. The no-frills atmosphere focuses attention on the exceptional quality of the meat.\"\n",
    "  },\n",
    "  {\n",
    "    \"restaurant_name\": \"Di Fara Pizza\",\n",
    "    \"zipcode\": \"11230\",\n",
    "    \"cuisine\": \"Pizza\",\n",
    "    \"description\": \"A legendary Brooklyn pizzeria, Di Fara is known for its handcrafted pies made by founder Dom DeMarco. Each pizza is a work of art, featuring high-quality ingredients and meticulous preparation.\"\n",
    "  },\n",
    "  {\n",
    "    \"restaurant_name\": \"Balthazar\",\n",
    "    \"zipcode\": \"10012\",\n",
    "    \"cuisine\": \"French Brasserie\",\n",
    "    \"description\": \"A SoHo classic, Balthazar offers authentic French brasserie fare in a vibrant, bustling atmosphere. Known for its fresh seafood, classic French dishes, and popular weekend brunch.\"\n",
    "  },\n",
    "  {\n",
    "    \"restaurant_name\": \"Momofuku Ko\",\n",
    "    \"zipcode\": \"10003\",\n",
    "    \"cuisine\": \"Contemporary Asian\",\n",
    "    \"description\": \"Chef David Chang's two-Michelin-starred restaurant offers an ever-changing tasting menu blending Asian and Western influences. The intimate counter seating provides a unique, interactive dining experience.\"\n",
    "  },\n",
    "  {\n",
    "    \"restaurant_name\": \"The Halal Guys\",\n",
    "    \"zipcode\": \"10019\",\n",
    "    \"cuisine\": \"Middle Eastern\",\n",
    "    \"description\": \"Starting as a food cart, The Halal Guys has become a New York institution. Famous for its chicken and gyro over rice, topped with their legendary white sauce. Now with brick-and-mortar locations.\"\n",
    "  },\n",
    "  {\n",
    "    \"restaurant_name\": \"Russ & Daughters\",\n",
    "    \"zipcode\": \"10002\",\n",
    "    \"cuisine\": \"Jewish Appetizing\",\n",
    "    \"description\": \"A New York classic since 1914, specializing in traditional Jewish appetizing foods. Famous for its hand-sliced smoked salmon, bagels, and other Jewish delicacies. Now includes a sit-down cafe.\"\n",
    "  },\n",
    "  {\n",
    "    \"restaurant_name\": \"Lombardi's\",\n",
    "    \"zipcode\": \"10012\",\n",
    "    \"cuisine\": \"Pizza\",\n",
    "    \"description\": \"America's first pizzeria, established in 1905. Lombardi's continues to serve classic New York-style pizza from its coal-fired oven. Known for its simple, high-quality ingredients and historic charm.\"\n",
    "  },\n",
    "  {\n",
    "    \"restaurant_name\": \"Joe's Shanghai\",\n",
    "    \"zipcode\": \"10013\",\n",
    "    \"cuisine\": \"Chinese\",\n",
    "    \"description\": \"Famous for introducing soup dumplings to New York, Joe's Shanghai offers authentic Shanghai-style cuisine. The bustling, no-frills atmosphere adds to the authentic experience.\"\n",
    "  }\n",
    "]\n"
   ]
  },
  {
   "cell_type": "markdown",
   "metadata": {},
   "source": [
    "### Transform and load the knowledge\n",
    "\n",
    "The following cell creates a sample *knowledge* base for the LLM using `make_local_source`, notice that the description `\"Restaurants that signed up for the service\"` provides the LLM the information it needs to follow the new instruction in the prompt created above. \n",
    "\n",
    "The `source_as_knowledge` function that creates `restaurant_knowledge` calculates embedding vectors and loads the data into a vector search database.\n",
    "\n",
    "The complete *AgentService* will now contains the prompt, two features as tools and the newly created `restaurant_knowledge` with the intent that it only recommend restaurants that have signed up for the service."
   ]
  },
  {
   "cell_type": "code",
   "execution_count": 19,
   "metadata": {},
   "outputs": [],
   "source": [
    "from tecton_gen_ai.testing import make_local_source\n",
    "from tecton_gen_ai.testing.utils import make_local_vector_db_config\n",
    "from tecton_gen_ai.fco import source_as_knowledge\n",
    "\n",
    "#provide a vector db config\n",
    "conf = make_local_vector_db_config(\"/tmp/test.db\", remove_if_exists=True)\n",
    "\n",
    "#create embeddings of the restaurant descriptions in the vector DB\n",
    "src = make_local_source(\"restaurants_signed_up\", restaurants_signed_up, \n",
    "                         auto_timestamp=True, description=\"Restaurants that signed up for the service\")\n",
    "\n",
    "restaurant_knowledge = source_as_knowledge(\n",
    "    src,\n",
    "    vector_db_config=conf,\n",
    "    vectorize_column=\"description\",\n",
    "    filter = [(\"zipcode\", str, \"the zip code for the restaurant\")]\n",
    ")\n",
    "\n",
    "#rebuild the service with restaurant knowledge included\n",
    "service = AgentService(\n",
    "    name=\"restaurant_recommender\",\n",
    "    prompts=[sys_prompt],\n",
    "    knowledge=[restaurant_knowledge],  # added a source of knowledge\n",
    "    tools=[user_info_fv, recent_eats_fv] \n",
    ")\n"
   ]
  },
  {
   "cell_type": "markdown",
   "metadata": {},
   "source": [
    "### Chatbot with prompt, feature tools & knowledge\n",
    "\n",
    "The knowledge `restaurant_knowledge` created above specifies a zipcode based filter, so now we use zip codes for location to provide this additional filtering capability for knowledge.\n",
    "\n",
    "Run the next cell multiple times changing the user."
   ]
  },
  {
   "cell_type": "code",
   "execution_count": 56,
   "metadata": {},
   "outputs": [
    {
     "name": "stdout",
     "output_type": "stream",
     "text": [
      "metadata.zipcode = '28277'\n"
     ]
    },
    {
     "data": {
      "text/html": [
       "<pre style=\"white-space:pre;overflow-x:auto;line-height:normal;font-family:Menlo,'DejaVu Sans Mono',consolas,'Courier New',monospace\"><span style=\"color: #008000; text-decoration-color: #008000\">DEBUG   </span> Invoking tool search_restaurants_signed_up with <span style=\"font-weight: bold\">{</span><span style=\"color: #008000; text-decoration-color: #008000\">'query'</span>: <span style=\"color: #008000; text-decoration-color: #008000\">'dry-aged steaks'</span>, <span style=\"color: #008000; text-decoration-color: #008000\">'filter'</span>:       <a href=\"file:///opt/anaconda3/envs/tecton/lib/python3.9/site-packages/tecton_gen_ai/agent/client.py\" target=\"_blank\"><span style=\"color: #7f7f7f; text-decoration-color: #7f7f7f\">client.py</span></a><span style=\"color: #7f7f7f; text-decoration-color: #7f7f7f\">:</span><a href=\"file:///opt/anaconda3/envs/tecton/lib/python3.9/site-packages/tecton_gen_ai/agent/client.py#360\" target=\"_blank\"><span style=\"color: #7f7f7f; text-decoration-color: #7f7f7f\">360</span></a>\n",
       "         <span style=\"color: #008000; text-decoration-color: #008000\">'{\"zipcode\":\"28277\"}'</span><span style=\"font-weight: bold\">}</span>                                                                       <span style=\"color: #7f7f7f; text-decoration-color: #7f7f7f\">             </span>\n",
       "</pre>\n"
      ],
      "text/plain": [
       "\u001b[32mDEBUG   \u001b[0m Invoking tool search_restaurants_signed_up with \u001b[1m{\u001b[0m\u001b[32m'query'\u001b[0m: \u001b[32m'dry-aged steaks'\u001b[0m, \u001b[32m'filter'\u001b[0m:       \u001b]8;id=820696;file:///opt/anaconda3/envs/tecton/lib/python3.9/site-packages/tecton_gen_ai/agent/client.py\u001b\\\u001b[2mclient.py\u001b[0m\u001b]8;;\u001b\\\u001b[2m:\u001b[0m\u001b]8;id=273394;file:///opt/anaconda3/envs/tecton/lib/python3.9/site-packages/tecton_gen_ai/agent/client.py#360\u001b\\\u001b[2m360\u001b[0m\u001b]8;;\u001b\\\n",
       "         \u001b[32m'\u001b[0m\u001b[32m{\u001b[0m\u001b[32m\"zipcode\":\"28277\"\u001b[0m\u001b[32m}\u001b[0m\u001b[32m'\u001b[0m\u001b[1m}\u001b[0m                                                                       \u001b[2m             \u001b[0m\n"
      ]
     },
     "metadata": {},
     "output_type": "display_data"
    },
    {
     "data": {
      "text/html": [
       "<pre style=\"white-space:pre;overflow-x:auto;line-height:normal;font-family:Menlo,'DejaVu Sans Mono',consolas,'Courier New',monospace\">I recommend <span style=\"font-weight: bold\">Firebirds Wood Fired Grill</span>, located at 1080 Market St, Fort Mill, SC 29708. This polished casual       \n",
       "restaurant is known for its classic American cuisine, including hand-cut dry-aged steaks. You might want to try    \n",
       "their signature Firebirds® Filet or the New York Strip, both cooked over an open wood fire.                        \n",
       "\n",
       "Enjoy your meal, Jane!                                                                                             \n",
       "</pre>\n"
      ],
      "text/plain": [
       "I recommend \u001b[1mFirebirds Wood Fired Grill\u001b[0m, located at 1080 Market St, Fort Mill, SC 29708. This polished casual       \n",
       "restaurant is known for its classic American cuisine, including hand-cut dry-aged steaks. You might want to try    \n",
       "their signature Firebirds® Filet or the New York Strip, both cooked over an open wood fire.                        \n",
       "\n",
       "Enjoy your meal, Jane!                                                                                             \n"
      ]
     },
     "metadata": {},
     "output_type": "display_data"
    }
   ],
   "source": [
    "# test the app\n",
    "mobile_app_context = {\"user_id\":\"user3\", \"location\":\"28277\"}\n",
    "support_chatbot(service, \"recommend a restaurant with dry-aged steaks\", mobile_app_context)"
   ]
  },
  {
   "cell_type": "markdown",
   "metadata": {},
   "source": [
    "It only recommends restaurants in the database and since we are asking for specific items, their food preference is not considered.\n",
    "Adding context in prompts, tools and knowledge can really control the behavior of the LLM and avoid hallucinations.\n",
    "\n",
    "Try experimenting a bit more, below is another type of question where the user wants to visit one of their recent visits but would also like dry-aged steak. Change the user between runs and see how the response adapts to the personalization:"
   ]
  },
  {
   "cell_type": "code",
   "execution_count": 58,
   "metadata": {},
   "outputs": [
    {
     "name": "stdout",
     "output_type": "stream",
     "text": [
      "metadata.zipcode = '10200'\n"
     ]
    },
    {
     "name": "stdout",
     "output_type": "stream",
     "text": [
      "metadata.zipcode = '10200'\n"
     ]
    },
    {
     "data": {
      "text/html": [
       "<pre style=\"white-space:pre;overflow-x:auto;line-height:normal;font-family:Menlo,'DejaVu Sans Mono',consolas,'Courier New',monospace\"><span style=\"color: #008000; text-decoration-color: #008000\">DEBUG   </span> Invoking tool recent_eats_fv with <span style=\"font-weight: bold\">{}</span>                                                         <a href=\"file:///opt/anaconda3/envs/tecton/lib/python3.9/site-packages/tecton_gen_ai/agent/client.py\" target=\"_blank\"><span style=\"color: #7f7f7f; text-decoration-color: #7f7f7f\">client.py</span></a><span style=\"color: #7f7f7f; text-decoration-color: #7f7f7f\">:</span><a href=\"file:///opt/anaconda3/envs/tecton/lib/python3.9/site-packages/tecton_gen_ai/agent/client.py#360\" target=\"_blank\"><span style=\"color: #7f7f7f; text-decoration-color: #7f7f7f\">360</span></a>\n",
       "</pre>\n"
      ],
      "text/plain": [
       "\u001b[32mDEBUG   \u001b[0m Invoking tool recent_eats_fv with \u001b[1m{\u001b[0m\u001b[1m}\u001b[0m                                                         \u001b]8;id=345829;file:///opt/anaconda3/envs/tecton/lib/python3.9/site-packages/tecton_gen_ai/agent/client.py\u001b\\\u001b[2mclient.py\u001b[0m\u001b]8;;\u001b\\\u001b[2m:\u001b[0m\u001b]8;id=184672;file:///opt/anaconda3/envs/tecton/lib/python3.9/site-packages/tecton_gen_ai/agent/client.py#360\u001b\\\u001b[2m360\u001b[0m\u001b]8;;\u001b\\\n"
      ]
     },
     "metadata": {},
     "output_type": "display_data"
    },
    {
     "name": "stdout",
     "output_type": "stream",
     "text": [
      "metadata.zipcode = '28277'\n",
      "metadata.zipcode = '28277'\n",
      "metadata.zipcode = '28277'\n",
      "metadata.zipcode = '28277'\n"
     ]
    },
    {
     "data": {
      "text/html": [
       "<pre style=\"white-space:pre;overflow-x:auto;line-height:normal;font-family:Menlo,'DejaVu Sans Mono',consolas,'Courier New',monospace\"><span style=\"color: #008000; text-decoration-color: #008000\">DEBUG   </span> Invoking tool search_restaurants_signed_up with <span style=\"font-weight: bold\">{</span><span style=\"color: #008000; text-decoration-color: #008000\">'query'</span>: <span style=\"color: #008000; text-decoration-color: #008000\">'dry aged steak'</span>, <span style=\"color: #008000; text-decoration-color: #008000\">'top_k'</span>: <span style=\"color: #008080; text-decoration-color: #008080; font-weight: bold\">5</span>,      <a href=\"file:///opt/anaconda3/envs/tecton/lib/python3.9/site-packages/tecton_gen_ai/agent/client.py\" target=\"_blank\"><span style=\"color: #7f7f7f; text-decoration-color: #7f7f7f\">client.py</span></a><span style=\"color: #7f7f7f; text-decoration-color: #7f7f7f\">:</span><a href=\"file:///opt/anaconda3/envs/tecton/lib/python3.9/site-packages/tecton_gen_ai/agent/client.py#360\" target=\"_blank\"><span style=\"color: #7f7f7f; text-decoration-color: #7f7f7f\">360</span></a>\n",
       "         <span style=\"color: #008000; text-decoration-color: #008000\">'filter'</span>: <span style=\"color: #008000; text-decoration-color: #008000\">'{\"zipcode\":\"28277\"}'</span><span style=\"font-weight: bold\">}</span>                                                             <span style=\"color: #7f7f7f; text-decoration-color: #7f7f7f\">             </span>\n",
       "</pre>\n"
      ],
      "text/plain": [
       "\u001b[32mDEBUG   \u001b[0m Invoking tool search_restaurants_signed_up with \u001b[1m{\u001b[0m\u001b[32m'query'\u001b[0m: \u001b[32m'dry aged steak'\u001b[0m, \u001b[32m'top_k'\u001b[0m: \u001b[1;36m5\u001b[0m,      \u001b]8;id=432076;file:///opt/anaconda3/envs/tecton/lib/python3.9/site-packages/tecton_gen_ai/agent/client.py\u001b\\\u001b[2mclient.py\u001b[0m\u001b]8;;\u001b\\\u001b[2m:\u001b[0m\u001b]8;id=832734;file:///opt/anaconda3/envs/tecton/lib/python3.9/site-packages/tecton_gen_ai/agent/client.py#360\u001b\\\u001b[2m360\u001b[0m\u001b]8;;\u001b\\\n",
       "         \u001b[32m'filter'\u001b[0m: \u001b[32m'\u001b[0m\u001b[32m{\u001b[0m\u001b[32m\"zipcode\":\"28277\"\u001b[0m\u001b[32m}\u001b[0m\u001b[32m'\u001b[0m\u001b[1m}\u001b[0m                                                             \u001b[2m             \u001b[0m\n"
      ]
     },
     "metadata": {},
     "output_type": "display_data"
    },
    {
     "data": {
      "text/html": [
       "<pre style=\"white-space:pre;overflow-x:auto;line-height:normal;font-family:Menlo,'DejaVu Sans Mono',consolas,'Courier New',monospace\"><span style=\"color: #008000; text-decoration-color: #008000\">DEBUG   </span> Invoking tool search_restaurants_signed_up with <span style=\"font-weight: bold\">{</span><span style=\"color: #008000; text-decoration-color: #008000\">'query'</span>: <span style=\"color: #008000; text-decoration-color: #008000\">'Wan Fu'</span>, <span style=\"color: #008000; text-decoration-color: #008000\">'top_k'</span>: <span style=\"color: #008080; text-decoration-color: #008080; font-weight: bold\">5</span>, <span style=\"color: #008000; text-decoration-color: #008000\">'filter'</span>:    <a href=\"file:///opt/anaconda3/envs/tecton/lib/python3.9/site-packages/tecton_gen_ai/agent/client.py\" target=\"_blank\"><span style=\"color: #7f7f7f; text-decoration-color: #7f7f7f\">client.py</span></a><span style=\"color: #7f7f7f; text-decoration-color: #7f7f7f\">:</span><a href=\"file:///opt/anaconda3/envs/tecton/lib/python3.9/site-packages/tecton_gen_ai/agent/client.py#360\" target=\"_blank\"><span style=\"color: #7f7f7f; text-decoration-color: #7f7f7f\">360</span></a>\n",
       "         <span style=\"color: #008000; text-decoration-color: #008000\">'{\"zipcode\":\"28277\"}'</span><span style=\"font-weight: bold\">}</span>                                                                       <span style=\"color: #7f7f7f; text-decoration-color: #7f7f7f\">             </span>\n",
       "</pre>\n"
      ],
      "text/plain": [
       "\u001b[32mDEBUG   \u001b[0m Invoking tool search_restaurants_signed_up with \u001b[1m{\u001b[0m\u001b[32m'query'\u001b[0m: \u001b[32m'Wan Fu'\u001b[0m, \u001b[32m'top_k'\u001b[0m: \u001b[1;36m5\u001b[0m, \u001b[32m'filter'\u001b[0m:    \u001b]8;id=57276;file:///opt/anaconda3/envs/tecton/lib/python3.9/site-packages/tecton_gen_ai/agent/client.py\u001b\\\u001b[2mclient.py\u001b[0m\u001b]8;;\u001b\\\u001b[2m:\u001b[0m\u001b]8;id=955174;file:///opt/anaconda3/envs/tecton/lib/python3.9/site-packages/tecton_gen_ai/agent/client.py#360\u001b\\\u001b[2m360\u001b[0m\u001b]8;;\u001b\\\n",
       "         \u001b[32m'\u001b[0m\u001b[32m{\u001b[0m\u001b[32m\"zipcode\":\"28277\"\u001b[0m\u001b[32m}\u001b[0m\u001b[32m'\u001b[0m\u001b[1m}\u001b[0m                                                                       \u001b[2m             \u001b[0m\n"
      ]
     },
     "metadata": {},
     "output_type": "display_data"
    },
    {
     "data": {
      "text/html": [
       "<pre style=\"white-space:pre;overflow-x:auto;line-height:normal;font-family:Menlo,'DejaVu Sans Mono',consolas,'Courier New',monospace\"><span style=\"color: #008000; text-decoration-color: #008000\">DEBUG   </span> Invoking tool search_restaurants_signed_up with <span style=\"font-weight: bold\">{</span><span style=\"color: #008000; text-decoration-color: #008000\">'query'</span>: <span style=\"color: #008000; text-decoration-color: #008000\">'Wan Fu Quality Chinese Cuisine'</span>,  <a href=\"file:///opt/anaconda3/envs/tecton/lib/python3.9/site-packages/tecton_gen_ai/agent/client.py\" target=\"_blank\"><span style=\"color: #7f7f7f; text-decoration-color: #7f7f7f\">client.py</span></a><span style=\"color: #7f7f7f; text-decoration-color: #7f7f7f\">:</span><a href=\"file:///opt/anaconda3/envs/tecton/lib/python3.9/site-packages/tecton_gen_ai/agent/client.py#360\" target=\"_blank\"><span style=\"color: #7f7f7f; text-decoration-color: #7f7f7f\">360</span></a>\n",
       "         <span style=\"color: #008000; text-decoration-color: #008000\">'top_k'</span>: <span style=\"color: #008080; text-decoration-color: #008080; font-weight: bold\">5</span>, <span style=\"color: #008000; text-decoration-color: #008000\">'filter'</span>: <span style=\"color: #008000; text-decoration-color: #008000\">'{\"zipcode\":\"28277\"}'</span><span style=\"font-weight: bold\">}</span>                                                 <span style=\"color: #7f7f7f; text-decoration-color: #7f7f7f\">             </span>\n",
       "</pre>\n"
      ],
      "text/plain": [
       "\u001b[32mDEBUG   \u001b[0m Invoking tool search_restaurants_signed_up with \u001b[1m{\u001b[0m\u001b[32m'query'\u001b[0m: \u001b[32m'Wan Fu Quality Chinese Cuisine'\u001b[0m,  \u001b]8;id=396631;file:///opt/anaconda3/envs/tecton/lib/python3.9/site-packages/tecton_gen_ai/agent/client.py\u001b\\\u001b[2mclient.py\u001b[0m\u001b]8;;\u001b\\\u001b[2m:\u001b[0m\u001b]8;id=860868;file:///opt/anaconda3/envs/tecton/lib/python3.9/site-packages/tecton_gen_ai/agent/client.py#360\u001b\\\u001b[2m360\u001b[0m\u001b]8;;\u001b\\\n",
       "         \u001b[32m'top_k'\u001b[0m: \u001b[1;36m5\u001b[0m, \u001b[32m'filter'\u001b[0m: \u001b[32m'\u001b[0m\u001b[32m{\u001b[0m\u001b[32m\"zipcode\":\"28277\"\u001b[0m\u001b[32m}\u001b[0m\u001b[32m'\u001b[0m\u001b[1m}\u001b[0m                                                 \u001b[2m             \u001b[0m\n"
      ]
     },
     "metadata": {},
     "output_type": "display_data"
    },
    {
     "data": {
      "text/html": [
       "<pre style=\"white-space:pre;overflow-x:auto;line-height:normal;font-family:Menlo,'DejaVu Sans Mono',consolas,'Courier New',monospace\"><span style=\"color: #008000; text-decoration-color: #008000\">DEBUG   </span> Invoking tool search_restaurants_signed_up with <span style=\"font-weight: bold\">{</span><span style=\"color: #008000; text-decoration-color: #008000\">'query'</span>: <span style=\"color: #008000; text-decoration-color: #008000\">\"Ru San's\"</span>, <span style=\"color: #008000; text-decoration-color: #008000\">'top_k'</span>: <span style=\"color: #008080; text-decoration-color: #008080; font-weight: bold\">5</span>, <span style=\"color: #008000; text-decoration-color: #008000\">'filter'</span>:  <a href=\"file:///opt/anaconda3/envs/tecton/lib/python3.9/site-packages/tecton_gen_ai/agent/client.py\" target=\"_blank\"><span style=\"color: #7f7f7f; text-decoration-color: #7f7f7f\">client.py</span></a><span style=\"color: #7f7f7f; text-decoration-color: #7f7f7f\">:</span><a href=\"file:///opt/anaconda3/envs/tecton/lib/python3.9/site-packages/tecton_gen_ai/agent/client.py#360\" target=\"_blank\"><span style=\"color: #7f7f7f; text-decoration-color: #7f7f7f\">360</span></a>\n",
       "         <span style=\"color: #008000; text-decoration-color: #008000\">'{\"zipcode\":\"28277\"}'</span><span style=\"font-weight: bold\">}</span>                                                                       <span style=\"color: #7f7f7f; text-decoration-color: #7f7f7f\">             </span>\n",
       "</pre>\n"
      ],
      "text/plain": [
       "\u001b[32mDEBUG   \u001b[0m Invoking tool search_restaurants_signed_up with \u001b[1m{\u001b[0m\u001b[32m'query'\u001b[0m: \u001b[32m\"Ru San's\"\u001b[0m, \u001b[32m'top_k'\u001b[0m: \u001b[1;36m5\u001b[0m, \u001b[32m'filter'\u001b[0m:  \u001b]8;id=907271;file:///opt/anaconda3/envs/tecton/lib/python3.9/site-packages/tecton_gen_ai/agent/client.py\u001b\\\u001b[2mclient.py\u001b[0m\u001b]8;;\u001b\\\u001b[2m:\u001b[0m\u001b]8;id=714734;file:///opt/anaconda3/envs/tecton/lib/python3.9/site-packages/tecton_gen_ai/agent/client.py#360\u001b\\\u001b[2m360\u001b[0m\u001b]8;;\u001b\\\n",
       "         \u001b[32m'\u001b[0m\u001b[32m{\u001b[0m\u001b[32m\"zipcode\":\"28277\"\u001b[0m\u001b[32m}\u001b[0m\u001b[32m'\u001b[0m\u001b[1m}\u001b[0m                                                                       \u001b[2m             \u001b[0m\n"
      ]
     },
     "metadata": {},
     "output_type": "display_data"
    },
    {
     "data": {
      "text/html": [
       "<pre style=\"white-space:pre;overflow-x:auto;line-height:normal;font-family:Menlo,'DejaVu Sans Mono',consolas,'Courier New',monospace\">Hi Jane! Among your recent visits, <span style=\"font-weight: bold\">Wan Fu</span> and <span style=\"font-weight: bold\">Wan Fu Quality Chinese Cuisine</span> do not serve dry aged steak. However, \n",
       "<span style=\"font-weight: bold\">Firebirds Wood Fired Grill</span>, which specializes in classic American cuisine, does offer dry aged steak.              \n",
       "\n",
       "Here are the details for Firebirds Wood Fired Grill:                                                               \n",
       "\n",
       "                                            <span style=\"font-weight: bold\">Firebirds Wood Fired Grill</span>                                             \n",
       "\n",
       "<span style=\"color: #808000; text-decoration-color: #808000; font-weight: bold\"> • </span><span style=\"font-weight: bold\">Address:</span> 7045 S. Tryon St., Charlotte, NC 28277                                                                 \n",
       "<span style=\"color: #808000; text-decoration-color: #808000; font-weight: bold\"> • </span><span style=\"font-weight: bold\">Menu Suggestions:</span>                                                                                               \n",
       "<span style=\"color: #808000; text-decoration-color: #808000; font-weight: bold\">    • </span>Dry Aged Ribeye                                                                                              \n",
       "<span style=\"color: #808000; text-decoration-color: #808000; font-weight: bold\">    • </span>Hand-Cut Filet Mignon                                                                                        \n",
       "<span style=\"color: #808000; text-decoration-color: #808000; font-weight: bold\">    • </span>Fresh Seafood options                                                                                        \n",
       "<span style=\"color: #808000; text-decoration-color: #808000; font-weight: bold\">    • </span>Signature Cocktails                                                                                          \n",
       "\n",
       "If you're looking for a great steak experience, Firebirds would be an excellent choice!                            \n",
       "</pre>\n"
      ],
      "text/plain": [
       "Hi Jane! Among your recent visits, \u001b[1mWan Fu\u001b[0m and \u001b[1mWan Fu Quality Chinese Cuisine\u001b[0m do not serve dry aged steak. However, \n",
       "\u001b[1mFirebirds Wood Fired Grill\u001b[0m, which specializes in classic American cuisine, does offer dry aged steak.              \n",
       "\n",
       "Here are the details for Firebirds Wood Fired Grill:                                                               \n",
       "\n",
       "                                            \u001b[1mFirebirds Wood Fired Grill\u001b[0m                                             \n",
       "\n",
       "\u001b[1;33m • \u001b[0m\u001b[1mAddress:\u001b[0m 7045 S. Tryon St., Charlotte, NC 28277                                                                 \n",
       "\u001b[1;33m • \u001b[0m\u001b[1mMenu Suggestions:\u001b[0m                                                                                               \n",
       "\u001b[1;33m   \u001b[0m\u001b[1;33m • \u001b[0mDry Aged Ribeye                                                                                              \n",
       "\u001b[1;33m   \u001b[0m\u001b[1;33m • \u001b[0mHand-Cut Filet Mignon                                                                                        \n",
       "\u001b[1;33m   \u001b[0m\u001b[1;33m • \u001b[0mFresh Seafood options                                                                                        \n",
       "\u001b[1;33m   \u001b[0m\u001b[1;33m • \u001b[0mSignature Cocktails                                                                                          \n",
       "\n",
       "If you're looking for a great steak experience, Firebirds would be an excellent choice!                            \n"
      ]
     },
     "metadata": {},
     "output_type": "display_data"
    }
   ],
   "source": [
    "# test for recent visits with item they do not serve\n",
    "mobile_app_context = {\"user_id\":\"user3\", \"location\":\"28277\"}\n",
    "support_chatbot(service, \"which of my recent visits that have dry aged steak\", mobile_app_context)"
   ]
  },
  {
   "cell_type": "markdown",
   "metadata": {},
   "source": [
    "# Conclusions\n",
    "\n",
    "Adding context to LLM based applications is a powerful technique to avoid hallucinations and produce highly relevant responses.\n",
    "*Prompt* engineering with the addition of up-to-date features that describe and make use of the user's specific situation enhances personalization. *Features as tools* give the LLM access to additional data as needed, making it more responsive to the user's individual situation and immediate requests. *Knowledge* provides domain relevant informat\n",
    "\n",
    "Tecton helps deliver a new level of generative AI capabilities while providing the robust production-grade data pipelines and serving infrastructure that AI driven applications need to achieve in order to serve broad customer facing functionality."
   ]
  }
 ],
 "metadata": {
  "kernelspec": {
   "display_name": "tecton",
   "language": "python",
   "name": "python3"
  },
  "language_info": {
   "codemirror_mode": {
    "name": "ipython",
    "version": 3
   },
   "file_extension": ".py",
   "mimetype": "text/x-python",
   "name": "python",
   "nbconvert_exporter": "python",
   "pygments_lexer": "ipython3",
   "version": "3.9.19"
  }
 },
 "nbformat": 4,
 "nbformat_minor": 2
}
