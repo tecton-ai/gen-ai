{
 "cells": [
  {
   "cell_type": "markdown",
   "metadata": {},
   "source": [
    "# Contextualized Prompts \n",
    "\n",
    "<a target=\"_blank\" href=\"https://colab.research.google.com/github/tecton-ai/gen-ai/blob/main/context-aware-prompt.ipynb\">\n",
    "  <img src=\"https://colab.research.google.com/assets/colab-badge.svg\" alt=\"Open In Colab\" width=\"150\"/>\n",
    "</a>\n",
    "\n",
    "This tutorial guides you through creating an LLM generated restaurant recommendation function.\n",
    "This is an example of how Tecton managed and contextualized prompts enable personalization.\n",
    "\n",
    "It uses Tecton's real-time enriched prompts to provide current context to the LLM in order to improve the quality of its response. \n",
    "This tutorial demonstrates both LangChain and LlamaIndex integration with Tecton prompts."
   ]
  },
  {
   "cell_type": "markdown",
   "metadata": {},
   "source": [
    "## Install Packages"
   ]
  },
  {
   "cell_type": "code",
   "execution_count": 1,
   "metadata": {},
   "outputs": [],
   "source": [
    "_ = !pip install 'tecton-gen-ai[tecton,langchain,llama-index,dev]' langchain-openai llama-index-llms-openai"
   ]
  },
  {
   "cell_type": "markdown",
   "metadata": {},
   "source": [
    "## Setup"
   ]
  },
  {
   "cell_type": "code",
   "execution_count": 2,
   "metadata": {},
   "outputs": [],
   "source": [
    "from tecton_gen_ai.testing import set_dev_mode\n",
    "\n",
    "set_dev_mode()"
   ]
  },
  {
   "cell_type": "markdown",
   "metadata": {},
   "source": [
    "# Tecton Prompt\n",
    "\n",
    "In the following cell you'll create a Tecton Agent with a system prompt that provides instructions to the LLM. The instructions are parameterized with a specific user's data. \n",
    "\n",
    "The agent creation function takes a Tecton feature view as input which is used at run-time to acquire the latest values of the parameters for the user."
   ]
  },
  {
   "cell_type": "code",
   "execution_count": 3,
   "metadata": {},
   "outputs": [],
   "source": [
    "from tecton_gen_ai.fco import prompt, AgentClient, AgentService\n",
    "from tecton_gen_ai.utils.tecton_utils import make_request_source\n",
    "\n",
    "\n",
    "def restaurant_recommender_agent( user_info):    \n",
    "    \n",
    "    location_request = make_request_source(location = str)\n",
    "\n",
    "    @prompt(sources=[ location_request, user_info])\n",
    "    def sys_prompt(location_request, user_info ):\n",
    "        name = user_info[\"name\"]\n",
    "        food_preference = user_info[\"food_preference\"]\n",
    "        location = location_request[\"location\"]\n",
    "        return f\"\"\"\n",
    "        You are a consierge service that recommends restaurants.\n",
    "        You are serving {name}. Address them by name. \n",
    "        Respond to the user query about dining. \n",
    "        If the user asks for a restaurant recommendation respond with a specific restaurant that you know and suggested menu items. \n",
    "        Suggest restaurants that are in {location}. \n",
    "        If the user does not provide a cuisine or food preference, choose a {food_preference} restaurant.\n",
    "        \"\"\"\n",
    "        \n",
    "    return AgentService(\n",
    "        name=\"restaurant_recommender\",\n",
    "        prompts=[ sys_prompt],\n",
    "    )"
   ]
  },
  {
   "cell_type": "markdown",
   "metadata": {},
   "source": [
    "The example above uses a single feature view as input. Tecton Agents can make use of any number of feature views deployed on the Tecton platform to provide up to date context from any features deployed on the platform. \n",
    "\n",
    "Notice that the `sys_prompt` function additionally takes the `location` parameter in the prompt. This instructs Tecton to acquire the location information at request time. Location is a good example of a real-time input given that it would presumably come from a device's GPS function. A combination of existing feature pipelines and real-time parameters can be used for any prompt."
   ]
  },
  {
   "cell_type": "markdown",
   "metadata": {},
   "source": [
    "## Sample Data\n",
    "\n",
    "In order to keep this notebook self-contained, you will create a mock feature view with some hard-coded data.\n",
    "In a real application, you would use Feature Views that continuously update feature values and therefore provide up-to-date context to the LLM application."
   ]
  },
  {
   "cell_type": "code",
   "execution_count": 4,
   "metadata": {},
   "outputs": [],
   "source": [
    "from tecton_gen_ai.testing import make_local_batch_feature_view\n",
    "\n",
    "\n",
    "mock_data = [\n",
    "    {\n",
    "        \"user_id\": \"user1\",\n",
    "        \"name\": \"Jim\",\n",
    "        \"age\": 30,\n",
    "        \"food_preference\": \"American\",\n",
    "    },\n",
    "    {\n",
    "        \"user_id\": \"user2\",\n",
    "        \"name\": \"John\",\n",
    "        \"age\": 40,\n",
    "        \"food_preference\": \"Italian\",\n",
    "    },\n",
    "    {\n",
    "        \"user_id\": \"user3\",\n",
    "        \"name\": \"Jane\",\n",
    "        \"age\": 50,\n",
    "        \"food_preference\": \"Chinese\",\n",
    "    },\n",
    "]\n",
    "\n",
    "user_preference_fv = make_local_batch_feature_view(\n",
    "        \"user_info\", mock_data, entity_keys=[\"user_id\"], description=\"User's profile with name, age and food preference.\"\n",
    "    )"
   ]
  },
  {
   "cell_type": "markdown",
   "metadata": {},
   "source": [
    "The feature view identifies the key `user_id` that is needed to access a user's data, this attribute must be provided when using the feature view in a prompt. \n",
    "\n",
    "In the following cell, you will test the prompt through an AgentClient's invoke_prompt method using a `user_id` and a `location` value. The `user_id` is used to retrieve a specific user's values. The location parameter is a request time parameter so you'll need to provide that value too."
   ]
  },
  {
   "cell_type": "code",
   "execution_count": 5,
   "metadata": {},
   "outputs": [
    {
     "data": {
      "text/html": [
       "<pre style=\"white-space:pre;overflow-x:auto;line-height:normal;font-family:Menlo,'DejaVu Sans Mono',consolas,'Courier New',monospace\"><span style=\"background-color: #272822\">                                                                                                                   </span>\n",
       "<span style=\"background-color: #272822\"> </span><span style=\"color: #f8f8f2; text-decoration-color: #f8f8f2; background-color: #272822\">    You are a consierge service that recommends restaurants.</span><span style=\"background-color: #272822\">                                                      </span>\n",
       "<span style=\"background-color: #272822\"> </span><span style=\"color: #f8f8f2; text-decoration-color: #f8f8f2; background-color: #272822\">    You are serving Jane. Address them by name. </span><span style=\"background-color: #272822\">                                                                  </span>\n",
       "<span style=\"background-color: #272822\"> </span><span style=\"color: #f8f8f2; text-decoration-color: #f8f8f2; background-color: #272822\">    Respond to the user query about dining. </span><span style=\"background-color: #272822\">                                                                      </span>\n",
       "<span style=\"background-color: #272822\"> </span><span style=\"color: #f8f8f2; text-decoration-color: #f8f8f2; background-color: #272822\">    If the user asks for a restaurant recommendation respond with a specific restaurant that you know and suggest</span><span style=\"background-color: #272822\"> </span>\n",
       "<span style=\"background-color: #272822\"> </span><span style=\"color: #f8f8f2; text-decoration-color: #f8f8f2; background-color: #272822\">menu items. </span><span style=\"background-color: #272822\">                                                                                                      </span>\n",
       "<span style=\"background-color: #272822\"> </span><span style=\"color: #f8f8f2; text-decoration-color: #f8f8f2; background-color: #272822\">    Suggest restaurants that are in Chicago. </span><span style=\"background-color: #272822\">                                                                     </span>\n",
       "<span style=\"background-color: #272822\"> </span><span style=\"color: #f8f8f2; text-decoration-color: #f8f8f2; background-color: #272822\">    If the user does not provide a cuisine or food preference, choose a Chinese restaurant.</span><span style=\"background-color: #272822\">                       </span>\n",
       "<span style=\"background-color: #272822\">                                                                                                                   </span>\n",
       "</pre>\n"
      ],
      "text/plain": [
       "\u001b[48;2;39;40;34m                                                                                                                   \u001b[0m\n",
       "\u001b[48;2;39;40;34m \u001b[0m\u001b[38;2;248;248;242;48;2;39;40;34m    You are a consierge service that recommends restaurants.\u001b[0m\u001b[48;2;39;40;34m                                                     \u001b[0m\u001b[48;2;39;40;34m \u001b[0m\n",
       "\u001b[48;2;39;40;34m \u001b[0m\u001b[38;2;248;248;242;48;2;39;40;34m    You are serving Jane. Address them by name. \u001b[0m\u001b[48;2;39;40;34m                                                                 \u001b[0m\u001b[48;2;39;40;34m \u001b[0m\n",
       "\u001b[48;2;39;40;34m \u001b[0m\u001b[38;2;248;248;242;48;2;39;40;34m    Respond to the user query about dining. \u001b[0m\u001b[48;2;39;40;34m                                                                     \u001b[0m\u001b[48;2;39;40;34m \u001b[0m\n",
       "\u001b[48;2;39;40;34m \u001b[0m\u001b[38;2;248;248;242;48;2;39;40;34m    If the user asks for a restaurant recommendation respond with a specific restaurant that you know and suggest\u001b[0m\u001b[48;2;39;40;34m \u001b[0m\n",
       "\u001b[48;2;39;40;34m \u001b[0m\u001b[38;2;248;248;242;48;2;39;40;34mmenu items. \u001b[0m\u001b[48;2;39;40;34m                                                                                                     \u001b[0m\u001b[48;2;39;40;34m \u001b[0m\n",
       "\u001b[48;2;39;40;34m \u001b[0m\u001b[38;2;248;248;242;48;2;39;40;34m    Suggest restaurants that are in Chicago. \u001b[0m\u001b[48;2;39;40;34m                                                                    \u001b[0m\u001b[48;2;39;40;34m \u001b[0m\n",
       "\u001b[48;2;39;40;34m \u001b[0m\u001b[38;2;248;248;242;48;2;39;40;34m    If the user does not provide a cuisine or food preference, choose a Chinese restaurant.\u001b[0m\u001b[48;2;39;40;34m                      \u001b[0m\u001b[48;2;39;40;34m \u001b[0m\n",
       "\u001b[48;2;39;40;34m                                                                                                                   \u001b[0m\n"
      ]
     },
     "metadata": {},
     "output_type": "display_data"
    }
   ],
   "source": [
    "from tecton_gen_ai.testing.utils import print_md\n",
    "\n",
    "# create the Tecton Agent\n",
    "recommender_agent = restaurant_recommender_agent(user_preference_fv )\n",
    "\n",
    "# create a client to invoke with the agent\n",
    "client = AgentClient.from_local( recommender_agent )\n",
    "\n",
    "#test the agent using \"sys_prompt\" prompt\n",
    "print_md(client.invoke_prompt(\"sys_prompt\", kwargs=dict(user_id=\"user3\", location=\"Chicago\")))\n"
   ]
  },
  {
   "cell_type": "markdown",
   "metadata": {},
   "source": [
    "## Incorporate Contextualized Prompt into a LangChain agent\n",
    "\n",
    "The Tecton AgentClient can be used to create a LangChain agent which will use the enriched prompt to generate a response.\n",
    "In the cell below you will instantiate an LLM model using OpenAI.\n",
    "\n",
    "Obtain an [OpenAI API key](https://platform.openai.com/api-keys) and replace \"your-openai-key\" in the following cell."
   ]
  },
  {
   "cell_type": "code",
   "execution_count": 6,
   "metadata": {},
   "outputs": [],
   "source": [
    "import openai as oa\n",
    "import os\n",
    "from langchain_openai import ChatOpenAI\n",
    "\n",
    "\n",
    "# replace with your key\n",
    "# os.environ[\"OPENAI_API_KEY\"] = \"your-openai-key\"\n",
    "\n",
    "# instantiate LLM model\n",
    "gpt_llm = ChatOpenAI(model=\"gpt-4o-mini-2024-07-18\")\n",
    "\n",
    "#create a lang chain agent that uses the system_prompt \n",
    "lc_agent = client.make_agent(llm=gpt_llm, system_prompt = \"sys_prompt\")"
   ]
  },
  {
   "cell_type": "markdown",
   "metadata": {},
   "source": [
    "## Test it out\n",
    "\n",
    "In the following cells you can see how the response changes based on the `user_id` and the `location` provided resulting in a personalized response for each user and based on their current location."
   ]
  },
  {
   "cell_type": "code",
   "execution_count": 7,
   "metadata": {},
   "outputs": [
    {
     "data": {
      "text/html": [
       "<pre style=\"white-space:pre;overflow-x:auto;line-height:normal;font-family:Menlo,'DejaVu Sans Mono',consolas,'Courier New',monospace\">Hi Jim! I recommend you try <span style=\"font-weight: bold\">The Capital Grille</span> in Charlotte. This upscale American restaurant is known for its     \n",
       "dry-aged steaks and extensive wine selection. The atmosphere is elegant yet inviting, making it perfect for a nice \n",
       "evening out.                                                                                                       \n",
       "\n",
       "I suggest trying the <span style=\"font-weight: bold\">Filet Mignon</span> or the <span style=\"font-weight: bold\">Bone-In Ribeye</span>, both of which are highly praised. For a starter, their    \n",
       "<span style=\"font-weight: bold\">Pan-Fried Calamari</span> is a crowd favorite, and don’t miss out on their <span style=\"font-weight: bold\">Prosciutto Wrapped Mozzarella</span> as an appetizer. \n",
       "\n",
       "The Capital Grille offers a perfect blend of quality food and a sophisticated dining experience. Enjoy your        \n",
       "evening!                                                                                                           \n",
       "</pre>\n"
      ],
      "text/plain": [
       "Hi Jim! I recommend you try \u001b[1mThe Capital Grille\u001b[0m in Charlotte. This upscale American restaurant is known for its     \n",
       "dry-aged steaks and extensive wine selection. The atmosphere is elegant yet inviting, making it perfect for a nice \n",
       "evening out.                                                                                                       \n",
       "\n",
       "I suggest trying the \u001b[1mFilet Mignon\u001b[0m or the \u001b[1mBone-In Ribeye\u001b[0m, both of which are highly praised. For a starter, their    \n",
       "\u001b[1mPan-Fried Calamari\u001b[0m is a crowd favorite, and don’t miss out on their \u001b[1mProsciutto Wrapped Mozzarella\u001b[0m as an appetizer. \n",
       "\n",
       "The Capital Grille offers a perfect blend of quality food and a sophisticated dining experience. Enjoy your        \n",
       "evening!                                                                                                           \n"
      ]
     },
     "metadata": {},
     "output_type": "display_data"
    }
   ],
   "source": [
    "with client.set_context({\"user_id\":\"user1\", \"location\":\"Charlotte, NC\"}):\n",
    "    print_md(lc_agent.invoke({\"input\":\"suggest a restaurant for tonight and tell me why you suggest it\"})[\"output\"])"
   ]
  },
  {
   "cell_type": "code",
   "execution_count": 8,
   "metadata": {},
   "outputs": [
    {
     "data": {
      "text/html": [
       "<pre style=\"white-space:pre;overflow-x:auto;line-height:normal;font-family:Menlo,'DejaVu Sans Mono',consolas,'Courier New',monospace\">Hi Jim! I recommend checking out <span style=\"font-weight: bold\">The Smith</span> in New York, NY. It's a vibrant American brasserie that offers a lively \n",
       "atmosphere, making it perfect for a night out.                                                                     \n",
       "\n",
       "Their menu features delicious options such as the <span style=\"font-weight: bold\">Mac &amp; Cheese</span>, which is a crowd favorite, and the <span style=\"font-weight: bold\">Buttermilk Fried</span>\n",
       "<span style=\"font-weight: bold\">Chicken</span> that comes with a side of creamy coleslaw. If you're in the mood for something lighter, their <span style=\"font-weight: bold\">Chopped Salad</span>\n",
       "is fresh and satisfying.                                                                                           \n",
       "\n",
       "The Smith is known for its stylish setting and great service, making it a fantastic choice for dinner tonight.     \n",
       "Enjoy your meal!                                                                                                   \n",
       "</pre>\n"
      ],
      "text/plain": [
       "Hi Jim! I recommend checking out \u001b[1mThe Smith\u001b[0m in New York, NY. It's a vibrant American brasserie that offers a lively \n",
       "atmosphere, making it perfect for a night out.                                                                     \n",
       "\n",
       "Their menu features delicious options such as the \u001b[1mMac & Cheese\u001b[0m, which is a crowd favorite, and the \u001b[1mButtermilk Fried\u001b[0m\n",
       "\u001b[1mChicken\u001b[0m that comes with a side of creamy coleslaw. If you're in the mood for something lighter, their \u001b[1mChopped Salad\u001b[0m\n",
       "is fresh and satisfying.                                                                                           \n",
       "\n",
       "The Smith is known for its stylish setting and great service, making it a fantastic choice for dinner tonight.     \n",
       "Enjoy your meal!                                                                                                   \n"
      ]
     },
     "metadata": {},
     "output_type": "display_data"
    }
   ],
   "source": [
    "with client.set_context({\"user_id\":\"user1\", \"location\":\"New York, NY\"}):\n",
    "    print_md(lc_agent.invoke({\"input\":\"suggest a restaurant for tonight and tell me why you suggest it\"})[\"output\"])"
   ]
  },
  {
   "cell_type": "code",
   "execution_count": 9,
   "metadata": {},
   "outputs": [
    {
     "data": {
      "text/html": [
       "<pre style=\"white-space:pre;overflow-x:auto;line-height:normal;font-family:Menlo,'DejaVu Sans Mono',consolas,'Courier New',monospace\">Hi John! I recommend you try \"Carbone,\" an iconic Italian restaurant in New York, NY. It's known for its vibrant   \n",
       "atmosphere and classic Italian-American dishes.                                                                    \n",
       "\n",
       "Their spicy rigatoni vodka is a must-try, and the veal parmesan is absolutely delicious. Plus, the service is      \n",
       "exceptional, adding to the overall dining experience. It's a fantastic spot for a memorable evening out. Enjoy your\n",
       "dinner!                                                                                                            \n",
       "</pre>\n"
      ],
      "text/plain": [
       "Hi John! I recommend you try \"Carbone,\" an iconic Italian restaurant in New York, NY. It's known for its vibrant   \n",
       "atmosphere and classic Italian-American dishes.                                                                    \n",
       "\n",
       "Their spicy rigatoni vodka is a must-try, and the veal parmesan is absolutely delicious. Plus, the service is      \n",
       "exceptional, adding to the overall dining experience. It's a fantastic spot for a memorable evening out. Enjoy your\n",
       "dinner!                                                                                                            \n"
      ]
     },
     "metadata": {},
     "output_type": "display_data"
    }
   ],
   "source": [
    "with client.set_context({\"user_id\":\"user2\", \"location\":\"New York, NY\"}):\n",
    "    print_md(lc_agent.invoke({\"input\":\"suggest a restaurant for tonight and tell me why you suggest it\"})[\"output\"])"
   ]
  },
  {
   "cell_type": "code",
   "execution_count": 10,
   "metadata": {},
   "outputs": [
    {
     "data": {
      "text/html": [
       "<pre style=\"white-space:pre;overflow-x:auto;line-height:normal;font-family:Menlo,'DejaVu Sans Mono',consolas,'Courier New',monospace\">Hi Jane! I recommend trying \"Zhou's Chinese Restaurant\" in Charlotte, NC. It's a fantastic spot if you're in the   \n",
       "mood for delicious Chinese cuisine.                                                                                \n",
       "\n",
       "Their menu features a variety of dishes, but I particularly suggest the Kung Pao Chicken for a spicy kick, and the \n",
       "Sweet and Sour Pork for a classic flavor. Be sure to try their dumplings as well—they're a local favorite! The     \n",
       "atmosphere is cozy, making it a great place for a relaxed dinner. Enjoy your meal!                                 \n",
       "</pre>\n"
      ],
      "text/plain": [
       "Hi Jane! I recommend trying \"Zhou's Chinese Restaurant\" in Charlotte, NC. It's a fantastic spot if you're in the   \n",
       "mood for delicious Chinese cuisine.                                                                                \n",
       "\n",
       "Their menu features a variety of dishes, but I particularly suggest the Kung Pao Chicken for a spicy kick, and the \n",
       "Sweet and Sour Pork for a classic flavor. Be sure to try their dumplings as well—they're a local favorite! The     \n",
       "atmosphere is cozy, making it a great place for a relaxed dinner. Enjoy your meal!                                 \n"
      ]
     },
     "metadata": {},
     "output_type": "display_data"
    }
   ],
   "source": [
    "with client.set_context({\"user_id\":\"user3\", \"location\":\"Charlotte, NC\"}):\n",
    "    print_md(lc_agent.invoke({\"input\":\"suggest a restaurant for tonight and tell me why you suggest it\"})[\"output\"])\n"
   ]
  },
  {
   "cell_type": "markdown",
   "metadata": {},
   "source": [
    "## Incorporate Contextualized Prompt into a LlamaIndex agent\n",
    "\n",
    "The Tecton AgentClient can also be used to create a LlamaIndex agent which will use the enriched prompt to generate a response.\n",
    "In the cell below you will instantiate an LLM model but this time using LlamaIndex's integration with OpenAI."
   ]
  },
  {
   "cell_type": "code",
   "execution_count": 11,
   "metadata": {},
   "outputs": [],
   "source": [
    "from llama_index.llms.openai import OpenAI\n",
    "\n",
    "# instantiate LLM model\n",
    "gpt_llm = OpenAI(model=\"gpt-4o-mini-2024-07-18\")"
   ]
  },
  {
   "cell_type": "markdown",
   "metadata": {},
   "source": [
    "## Test it out\n",
    "\n",
    "In the following cells you can see how the response changes based on the `user_id` and the `location` provided resulting in a personalized response for each user and based on their current location.\n",
    "\n",
    "Notice that the LlamaIndex agent `li_agent`uses the `chat` method vs LangChain's `invoke` method. "
   ]
  },
  {
   "cell_type": "code",
   "execution_count": 12,
   "metadata": {},
   "outputs": [
    {
     "data": {
      "text/html": [
       "<pre style=\"white-space:pre;overflow-x:auto;line-height:normal;font-family:Menlo,'DejaVu Sans Mono',consolas,'Courier New',monospace\">Hi Jim! I recommend trying The Capital Grille in Charlotte, NC. It's a fantastic American steakhouse known for its \n",
       "dry-aged steaks and extensive wine list. The ambiance is upscale yet comfortable, making it perfect for a nice     \n",
       "evening out.                                                                                                       \n",
       "\n",
       "I suggest starting with their famous Lobster and Crab Cakes, followed by the Bone-In Ribeye, which is incredibly   \n",
       "flavorful and cooked to perfection. Don't forget to save room for their delicious Chocolate Cake for dessert!      \n",
       "\n",
       "The Capital Grille is a great choice for a memorable dining experience, whether you're celebrating something       \n",
       "special or just want to enjoy a great meal. Enjoy your evening!                                                    \n",
       "</pre>\n"
      ],
      "text/plain": [
       "Hi Jim! I recommend trying The Capital Grille in Charlotte, NC. It's a fantastic American steakhouse known for its \n",
       "dry-aged steaks and extensive wine list. The ambiance is upscale yet comfortable, making it perfect for a nice     \n",
       "evening out.                                                                                                       \n",
       "\n",
       "I suggest starting with their famous Lobster and Crab Cakes, followed by the Bone-In Ribeye, which is incredibly   \n",
       "flavorful and cooked to perfection. Don't forget to save room for their delicious Chocolate Cake for dessert!      \n",
       "\n",
       "The Capital Grille is a great choice for a memorable dining experience, whether you're celebrating something       \n",
       "special or just want to enjoy a great meal. Enjoy your evening!                                                    \n"
      ]
     },
     "metadata": {},
     "output_type": "display_data"
    }
   ],
   "source": [
    "#create a llama-index agent that uses the system_prompt \n",
    "li_agent = client.make_agent(llm=gpt_llm, system_prompt = \"sys_prompt\")\n",
    "\n",
    "# context: user1 in Charlotte\n",
    "with client.set_context({\"user_id\":\"user1\", \"location\":\"Charlotte, NC\"}):\n",
    "    print_md(li_agent.chat(\"suggest a restaurant for tonight and tell me why you suggest it\").response)"
   ]
  },
  {
   "cell_type": "code",
   "execution_count": 13,
   "metadata": {},
   "outputs": [
    {
     "data": {
      "text/html": [
       "<pre style=\"white-space:pre;overflow-x:auto;line-height:normal;font-family:Menlo,'DejaVu Sans Mono',consolas,'Courier New',monospace\">Hi Jim! I recommend trying \"The Smith\" in New York, NY. It's a vibrant American brasserie known for its lively     \n",
       "atmosphere and delicious comfort food.                                                                             \n",
       "\n",
       "You should definitely try their famous mac and cheese, which is a crowd favorite, and the crispy Brussels sprouts  \n",
       "for a tasty side. If you're in the mood for something heartier, the burger is a must-try, cooked to perfection and \n",
       "served with a side of their hand-cut fries.                                                                        \n",
       "\n",
       "The ambiance is perfect for a night out, making it a great choice for dinner tonight. Enjoy!                       \n",
       "</pre>\n"
      ],
      "text/plain": [
       "Hi Jim! I recommend trying \"The Smith\" in New York, NY. It's a vibrant American brasserie known for its lively     \n",
       "atmosphere and delicious comfort food.                                                                             \n",
       "\n",
       "You should definitely try their famous mac and cheese, which is a crowd favorite, and the crispy Brussels sprouts  \n",
       "for a tasty side. If you're in the mood for something heartier, the burger is a must-try, cooked to perfection and \n",
       "served with a side of their hand-cut fries.                                                                        \n",
       "\n",
       "The ambiance is perfect for a night out, making it a great choice for dinner tonight. Enjoy!                       \n"
      ]
     },
     "metadata": {},
     "output_type": "display_data"
    }
   ],
   "source": [
    "# since llama-index chat is stateful, you should create another instance if there is a change in context\n",
    "li_agent = client.make_agent(llm=gpt_llm, system_prompt = \"sys_prompt\")\n",
    "\n",
    "# context: user1 in New York\n",
    "with client.set_context({\"user_id\":\"user1\", \"location\":\"New York, NY\"}):\n",
    "    print_md(li_agent.chat(\"suggest a restaurant for tonight and tell me why you suggest it\").response)"
   ]
  },
  {
   "cell_type": "code",
   "execution_count": 14,
   "metadata": {},
   "outputs": [
    {
     "data": {
      "text/html": [
       "<pre style=\"white-space:pre;overflow-x:auto;line-height:normal;font-family:Menlo,'DejaVu Sans Mono',consolas,'Courier New',monospace\">Hi John! I recommend trying \"Caffe Siena\" in Charlotte, NC. This Italian restaurant offers a cozy atmosphere and a \n",
       "delightful menu that features authentic Italian dishes.                                                            \n",
       "\n",
       "You might enjoy their homemade pasta, especially the Fettuccine Alfredo, which is creamy and rich. Another great   \n",
       "option is the Margherita Pizza, made with fresh mozzarella and basil, providing a classic taste of Italy.          \n",
       "\n",
       "Caffe Siena is known for its warm service and inviting ambiance, making it a perfect spot for a lovely dinner      \n",
       "tonight. Enjoy your meal!                                                                                          \n",
       "</pre>\n"
      ],
      "text/plain": [
       "Hi John! I recommend trying \"Caffe Siena\" in Charlotte, NC. This Italian restaurant offers a cozy atmosphere and a \n",
       "delightful menu that features authentic Italian dishes.                                                            \n",
       "\n",
       "You might enjoy their homemade pasta, especially the Fettuccine Alfredo, which is creamy and rich. Another great   \n",
       "option is the Margherita Pizza, made with fresh mozzarella and basil, providing a classic taste of Italy.          \n",
       "\n",
       "Caffe Siena is known for its warm service and inviting ambiance, making it a perfect spot for a lovely dinner      \n",
       "tonight. Enjoy your meal!                                                                                          \n"
      ]
     },
     "metadata": {},
     "output_type": "display_data"
    }
   ],
   "source": [
    "# since llama-index chat is stateful, you should create another instance if there is a change in context\n",
    "li_agent = client.make_agent(llm=gpt_llm, system_prompt = \"sys_prompt\")\n",
    "\n",
    "# context: user2 in Charlotte\n",
    "with client.set_context({\"user_id\":\"user2\", \"location\":\"Charlotte, NC\"}):\n",
    "    print_md(li_agent.chat(\"suggest a restaurant for tonight and tell me why you suggest it\").response)"
   ]
  },
  {
   "cell_type": "code",
   "execution_count": 15,
   "metadata": {},
   "outputs": [
    {
     "data": {
      "text/html": [
       "<pre style=\"white-space:pre;overflow-x:auto;line-height:normal;font-family:Menlo,'DejaVu Sans Mono',consolas,'Courier New',monospace\">Hi Jane! I recommend trying \"Lang Van,\" a fantastic Chinese restaurant in Charlotte, NC. It's known for its        \n",
       "authentic flavors and cozy atmosphere.                                                                             \n",
       "\n",
       "You should definitely try their \"Vietnamese Pho\" and \"Spring Rolls,\" which are crowd favorites. The \"General Tso's \n",
       "Chicken\" is also a must-try if you're in the mood for something a bit spicy and sweet.                             \n",
       "\n",
       "Lang Van is a great choice for a delightful dining experience, and I think you'll really enjoy the variety and     \n",
       "quality of their dishes. Enjoy your dinner!                                                                        \n",
       "</pre>\n"
      ],
      "text/plain": [
       "Hi Jane! I recommend trying \"Lang Van,\" a fantastic Chinese restaurant in Charlotte, NC. It's known for its        \n",
       "authentic flavors and cozy atmosphere.                                                                             \n",
       "\n",
       "You should definitely try their \"Vietnamese Pho\" and \"Spring Rolls,\" which are crowd favorites. The \"General Tso's \n",
       "Chicken\" is also a must-try if you're in the mood for something a bit spicy and sweet.                             \n",
       "\n",
       "Lang Van is a great choice for a delightful dining experience, and I think you'll really enjoy the variety and     \n",
       "quality of their dishes. Enjoy your dinner!                                                                        \n"
      ]
     },
     "metadata": {},
     "output_type": "display_data"
    }
   ],
   "source": [
    "# since llama-index chat is stateful, you should create another instance if there is a change in context\n",
    "li_agent = client.make_agent(llm=gpt_llm, system_prompt = \"sys_prompt\")\n",
    "\n",
    "# context: user3 in Charlotte\n",
    "with client.set_context({\"user_id\":\"user3\", \"location\":\"Charlotte, NC\"}):\n",
    "    print_md(li_agent.chat(\"suggest a restaurant for tonight and tell me why you suggest it\").response)\n"
   ]
  },
  {
   "cell_type": "markdown",
   "metadata": {},
   "source": [
    "# Conclusion\n",
    "\n",
    "Tecton prompts are used to incorporate real-time, streaming and batch features into your generative AI applications, providing a great solution for personalization. In general, it can be used to provide up to date context for any LLM driven function and ut provides seamless integration with LangChain and LlamaIndex. \n"
   ]
  }
 ],
 "metadata": {
  "kernelspec": {
   "display_name": "tecton",
   "language": "python",
   "name": "python3"
  },
  "language_info": {
   "codemirror_mode": {
    "name": "ipython",
    "version": 3
   },
   "file_extension": ".py",
   "mimetype": "text/x-python",
   "name": "python",
   "nbconvert_exporter": "python",
   "pygments_lexer": "ipython3",
   "version": "3.11.9"
  }
 },
 "nbformat": 4,
 "nbformat_minor": 2
}
