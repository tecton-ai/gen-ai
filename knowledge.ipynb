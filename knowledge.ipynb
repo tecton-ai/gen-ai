{
 "cells": [
  {
   "cell_type": "markdown",
   "metadata": {},
   "source": [
    "# Knowledge ...\n",
    "\n",
    "\n",
    "<a target=\"_blank\" href=\"https://colab.research.google.com/github/tecton-ai/gen-ai/blob/main/knowledge.ipynb\">\n",
    "  <img src=\"https://colab.research.google.com/assets/colab-badge.svg\" alt=\"Open In Colab\" width=\"150\"/>\n",
    "</a>\n",
    "\n",
    "..."
   ]
  },
  {
   "cell_type": "markdown",
   "metadata": {},
   "source": [
    "## Install Packages"
   ]
  },
  {
   "cell_type": "code",
   "execution_count": null,
   "metadata": {},
   "outputs": [],
   "source": [
    "!pip install 'tecton-gen-ai[tecton,langchain,llama-index]' langchain-openai llama-index-llms-openai"
   ]
  },
  {
   "cell_type": "markdown",
   "metadata": {},
   "source": [
    "## Log in to Tecton\n",
    "Make sure to hit enter after pasting in your authentication token."
   ]
  },
  {
   "cell_type": "code",
   "execution_count": null,
   "metadata": {},
   "outputs": [],
   "source": [
    "import tecton\n",
    "\n",
    "tecton.login(\"explore.tecton.ai\")"
   ]
  },
  {
   "cell_type": "code",
   "execution_count": 9,
   "metadata": {},
   "outputs": [],
   "source": [
    "import pandas as pd\n",
    "\n",
    "review_data = pd.DataFrame([\n",
    "  {\n",
    "    \"user_id\": \"user1\",\n",
    "    \"restaurant_name\": \"The Capital Grille\",\n",
    "    \"rating\": 5,\n",
    "    \"review_text\": \"Exceptional dining experience! The aged steaks are out of this world. Impeccable service and ambiance. Perfect for special occasions.\",\n",
    "    \"timestamp\": \"2024-07-15T19:30:00Z\"\n",
    "  },\n",
    "  {\n",
    "    \"user_id\": \"user1\",\n",
    "    \"restaurant_name\": \"Firebirds Wood Fired Grill\",\n",
    "    \"rating\": 4,\n",
    "    \"review_text\": \"Great spot for grilled meats. The wood-fired flavor really comes through in every dish. Solid cocktail selection too.\",\n",
    "    \"timestamp\": \"2024-07-22T18:45:00Z\"\n",
    "  },\n",
    "  {\n",
    "    \"user_id\": \"user1\",\n",
    "    \"restaurant_name\": \"The Capital Grille\",\n",
    "    \"rating\": 3,\n",
    "    \"review_text\": \"Decent experience, but not as impressive as expected for the price. Steak was good, but sides were underwhelming. Service was attentive.\",\n",
    "    \"timestamp\": \"2024-07-30T20:15:00Z\"\n",
    "  },\n",
    "  {\n",
    "    \"user_id\": \"user1\",\n",
    "    \"restaurant_name\": \"Firebirds Wood Fired Grill\",\n",
    "    \"rating\": 5,\n",
    "    \"review_text\": \"Absolutely love this place! The wood-grilled salmon was perfectly cooked. Great atmosphere for a date night or family dinner.\",\n",
    "    \"timestamp\": \"2024-08-05T19:00:00Z\"\n",
    "  },\n",
    "  {\n",
    "    \"user_id\": \"user1\",\n",
    "    \"restaurant_name\": \"The Capital Grille\",\n",
    "    \"rating\": 2,\n",
    "    \"review_text\": \"Disappointing visit. The steak was overcooked, and the sides were bland. Expected much more for the price point. Service was good though.\",\n",
    "    \"timestamp\": \"2024-08-12T20:30:00Z\"\n",
    "  },\n",
    "  {\n",
    "    \"user_id\": \"user1\",\n",
    "    \"restaurant_name\": \"Firebirds Wood Fired Grill\",\n",
    "    \"rating\": 4,\n",
    "    \"review_text\": \"Consistently good food and service. The wood-fired grill adds a nice touch to everything. Their burgers are especially tasty.\",\n",
    "    \"timestamp\": \"2024-08-19T18:30:00Z\"\n",
    "  },\n",
    "  {\n",
    "    \"user_id\": \"user1\",\n",
    "    \"restaurant_name\": \"Viva Chicken\",\n",
    "    \"rating\": 3,\n",
    "    \"review_text\": \"Decent Peruvian-style chicken, but it can be hit or miss. Sometimes it's a bit dry. Love their sauces though. Good for a quick meal.\",\n",
    "    \"timestamp\": \"2024-08-26T12:45:00Z\"\n",
    "  },\n",
    "  {\n",
    "    \"user_id\": \"user2\",\n",
    "    \"restaurant_name\": \"Mama Ricotta's\",\n",
    "    \"rating\": 5,\n",
    "    \"review_text\": \"Incredible Italian cuisine! The pasta was cooked to perfection and the sauce was divine. Excellent service too. Feels like a slice of Italy.\",\n",
    "    \"timestamp\": \"2024-07-18T19:15:00Z\"\n",
    "  },\n",
    "  {\n",
    "    \"user_id\": \"user2\",\n",
    "    \"restaurant_name\": \"Villa Antonio\",\n",
    "    \"rating\": 4,\n",
    "    \"review_text\": \"Charming Italian restaurant with great pasta dishes. The ambiance is romantic and the wine list is impressive. The tiramisu is a must-try!\",\n",
    "    \"timestamp\": \"2024-07-25T20:00:00Z\"\n",
    "  },\n",
    "  {\n",
    "    \"user_id\": \"user2\",\n",
    "    \"restaurant_name\": \"Mama Ricotta's\",\n",
    "    \"rating\": 3,\n",
    "    \"review_text\": \"Okay Italian food, but I've had better. Portions are generous, which is a plus. Service was friendly. Decent spot for a casual dinner.\",\n",
    "    \"timestamp\": \"2024-08-02T18:30:00Z\"\n",
    "  },\n",
    "  {\n",
    "    \"user_id\": \"user2\",\n",
    "    \"restaurant_name\": \"Villa Antonio\",\n",
    "    \"rating\": 5,\n",
    "    \"review_text\": \"Authentic Italian flavors that transport you to Italy! The homemade pasta is outstanding. Cozy atmosphere perfect for a romantic dinner.\",\n",
    "    \"timestamp\": \"2024-08-09T19:45:00Z\"\n",
    "  },\n",
    "  {\n",
    "    \"user_id\": \"user2\",\n",
    "    \"restaurant_name\": \"Mama Ricotta's\",\n",
    "    \"rating\": 4,\n",
    "    \"review_text\": \"Cozy Italian spot with delicious homemade pasta. The garlic bread is addictive! A bit noisy on weekends, but the food makes up for it.\",\n",
    "    \"timestamp\": \"2024-08-16T20:15:00Z\"\n",
    "  },\n",
    "  {\n",
    "    \"user_id\": \"user2\",\n",
    "    \"restaurant_name\": \"Villa Antonio\",\n",
    "    \"rating\": 2,\n",
    "    \"review_text\": \"Underwhelming experience. The pasta was overcooked and the sauce lacked flavor. Service was slow. Not up to par with other Italian restaurants in the area.\",\n",
    "    \"timestamp\": \"2024-08-23T19:30:00Z\"\n",
    "  },\n",
    "  {\n",
    "    \"user_id\": \"user3\",\n",
    "    \"restaurant_name\": \"Wan Fu\",\n",
    "    \"rating\": 4,\n",
    "    \"review_text\": \"Surprisingly good Chinese food. Fresh ingredients and tasty dishes. A step above typical Chinese takeout. The kung pao chicken was excellent.\",\n",
    "    \"timestamp\": \"2024-07-20T18:00:00Z\"\n",
    "  },\n",
    "  {\n",
    "    \"user_id\": \"user3\",\n",
    "    \"restaurant_name\": \"Ru San's\",\n",
    "    \"rating\": 5,\n",
    "    \"review_text\": \"Sushi paradise! Wide variety of rolls and always fresh fish. The all-you-can-eat option is a great deal. Friendly and efficient service.\",\n",
    "    \"timestamp\": \"2024-07-28T19:30:00Z\"\n",
    "  },\n",
    "  {\n",
    "    \"user_id\": \"user3\",\n",
    "    \"restaurant_name\": \"Wan Fu Quality Chinese Cuisine\",\n",
    "    \"rating\": 3,\n",
    "    \"review_text\": \"Decent Chinese restaurant. Nothing special, but nothing terrible either. The hot and sour soup was good. Quick delivery is a plus.\",\n",
    "    \"timestamp\": \"2024-08-04T20:00:00Z\"\n",
    "  },\n",
    "  {\n",
    "    \"user_id\": \"user3\",\n",
    "    \"restaurant_name\": \"Ru San's\",\n",
    "    \"rating\": 4,\n",
    "    \"review_text\": \"Consistently good sushi at reasonable prices. The specialty rolls are creative and tasty. Nice ambiance for casual dining with friends.\",\n",
    "    \"timestamp\": \"2024-08-11T18:45:00Z\"\n",
    "  },\n",
    "  {\n",
    "    \"user_id\": \"user3\",\n",
    "    \"restaurant_name\": \"Wan Fu\",\n",
    "    \"rating\": 2,\n",
    "    \"review_text\": \"Disappointing Chinese food. Seemed reheated and lacked authentic flavors. The dumplings were good, but everything else was mediocre. Service was quick though.\",\n",
    "    \"timestamp\": \"2024-08-18T19:15:00Z\"\n",
    "  },\n",
    "  {\n",
    "    \"user_id\": \"user3\",\n",
    "    \"restaurant_name\": \"Wan Fu Quality Chinese Cuisine\",\n",
    "    \"rating\": 5,\n",
    "    \"review_text\": \"Best Chinese food I've had in the area! The flavors are authentic and everything tastes freshly made. Generous portions too. Highly recommend the Szechuan dishes.\",\n",
    "    \"timestamp\": \"2024-08-25T20:30:00Z\"\n",
    "  },\n",
    "  {\n",
    "    \"user_id\": \"user3\",\n",
    "    \"restaurant_name\": \"Ru San's\",\n",
    "    \"rating\": 3,\n",
    "    \"review_text\": \"Average sushi experience. Fish was fresh, but the rolls were a bit loose. Decent variety on the menu. Service was friendly but slow during peak hours.\",\n",
    "    \"timestamp\": \"2024-09-01T19:00:00Z\"\n",
    "  }\n",
    "]\n",
    ")\n"
   ]
  },
  {
   "cell_type": "code",
   "execution_count": null,
   "metadata": {},
   "outputs": [],
   "source": []
  },
  {
   "cell_type": "code",
   "execution_count": 13,
   "metadata": {},
   "outputs": [],
   "source": [
    "from tecton_gen_ai.agent import AgentClient, AgentService\n",
    "from tecton_gen_ai.testing import mock_knowledge\n",
    "from tecton_gen_ai.testing.utils import create_testing_vector_db_config\n",
    "\n",
    "import os\n",
    "\n",
    "# replace with your key\n",
    "os.environ[\"OPENAI_API_KEY\"] = \"your-openai-key\"\n",
    "\n",
    "conf = create_testing_vector_db_config(\"/tmp/test.db\", remove_if_exists=True)\n",
    "\n",
    "knowledge = mock_knowledge(\n",
    "    \"reviews\",\n",
    "    review_data,\n",
    "    description=\"Restaurant reviews\",\n",
    "    vector_db_config=conf,\n",
    "    vectorize_column=\"review_text\",\n",
    "    max_rows=len(review_data),\n",
    ")\n",
    "\n",
    "service = AgentService(\n",
    "    name=\"restaurant_recommender\",\n",
    "    knowledge=[knowledge],\n",
    ")\n",
    "\n",
    "client = AgentClient.from_local(service)"
   ]
  },
  {
   "cell_type": "code",
   "execution_count": 15,
   "metadata": {},
   "outputs": [],
   "source": [
    "from langchain_openai import ChatOpenAI\n",
    "\n",
    "# instantiate LLM model for  LangChain \n",
    "langchain_llm = ChatOpenAI(model=\"gpt-4o-mini\")\n",
    "\n",
    "# create invokable agent for LangChain \n",
    "langchain_agent = client.make_agent(langchain_llm)\n"
   ]
  },
  {
   "cell_type": "code",
   "execution_count": 16,
   "metadata": {},
   "outputs": [
    {
     "name": "stdout",
     "output_type": "stream",
     "text": [
      "Here’s a summary of the reviews for Villa Antonio:\n",
      "\n",
      "1. **Overall Impression**: Villa Antonio is praised for its charming ambiance and authentic Italian cuisine, making it a great spot for romantic dinners.\n",
      "\n",
      "2. **Food Quality**: Reviewers highlight the excellent pasta dishes, emphasizing that the homemade pasta is outstanding. The tiramisu is specifically mentioned as a must-try dessert.\n",
      "\n",
      "3. **Atmosphere**: The restaurant is described as cozy and romantic, ideal for couples looking for a special dining experience.\n",
      "\n",
      "4. **Wine Selection**: The wine list is noted as impressive, complementing the meal well.\n",
      "\n",
      "5. **Ratings**: The restaurant generally receives high ratings, with multiple reviews giving it scores of 4 and 5 out of 5.\n",
      "\n",
      "In summary, diners appreciate Villa Antonio for its delicious food, delightful atmosphere, and quality service, making it a favored choice for Italian dining.\n"
     ]
    }
   ],
   "source": [
    "\n",
    "with client.set_context({\"user_id\": \"user1\", \"location\":\"Ballantyne, Charlotte, NC\"}):\n",
    "    print(langchain_agent.invoke({\"input\":\"summarize reviews for Villa Antonio\"})[\"output\"])"
   ]
  },
  {
   "cell_type": "code",
   "execution_count": 21,
   "metadata": {},
   "outputs": [
    {
     "name": "stdout",
     "output_type": "stream",
     "text": [
      "### Summary of Reviews for Capital Grille\n",
      "\n",
      "#### Positive Reviews:\n",
      "1. **Exceptional Dining Experience**: Many reviewers highlighted the outstanding quality of aged steaks, describing them as \"out of this world.\" The overall ambiance and service were praised, making it a perfect spot for special occasions.\n",
      "2. **Impeccable Service**: Customers appreciated the attentive and professional service provided during their visits.\n",
      "3. **Great Atmosphere**: The restaurant was noted for its inviting ambiance, ideal for both date nights and family dinners.\n",
      "\n",
      "#### Negative Reviews:\n",
      "1. **Inconsistent Food Quality**: Some diners reported disappointing experiences, such as steaks being overcooked and sides lacking flavor. This led to a sense of dissatisfaction considering the restaurant's pricing.\n",
      "2. **Mixed Experiences with Service**: Although many mentioned good service, a few reviews indicated that the overall experience didn't meet expectations, particularly when the food quality was subpar.\n",
      "\n",
      "Overall, Capital Grille is well-regarded for its high-quality steaks and excellent service, though some customers have encountered inconsistencies that detracted from their dining experience.\n"
     ]
    }
   ],
   "source": [
    "\n",
    "with client.set_context({\"user_id\": \"user1\", \"location\":\"Ballantyne, Charlotte, NC\"}):\n",
    "    print(langchain_agent.invoke({\"input\":\"summarize good and bad reviews for Capital Grille\"})[\"output\"])"
   ]
  },
  {
   "cell_type": "code",
   "execution_count": 22,
   "metadata": {},
   "outputs": [
    {
     "name": "stdout",
     "output_type": "stream",
     "text": [
      "### Summary of Reviews for Wan Fu\n",
      "\n",
      "**Good Reviews:**\n",
      "1. **Rating: 4/5** - A user praised Wan Fu for surprisingly good Chinese food with fresh ingredients and tasty dishes, highlighting the excellent kung pao chicken.\n",
      "2. **Rating: 5/5** - Another review described it as the best Chinese food in the area, noting authentic flavors, freshly made dishes, and generous portions, particularly recommending the Szechuan dishes.\n",
      "\n",
      "**Bad Reviews:**\n",
      "1. **Rating: 3/5** - A review indicated that while the restaurant is decent, it lacks anything special. The hot and sour soup was good, but overall, it was an average experience with quick delivery.\n",
      "2. **Rating: 2/5** - A user expressed disappointment with the food, claiming it seemed reheated and lacked authentic flavors, though they mentioned that the dumplings were good. However, they found most other dishes to be mediocre, despite quick service.\n"
     ]
    }
   ],
   "source": [
    "\n",
    "with client.set_context({\"user_id\": \"user1\", \"location\":\"Ballantyne, Charlotte, NC\"}):\n",
    "    print(langchain_agent.invoke({\"input\":\"summarize good and bad reviews for Wan fu\"})[\"output\"])"
   ]
  }
 ],
 "metadata": {
  "kernelspec": {
   "display_name": "tecton",
   "language": "python",
   "name": "python3"
  },
  "language_info": {
   "codemirror_mode": {
    "name": "ipython",
    "version": 3
   },
   "file_extension": ".py",
   "mimetype": "text/x-python",
   "name": "python",
   "nbconvert_exporter": "python",
   "pygments_lexer": "ipython3",
   "version": "3.9.19"
  }
 },
 "nbformat": 4,
 "nbformat_minor": 2
}
