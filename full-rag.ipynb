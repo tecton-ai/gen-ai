{
 "cells": [
  {
   "cell_type": "markdown",
   "metadata": {},
   "source": [
    "# Using Prompts, Features as Tools and Knowledge \n",
    "\n",
    "By combining the Tecton GenAI functions, you can provide much better context in for your LLM applications.\n",
    "- The *knowledge* function provides RAG functionality by taking unstructured text and calculating embedding vectors for them and storing them in a vector database that provides similarity search capabilities to better respond to user queries. \n",
    "- The *prompt* provides instructions for the LLM and is enriched with context from feature pipelines or directly from the real-time context.\n",
    "- *Features as tools* give the LLM the ability to retrieve additional data when it needs it to respond to the user question.\n",
    "\n",
    "\n",
    "<a target=\"_blank\" href=\"https://colab.research.google.com/github/tecton-ai/gen-ai/blob/main/knowledge.ipynb\">\n",
    "  <img src=\"https://colab.research.google.com/assets/colab-badge.svg\" alt=\"Open In Colab\" width=\"150\"/>\n",
    "</a>\n",
    "\n",
    "In this notebook, you will combine all three tools to create an example restaurant recommendation chatbot."
   ]
  },
  {
   "cell_type": "markdown",
   "metadata": {},
   "source": [
    "## Install Packages"
   ]
  },
  {
   "cell_type": "code",
   "execution_count": 1,
   "metadata": {},
   "outputs": [],
   "source": [
    "_ = !pip install 'tecton-gen-ai[tecton,langchain,llama-index,dev]' langchain-openai llama-index-llms-openai"
   ]
  },
  {
   "cell_type": "markdown",
   "metadata": {},
   "source": [
    "## Setup"
   ]
  },
  {
   "cell_type": "code",
   "execution_count": 3,
   "metadata": {},
   "outputs": [],
   "source": [
    "from tecton_gen_ai.testing import set_dev_mode\n",
    "\n",
    "set_dev_mode()"
   ]
  },
  {
   "cell_type": "markdown",
   "metadata": {},
   "source": [
    "In this example you will use an OpenAI gpt-4o LLM model to test. \n",
    "\n",
    "You will need to provide an Open AI API key for this purpose.\n",
    "\n",
    "Replace \"your-openai-key\" with your own key."
   ]
  },
  {
   "cell_type": "code",
   "execution_count": 82,
   "metadata": {},
   "outputs": [],
   "source": [
    "import os\n",
    "\n",
    "# replace with your key\n",
    "os.environ[\"OPENAI_API_KEY\"] = \"your-openai-key\""
   ]
  },
  {
   "cell_type": "markdown",
   "metadata": {},
   "source": [
    "# Feature Views\n",
    "In the following cell you create two mock feature views:\n",
    "- user_info_fv: provides each user's profile information, including name, age and food_preference. \n",
    "- recent_eats_fv: provides a list of the last three restaurants each user visited."
   ]
  },
  {
   "cell_type": "code",
   "execution_count": 6,
   "metadata": {},
   "outputs": [],
   "source": [
    "from tecton_gen_ai.testing import make_local_batch_feature_view\n",
    "\n",
    "\n",
    "# mock user info data\n",
    "user_info = [\n",
    "    {\"user_id\": \"user1\", \"name\": \"Jim\",  \"age\": 30, \"food_preference\": \"American\"},\n",
    "    {\"user_id\": \"user2\", \"name\": \"John\", \"age\": 40, \"food_preference\": \"Italian\"},\n",
    "    {\"user_id\": \"user3\", \"name\": \"Jane\", \"age\": 50, \"food_preference\": \"Chinese\"},\n",
    "]\n",
    "user_info_fv = make_local_batch_feature_view(\n",
    "    \"user_info_fv\",\n",
    "    user_info,\n",
    "    [\"user_id\"],\n",
    "    description=\"User's basic information.\"\n",
    ")\n",
    "\n",
    "# mock user's recent visits \n",
    "recent_eats = [\n",
    "    {\"user_id\": \"user1\", \"last_3_visits\":str([\"Mama Ricotta's\", \"The Capital Grille\", \"Firebirds Wood Fired Grill\"])},\n",
    "    {\"user_id\": \"user2\", \"last_3_visits\":str([\"Mama Ricotta's\", \"Villa Antonio\", \"Viva Chicken\"])},\n",
    "    {\"user_id\": \"user3\", \"last_3_visits\":str([\"Wan Fu\", \"Wan Fu Quality Chinese Cuisine\", \"Ru San's\"])},\n",
    "]\n",
    "recent_eats_fv = make_local_batch_feature_view(\n",
    "    \"recent_eats_fv\",\n",
    "    recent_eats,\n",
    "    [\"user_id\"],\n",
    "    description=\"User's recent restaurant visits.\"\n",
    ")"
   ]
  },
  {
   "cell_type": "markdown",
   "metadata": {},
   "source": [
    "# Restaurant Descriptions - Source of Knowledge\n",
    "You'll use a sample of restaurants descriptions as a base of knowledge. "
   ]
  },
  {
   "cell_type": "code",
   "execution_count": 7,
   "metadata": {},
   "outputs": [],
   "source": [
    "# create mock restaurant description data for knowledge\n",
    "restaurant_descriptions = [\n",
    "  {\n",
    "    \"name\": \"Mama Ricotta's\",\n",
    "    \"description\": \"A Charlotte staple since 1992, Mama Ricotta's offers authentic Italian cuisine in a warm, family-friendly atmosphere. Known for their hand-tossed pizzas, homemade pasta, and signature chicken parmesan.\"\n",
    "  },\n",
    "  {\n",
    "    \"name\": \"The Capital Grille\",\n",
    "    \"description\": \"An upscale steakhouse chain featuring dry-aged steaks, fresh seafood, and an extensive wine list. The Charlotte location offers a refined dining experience with impeccable service and a sophisticated ambiance.\"\n",
    "  },\n",
    "  {\n",
    "    \"name\": \"Firebirds Wood Fired Grill\",\n",
    "    \"description\": \"A polished casual restaurant known for its classic American cuisine cooked over an open wood fire. Specialties include hand-cut steaks, fresh seafood, and signature cocktails in a warm, contemporary setting.\"\n",
    "  },\n",
    "  {\n",
    "    \"name\": \"Villa Antonio\",\n",
    "    \"description\": \"An elegant Italian restaurant offering a romantic atmosphere and authentic cuisine. Known for its homemade pasta, extensive wine selection, and attentive service, perfect for special occasions.\"\n",
    "  },\n",
    "  {\n",
    "    \"name\": \"Viva Chicken\",\n",
    "    \"description\": \"A fast-casual eatery specializing in Peruvian-style rotisserie chicken. Offers fresh, flavorful dishes with a modern twist on traditional Peruvian cuisine, including quinoa stuffed avocados and yuca fries.\"\n",
    "  },\n",
    "  {\n",
    "    \"name\": \"Wan Fu\",\n",
    "    \"description\": \"A local favorite for Chinese cuisine, Wan Fu offers a wide array of traditional and Americanized Chinese dishes. Known for its generous portions, friendly service, and comfortable dining atmosphere.\"\n",
    "  },\n",
    "  {\n",
    "    \"name\": \"Wan Fu Quality Chinese Cuisine\",\n",
    "    \"description\": \"An upscale Chinese restaurant focusing on authentic flavors and high-quality ingredients. Offers a more refined dining experience with a menu featuring both classic and innovative Chinese dishes.\"\n",
    "  },\n",
    "  {\n",
    "    \"name\": \"Ru San's\",\n",
    "    \"description\": \"A popular sushi restaurant known for its extensive menu and all-you-can-eat option. Offers a wide variety of sushi rolls, sashimi, and other Japanese dishes in a casual, vibrant atmosphere.\"\n",
    "  },\n",
    "  {\n",
    "    \"name\": \"Le Bernardin\",\n",
    "    \"description\": \"A world-renowned, Michelin three-star restaurant specializing in exquisite seafood. Chef Eric Ripert's menu features innovative preparations of the finest global seafood in an elegant setting.\"\n",
    "  },\n",
    "  {\n",
    "    \"name\": \"Katz's Delicatessen\",\n",
    "    \"description\": \"An iconic New York institution since 1888, famous for its hand-carved pastrami and corned beef sandwiches. The bustling, no-frills atmosphere is part of its enduring charm.\"\n",
    "  },\n",
    "  {\n",
    "    \"name\": \"Eleven Madison Park\",\n",
    "    \"description\": \"A three-Michelin-starred restaurant offering an innovative tasting menu focusing on locally sourced, plant-based ingredients. Known for its impeccable service and artistic presentation.\"\n",
    "  },\n",
    "  {\n",
    "    \"name\": \"Peter Luger Steak House\",\n",
    "    \"description\": \"A Brooklyn institution since 1887, Peter Luger is famous for its dry-aged steaks and old-school, cash-only policy. The no-frills atmosphere focuses attention on the exceptional quality of the meat.\"\n",
    "  },\n",
    "  {\n",
    "    \"name\": \"Di Fara Pizza\",\n",
    "    \"description\": \"A legendary Brooklyn pizzeria, Di Fara is known for its handcrafted pies made by founder Dom DeMarco. Each pizza is a work of art, featuring high-quality ingredients and meticulous preparation.\"\n",
    "  },\n",
    "  {\n",
    "    \"name\": \"Balthazar\",\n",
    "    \"description\": \"A SoHo classic, Balthazar offers authentic French brasserie fare in a vibrant, bustling atmosphere. Known for its fresh seafood, classic French dishes, and popular weekend brunch.\"\n",
    "  },\n",
    "  {\n",
    "    \"name\": \"Momofuku Ko\",\n",
    "    \"description\": \"Chef David Chang's two-Michelin-starred restaurant offers an ever-changing tasting menu blending Asian and Western influences. The intimate counter seating provides a unique, interactive dining experience.\"\n",
    "  },\n",
    "  {\n",
    "    \"name\": \"The Halal Guys\",\n",
    "    \"description\": \"Starting as a food cart, The Halal Guys has become a New York institution. Famous for its chicken and gyro over rice, topped with their legendary white sauce. Now with brick-and-mortar locations.\"\n",
    "  },\n",
    "  {\n",
    "    \"name\": \"Russ & Daughters\",\n",
    "    \"description\": \"A New York classic since 1914, specializing in traditional Jewish appetizing foods. Famous for its hand-sliced smoked salmon, bagels, and other Jewish delicacies. Now includes a sit-down cafe.\"\n",
    "  },\n",
    "  {\n",
    "    \"name\": \"Lombardi's\",\n",
    "    \"description\": \"America's first pizzeria, established in 1905. Lombardi's continues to serve classic New York-style pizza from its coal-fired oven. Known for its simple, high-quality ingredients and historic charm.\"\n",
    "  },\n",
    "  {\n",
    "    \"name\": \"Joe's Shanghai\",\n",
    "    \"description\": \"Famous for introducing soup dumplings to New York, Joe's Shanghai offers authentic Shanghai-style cuisine. The bustling, no-frills atmosphere adds to the authentic experience.\"\n",
    "  }\n",
    "]"
   ]
  },
  {
   "cell_type": "markdown",
   "metadata": {},
   "source": [
    "# The Prompt\n",
    "\n",
    "The following cell creates the prompt for our restaurant recommendation example.\n",
    "\n",
    "- It uses a *request source* to obtain the location directly from the execution context.\n",
    "- It incorporates the user's name into the prompt instructions from the user_info_fv"
   ]
  },
  {
   "cell_type": "code",
   "execution_count": 8,
   "metadata": {},
   "outputs": [],
   "source": [
    "from tecton_gen_ai.utils.tecton_utils import make_request_source\n",
    "from tecton_gen_ai.fco import prompt\n",
    "\n",
    "#define real-time request source\n",
    "location_request = make_request_source(location = str)\n",
    "\n",
    "#create the prompt\n",
    "@prompt(sources=[location_request, user_info_fv])  # specifies sources of data for the prompt\n",
    "def sys_prompt(location_request, user_info_fv ):\n",
    "    location = location_request[\"location\"]\n",
    "    name = user_info_fv[\"name\"]\n",
    "    return f\"\"\"\n",
    "    Address the user by their name. Their name is {name}.\n",
    "    You are a consierge service that recommends restaurants.\n",
    "    Respond to the user's question. \n",
    "    If the user asks for a restaurant recommendation respond with a specific restaurant that you know and suggested menu items. \n",
    "    Only suggest restaurants that are in or near {location}. \n",
    "    \"\"\"\n"
   ]
  },
  {
   "cell_type": "markdown",
   "metadata": {},
   "source": [
    "# The Knowledge\n",
    "\n",
    "Allows you to add your unstructured data \n",
    "self select\n",
    "retrieve data"
   ]
  },
  {
   "cell_type": "code",
   "execution_count": 12,
   "metadata": {},
   "outputs": [],
   "source": [
    "\n",
    "from tecton_gen_ai.testing.utils import make_local_vector_db_config\n",
    "from tecton_gen_ai.testing import make_local_source\n",
    "from tecton_gen_ai.fco import source_as_knowledge\n",
    "\n",
    "#provide a vector db config\n",
    "conf = make_local_vector_db_config()\n",
    "\n",
    "src = make_local_source(\n",
    "    \"restaurant_descriptions\",\n",
    "    restaurant_descriptions,\n",
    "    [\"name\"],\n",
    "    description=\"Restaurant descriptions\",\n",
    ")\n",
    "\n",
    "#create embeddings of the restaurant descriptions in the vector DB\n",
    "restaurant_knowledge = source_as_knowledge(\n",
    "    src,\n",
    "    description=\"Restaurant descriptions\",\n",
    "    vector_db_config=conf,\n",
    "    vectorize_column=\"description\",\n",
    ")\n",
    "\n"
   ]
  },
  {
   "cell_type": "markdown",
   "metadata": {},
   "source": [
    "# Agent Service\n",
    "\n",
    "This example agent service, encapsulates the context and information retrieval being made available:\n",
    "- sys_prompt \n",
    "- restaurant_knowledge\n",
    "- user_info_fv & recent_eats_fv feature views\n",
    "\n",
    "In a production application, an Agent Service is deployed to the Tecton Platform to provide prompts, knowledge and data retrieval through features as tools at scale, through Tecton's serving infrastructure."
   ]
  },
  {
   "cell_type": "code",
   "execution_count": 13,
   "metadata": {},
   "outputs": [],
   "source": [
    "from tecton_gen_ai.agent import AgentClient, AgentService\n",
    "\n",
    "#define the Tecton Agent Service specifying the prompts, sources of knowledge and feature tools \n",
    "service = AgentService(\n",
    "    name=\"restaurant_recommender\",\n",
    "    prompts=[sys_prompt],\n",
    "    knowledge=[restaurant_knowledge],\n",
    "    tools=[ user_info_fv, recent_eats_fv]\n",
    ")"
   ]
  },
  {
   "cell_type": "markdown",
   "metadata": {},
   "source": [
    "# Agent Client\n",
    "In order to interact with the LLM, you can create an Agent Client that interacts with the Agent Service and provides the interface through which the LLM workflow can retrieve the prompts, knowledge and feature data retrieval.\n",
    "\n",
    "The following cell shows an example of this using LangChain and OpenAI's gpt-4o model:"
   ]
  },
  {
   "cell_type": "code",
   "execution_count": 14,
   "metadata": {},
   "outputs": [],
   "source": [
    "from langchain_openai import ChatOpenAI\n",
    "\n",
    "#create an agent client that provides context for LLM workflows\n",
    "client = AgentClient.from_local(service)\n",
    "\n",
    "# instantiate LLM model for  LangChain \n",
    "langchain_llm = ChatOpenAI(model=\"gpt-4o-mini-2024-07-18\")\n",
    "\n",
    "# create invocable agent for LangChain \n",
    "langchain_agent = client.make_agent(langchain_llm, system_prompt=\"sys_prompt\")\n"
   ]
  },
  {
   "cell_type": "markdown",
   "metadata": {},
   "source": [
    "# Tests\n",
    "\n",
    "The following test uses the user's id and their current location to respond to the user request.\n",
    "\n",
    "- It uses knowledge to determine which restaurant's descriptions include a romantic or intimate experience.\n",
    "- It uses the user's information to refer to them by name.\n",
    "- It uses the current location of the user to determine which restaurants are in that location."
   ]
  },
  {
   "cell_type": "code",
   "execution_count": 15,
   "metadata": {},
   "outputs": [
    {
     "name": "stdout",
     "output_type": "stream",
     "text": [
      "None\n",
      "For a romantic dinner in Charlotte, I recommend **Villa Antonio**. This elegant Italian restaurant offers a charming atmosphere along with authentic cuisine. You can enjoy their homemade pasta, extensive wine selection, and attentive service, making it perfect for a special occasion.\n",
      "\n",
      "Some suggested menu items include:\n",
      "- Caprese Salad\n",
      "- Lobster Ravioli\n",
      "- Tiramisu for dessert\n",
      "\n",
      "Enjoy your evening, Jim!\n"
     ]
    }
   ],
   "source": [
    "#from tecton_gen_ai.testing.utils import print_md\n",
    "\n",
    "with client.set_context({\"user_id\": \"user1\", \"location\":\"Charlotte, NC\"}):\n",
    "    print(langchain_agent.invoke({\"input\":\"recommend a romantic dinner\"})[\"output\"])"
   ]
  },
  {
   "cell_type": "markdown",
   "metadata": {},
   "source": [
    "In the following example, for `user2` the LLM uses his name, and their food preference from the user info feature view.\n",
    "\n",
    "It also figures out a restaurant that the user has not been to recently by retrieving that data from a tool."
   ]
  },
  {
   "cell_type": "code",
   "execution_count": 16,
   "metadata": {},
   "outputs": [
    {
     "name": "stdout",
     "output_type": "stream",
     "text": [
      "None\n",
      "John, I recommend you try **Di Fara Pizza**. It's a legendary Brooklyn pizzeria known for its handcrafted pies made by founder Dom DeMarco. Each pizza is a work of art, featuring high-quality ingredients and meticulous preparation. \n",
      "\n",
      "You might enjoy their classic Margherita pizza or the pepperoni pizza, which are both crowd favorites. It's a great spot if you're looking for authentic Italian pizza!\n"
     ]
    }
   ],
   "source": [
    "\n",
    "with client.set_context({\"user_id\": \"user2\", \"location\":\"Charlotte, NC\"}):\n",
    "    print(langchain_agent.invoke({\"input\":\"Recommend a place I haven't been to before that serves my preference\"})[\"output\"])"
   ]
  },
  {
   "cell_type": "markdown",
   "metadata": {},
   "source": [
    "In this example, the user just refers to a specific chef.\n",
    "The LLM uses the knowledge to find that chef's restaurant and determines that it is not near the user's location but still recommends an option near them which offers a similar cuisine."
   ]
  },
  {
   "cell_type": "code",
   "execution_count": 17,
   "metadata": {},
   "outputs": [
    {
     "name": "stdout",
     "output_type": "stream",
     "text": [
      "None\n",
      "While Chef Eric Ripert is known for his restaurant Le Bernardin, which specializes in exquisite seafood, it's located in New York City and not in Ballantyne, Charlotte. However, if you're looking for a great seafood experience locally, I recommend **Mama Ricotta's**. \n",
      "\n",
      "They offer a warm, family-friendly atmosphere and are known for their delicious hand-tossed pizzas and homemade pasta. Some suggested menu items include their signature chicken parmesan and a variety of fresh pasta dishes. Enjoy your meal, Jane!\n"
     ]
    }
   ],
   "source": [
    "\n",
    "with client.set_context({\"user_id\": \"user3\", \"location\":\"Ballantyne, Charlotte, NC\"}):\n",
    "    print(langchain_agent.invoke({\"input\":\"I want to eat with Chef Eric Ripert\"})[\"output\"])"
   ]
  },
  {
   "cell_type": "markdown",
   "metadata": {},
   "source": [
    "In the following example the user is asking for food like Chef Eric Ripert's but less expensive.\n",
    "The LLM uses the knowledge it has about Chef Eric Riperts restaurant to suggest a less expensive alternative."
   ]
  },
  {
   "cell_type": "code",
   "execution_count": 18,
   "metadata": {},
   "outputs": [
    {
     "name": "stdout",
     "output_type": "stream",
     "text": [
      "None\n",
      "None\n",
      "Jane, based on your recent visits to \"Wan Fu\" and \"Ru San's,\" I recommend trying **\"Wan Fu Quality Chinese Cuisine.\"** This upscale Chinese restaurant focuses on authentic flavors and high-quality ingredients, providing a refined dining experience. You can expect a menu featuring both classic and innovative Chinese dishes.\n",
      "\n",
      "If you're in the mood for Japanese cuisine, you might also enjoy **\"Ru San's,\"** which is known for its extensive sushi menu and all-you-can-eat options in a casual atmosphere. \n",
      "\n",
      "Both places would complement your recent dining experiences well!\n"
     ]
    }
   ],
   "source": [
    "with client.set_context({\"user_id\": \"user3\", \"location\":\"New York\"}):\n",
    "    print(langchain_agent.invoke({\"input\":\"I have never been here, what restaurant is most like the ones I visit\"})[\"output\"])"
   ]
  },
  {
   "cell_type": "code",
   "execution_count": null,
   "metadata": {},
   "outputs": [],
   "source": []
  }
 ],
 "metadata": {
  "kernelspec": {
   "display_name": "tecton",
   "language": "python",
   "name": "python3"
  },
  "language_info": {
   "codemirror_mode": {
    "name": "ipython",
    "version": 3
   },
   "file_extension": ".py",
   "mimetype": "text/x-python",
   "name": "python",
   "nbconvert_exporter": "python",
   "pygments_lexer": "ipython3",
   "version": "3.11.9"
  }
 },
 "nbformat": 4,
 "nbformat_minor": 2
}
